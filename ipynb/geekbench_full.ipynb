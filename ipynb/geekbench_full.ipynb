{
 "cells": [
  {
   "cell_type": "markdown",
   "id": "ff00232a-a2be-48c0-8937-abe3a0e99418",
   "metadata": {},
   "source": [
    "# Setup"
   ]
  },
  {
   "cell_type": "code",
   "execution_count": null,
   "id": "cecd20c6-2560-4f7a-9df2-c9a1413b7452",
   "metadata": {
    "tags": []
   },
   "outputs": [],
   "source": [
    "import os\n",
    "import logging as log\n",
    "from lisa.utils import setup_logging\n",
    "setup_logging(level=log.ERROR)\n",
    "\n",
    "from lisa.trace import Trace\n",
    "from lisa.wa import WAOutput\n",
    "from lisa.stats import Stats\n",
    "from lisa.datautils import series_mean\n",
    "from pandas import DataFrame\n",
    "import pandas as pd\n",
    "import scipy as sp\n",
    "import numpy as np\n",
    "import plotly.express as px\n",
    "import plotly.io as pio\n",
    "import plotly.graph_objects as go\n",
    "import holoviews as hv\n",
    "from holoviews import opts\n",
    "from bokeh.themes import built_in_themes\n",
    "from tabulate import tabulate\n",
    "\n",
    "from wp.notebook import WorkloadNotebookAnalysis, trim_wa_path, ptable, trim_number\n",
    "\n",
    "\n",
    "hv.extension('bokeh')\n",
    "hv.renderer('bokeh').theme = built_in_themes['dark_minimal']\n",
    "hv.renderer('bokeh').webgl = True\n",
    "pio.templates.default = \"plotly\"\n",
    "pio.templates.default = \"plotly_dark\"\n",
    "\n",
    "color_cycle = hv.Cycle(['#636EFA', '#EF553B', '#00CC96', '#AB63FA', '#FFA15A', '#19D3F3', '#FF6692', '#B6E880', '#FF97FF', '#FECB52'])\n",
    "\n",
    "opts.defaults(\n",
    "    opts.Curve(tools=['hover'], show_grid=True, color=color_cycle, muted_alpha=0),\n",
    "    opts.Table(bgcolor='black')\n",
    ")"
   ]
  },
  {
   "cell_type": "markdown",
   "id": "41e20065-b59c-4d93-9fc2-d828c929f174",
   "metadata": {},
   "source": [
    "## Runs"
   ]
  },
  {
   "cell_type": "code",
   "execution_count": null,
   "id": "76631069",
   "metadata": {
    "tags": []
   },
   "outputs": [],
   "source": [
    "gb5 = WorkloadNotebookAnalysis('/home/kajpuc01/power/pixel6/geekbench/', [\n",
    "    'geekbench_product_baseline_3_1407',\n",
    "    'geekbench_product_arm_vh_sched_debug_3_1907',\n",
    "])\n",
    "\n",
    "gb5.show()"
   ]
  },
  {
   "cell_type": "markdown",
   "id": "f367aadf-d0db-46a7-a147-246d17358d65",
   "metadata": {},
   "source": [
    "# Benchmark scores"
   ]
  },
  {
   "cell_type": "markdown",
   "id": "9f67f101-e3b1-49c2-8628-b739d90a1785",
   "metadata": {},
   "source": [
    "## Line plot"
   ]
  },
  {
   "cell_type": "code",
   "execution_count": null,
   "id": "31bcdb31-01dd-46bf-ab44-fb545c218bf5",
   "metadata": {
    "tags": []
   },
   "outputs": [],
   "source": [
    "metrics = ['multicore_score', 'score']\n",
    "ds = hv.Dataset(gb5.results, ['iteration', hv.Dimension('wa_path', values=gb5.wa_paths), hv.Dimension('metric', values=metrics)], 'value')\n",
    "layout = ds.select(metric=metrics).to(hv.Curve, 'iteration', 'value').overlay('wa_path').opts(legend_position='bottom').layout('metric').opts(shared_axes=False, title='Benchmark score per-iteration').cols(2)\n",
    "layout.opts(\n",
    "    opts.Curve(height=600, width=900),\n",
    ")\n",
    "layout"
   ]
  },
  {
   "cell_type": "markdown",
   "id": "a0767de4-b599-4321-aedb-c335d9ac730b",
   "metadata": {},
   "source": [
    "## Bar plot"
   ]
  },
  {
   "cell_type": "code",
   "execution_count": null,
   "id": "e166d27b-6b76-40d8-b5b4-f382f3bed602",
   "metadata": {
    "tags": []
   },
   "outputs": [],
   "source": [
    "gb5.summary['scores'] = gb5.plot_gmean_bars(gb5.results.query(\"metric in @metrics\"), x='stat', y='value', facet_col='metric', facet_col_wrap=3, title='gmean benchmark score', width=1600, height=600)"
   ]
  },
  {
   "cell_type": "markdown",
   "id": "8ecb4da7-16cf-4c35-8668-319b2dcaa66a",
   "metadata": {},
   "source": [
    "# Overutilized"
   ]
  },
  {
   "cell_type": "code",
   "execution_count": null,
   "id": "b492af58-8fbc-4043-b0ef-5b2eaa3ada80",
   "metadata": {
    "tags": []
   },
   "outputs": [],
   "source": [
    "def postprocess_overutil(df):\n",
    "    df['time'] = round(df['time'], 2)\n",
    "    df['total_time'] = round(df['total_time'], 2)\n",
    "    return df\n",
    "\n",
    "gb5.load_combined_analysis('overutilized.pqt', postprocess=postprocess_overutil)\n",
    "gb5.load_combined_analysis('overutilized_mean.pqt')\n",
    "ptable(gb5.analysis['overutilized_mean'])"
   ]
  },
  {
   "cell_type": "markdown",
   "id": "010f1996-cf18-401d-b0c3-176a55d84ab7",
   "metadata": {},
   "source": [
    "## Line plot"
   ]
  },
  {
   "cell_type": "code",
   "execution_count": null,
   "id": "c5469cac-4b20-4e49-9d86-84a8bbe20191",
   "metadata": {
    "tags": []
   },
   "outputs": [],
   "source": [
    "gb5.plot_lines_px(gb5.analysis['overutilized'], y='percentage', title='Overutilized percentage per-iteration')"
   ]
  },
  {
   "cell_type": "markdown",
   "id": "41063ef2-6933-4a5f-9a4d-3c2102e2b051",
   "metadata": {},
   "source": [
    "# Perf"
   ]
  },
  {
   "cell_type": "markdown",
   "id": "10eaab41-98e1-4510-8104-afdab8d7ea89",
   "metadata": {},
   "source": [
    "## Line plot"
   ]
  },
  {
   "cell_type": "code",
   "execution_count": null,
   "id": "76015fad-1b2c-42b3-b51a-ef3fa2e213fd",
   "metadata": {},
   "outputs": [],
   "source": [
    "metrics = ['cpu-migrations', 'context-switches', 'stalled-cycles-backend', 'page-faults', 'major-faults', 'cache-misses', 'instructions', 'cpu-cycles', 'cpu-clock']\n",
    "ds = hv.Dataset(gb5.results_perf, ['iteration', hv.Dimension('wa_path', values=gb5.wa_paths), hv.Dimension('metric', values=metrics)], 'value')\n",
    "layout = ds.select(metric=metrics).to(hv.Curve, 'iteration', 'value').overlay('wa_path').opts(legend_position='bottom').layout('metric').opts(shared_axes=False, title='Perf counters').cols(3)\n",
    "layout.opts(\n",
    "    opts.Curve(width=600, height=340),\n",
    "    opts.Overlay(legend_position='bottom'),\n",
    ")\n",
    "layout"
   ]
  },
  {
   "cell_type": "markdown",
   "id": "27799672-3e88-4d8f-872a-744661ac5fde",
   "metadata": {},
   "source": [
    "## Bar plot"
   ]
  },
  {
   "cell_type": "code",
   "execution_count": null,
   "id": "ab6e024f-4504-4243-bd80-77ae9412d8d4",
   "metadata": {},
   "outputs": [],
   "source": [
    "metrics = ['cpu-migrations', 'context-switches', 'stalled-cycles-backend', 'page-faults', 'major-faults', 'minor-faults', 'cache-misses', 'instructions', 'cpu-cycles', 'cpu-clock']\n",
    "gb5.plot_gmean_bars(gb5.results_perf.query(\"metric in @metrics\"), x='stat', y='value', facet_col='metric', facet_col_wrap=5, title='gmean perf counters', width=1900, height=900)"
   ]
  },
  {
   "cell_type": "markdown",
   "id": "90d8f0fb-a413-47eb-8fcf-e026f976d67c",
   "metadata": {},
   "source": [
    "# Idle residency"
   ]
  },
  {
   "cell_type": "code",
   "execution_count": null,
   "id": "96fc982f-a400-4a41-aedf-dcf5565ac62d",
   "metadata": {},
   "outputs": [],
   "source": [
    "gb5.load_combined_analysis('idle_residency.pqt')\n",
    "gb5.analysis['idle_residency'] = gb5.analysis['idle_residency'].groupby(['wa_path', 'cluster', 'idle_state'], sort=False).mean(numeric_only=True).reset_index()[['wa_path', 'cluster', 'idle_state', 'time']]\n",
    "gb5.analysis['idle_residency']['time'] = round(gb5.analysis['idle_residency']['time'], 2)\n",
    "\n",
    "display(gb5.analysis['idle_residency'])"
   ]
  },
  {
   "cell_type": "markdown",
   "id": "9265a2af-4f08-4767-8c36-4cc794d50d4a",
   "metadata": {},
   "source": [
    "## Bar plot"
   ]
  },
  {
   "cell_type": "code",
   "execution_count": null,
   "id": "90f46686-8970-4799-b7f0-af4b5ccefd8d",
   "metadata": {},
   "outputs": [],
   "source": [
    "fig = px.bar(gb5.analysis['idle_residency'], x='idle_state', y='time', color='wa_path', facet_col='cluster', barmode='group', text=gb5.analysis['idle_residency']['time'], width=1800, height=600, title='Idle state residencies')\n",
    "fig.update_traces(textposition='outside')\n",
    "fig.show(renderer='iframe')"
   ]
  },
  {
   "cell_type": "markdown",
   "id": "c5a0e4a6-30a9-42fd-bfad-5f4da92e96b8",
   "metadata": {},
   "source": [
    "# Idle misses"
   ]
  },
  {
   "cell_type": "code",
   "execution_count": null,
   "id": "7652f5b4-4c0e-4177-8ecc-35269153f29d",
   "metadata": {},
   "outputs": [],
   "source": [
    "def load_idle_misses(analysis):\n",
    "    def load_idle_miss_df(analysis_dir):\n",
    "        try:\n",
    "            wakeup_count = len(pd.read_parquet(os.path.join(analysis_dir, 'cpu_idle.pqt')).query(\"state == -1\"))\n",
    "            misses = pd.read_parquet(os.path.join(analysis_dir, 'cpu_idle_miss_counts.pqt')).groupby(['wa_path', 'kernel', 'cluster', 'below']).sum().reset_index()\n",
    "            misses['count_perc'] = round(misses['count'] / wakeup_count * 100, 3)\n",
    "            return misses\n",
    "        except FileNotFoundError as e:\n",
    "            print(e)\n",
    "\n",
    "    return pd.concat([load_idle_miss_df(os.path.join(analysis.benchmark_path, benchmark_dir, 'analysis')) for benchmark_dir in analysis.benchmark_dirs])\n",
    "\n",
    "\n",
    "gb5.analysis['cpu_idle_misses'] = load_idle_misses(gb5)\n",
    "gb5.analysis['cpu_idle_misses']['type'] = gb5.analysis['cpu_idle_misses']['below'].replace(0, 'too deep').replace(1, 'too shallow')\n",
    "gb5.analysis['cpu_idle_misses']['wa_path'] = gb5.analysis['cpu_idle_misses']['wa_path'].map(trim_wa_path)\n",
    "\n",
    "display(gb5.analysis['cpu_idle_misses'])"
   ]
  },
  {
   "cell_type": "markdown",
   "id": "85154dbd-7e6d-42e5-ab77-ca8bf244d810",
   "metadata": {},
   "source": [
    "## Bar plot"
   ]
  },
  {
   "cell_type": "code",
   "execution_count": null,
   "id": "1ad450e7-4f26-4ee6-be9c-c2b33707b435",
   "metadata": {},
   "outputs": [],
   "source": [
    "ptable(gb5.analysis['cpu_idle_misses'].groupby(['wa_path', 'type']).sum().reset_index()[['wa_path', 'type', 'count_perc']])\n",
    "fig = px.bar(gb5.analysis['cpu_idle_misses'], x='type', y='count_perc', color='wa_path', facet_col='cluster', barmode='group', text=gb5.analysis['cpu_idle_misses']['count_perc'], width=1800, height=600, title='CPUIdle misses as percentage of all wakeups')\n",
    "fig.show(renderer='iframe')"
   ]
  },
  {
   "cell_type": "markdown",
   "id": "ef18dfd4-9020-4666-8cb9-55021e206840",
   "metadata": {},
   "source": [
    "# Power usage"
   ]
  },
  {
   "cell_type": "code",
   "execution_count": null,
   "id": "03562334-977f-4f5e-ae5a-4c88d9767b65",
   "metadata": {
    "tags": []
   },
   "outputs": [],
   "source": [
    "def postprocess_pixel6_emeter_means(df):\n",
    "    df_total = df.groupby(['wa_path', 'kernel', 'iteration']).sum(numeric_only=True).reset_index()\n",
    "    df_total['channel'] = 'Total'\n",
    "\n",
    "    df_cpu_total = df.query(\"channel.str.startswith('CPU')\").groupby(['wa_path', 'kernel', 'iteration']).sum(numeric_only=True).reset_index()\n",
    "    df_cpu_total['channel'] = 'CPU'\n",
    "    return pd.concat([df, df_cpu_total, df_total])[['wa_path', 'kernel', 'iteration', 'channel', 'power']]\n",
    "\n",
    "\n",
    "\n",
    "gb5.load_combined_analysis('pixel6_emeter.pqt')\n",
    "gb5.load_combined_analysis('pixel6_emeter_mean.pqt', postprocess=postprocess_pixel6_emeter_means)\n",
    "\n",
    "display(gb5.analysis['pixel6_emeter_mean'].head())"
   ]
  },
  {
   "cell_type": "markdown",
   "id": "2b6618dc-34d2-4f55-937a-0644ad9424ae",
   "metadata": {},
   "source": [
    "## Line plot"
   ]
  },
  {
   "cell_type": "code",
   "execution_count": null,
   "id": "4fb1b971-a771-47ac-bc3c-c23b4dda5fef",
   "metadata": {
    "tags": []
   },
   "outputs": [],
   "source": [
    "gb5.plot_lines_px(gb5.analysis['pixel6_emeter_mean'], y='power', facet_col='channel', facet_col_wrap=3, height=1000, title='Mean power usage across iterations [mW]')"
   ]
  },
  {
   "cell_type": "markdown",
   "id": "bf5eb606-bc8e-4b3e-8bab-2e11eb28d6e4",
   "metadata": {},
   "source": [
    "## Bar plot"
   ]
  },
  {
   "cell_type": "code",
   "execution_count": null,
   "id": "f3a2de01-0fee-4f19-ba49-aa99c3e59430",
   "metadata": {
    "tags": []
   },
   "outputs": [],
   "source": [
    "gb5.summary['power_usage'] = gb5.plot_gmean_bars(gb5.analysis['pixel6_emeter_mean'].rename(columns={'power':'value'}), x='channel', y='value', facet_col='metric', facet_col_wrap=5, title='Gmean power usage [mW]', width=1800, height=600, include_total=True, include_columns=['channel'])"
   ]
  },
  {
   "cell_type": "markdown",
   "id": "b3aa9c3b-0b24-44ca-83f0-5937eefd4cb1",
   "metadata": {},
   "source": [
    "# Energy estimate"
   ]
  },
  {
   "cell_type": "code",
   "execution_count": null,
   "id": "2850b279-bb0a-4fed-920e-16ac797e0c93",
   "metadata": {},
   "outputs": [],
   "source": [
    "gb5.load_combined_analysis('energy_estimate_mean.pqt')\n",
    "gb5.analysis['energy_estimate_melt'] = pd.melt(gb5.analysis['energy_estimate_mean'], id_vars=['iteration', 'wa_path'], value_vars=['little', 'mid', 'big', 'total']).rename(columns={'variable':'cluster'})"
   ]
  },
  {
   "cell_type": "markdown",
   "id": "3a1f40fd-4b60-45bb-80be-5b6424d6dce7",
   "metadata": {},
   "source": [
    "## Line plot"
   ]
  },
  {
   "cell_type": "code",
   "execution_count": null,
   "id": "06c9526d-9c13-4dd2-bfbf-dd016c38740d",
   "metadata": {},
   "outputs": [],
   "source": [
    "gb5.plot_lines_px(gb5.analysis['energy_estimate_melt'], facet_col='cluster', height=1000, title='Mean energy estimate across iterations [bW]')"
   ]
  },
  {
   "cell_type": "markdown",
   "id": "99c3cec1-d721-4c3c-a3a3-310be70ea641",
   "metadata": {},
   "source": [
    "## Bar plot"
   ]
  },
  {
   "cell_type": "code",
   "execution_count": null,
   "id": "0543d5b9-a7f1-4fdf-94b7-6c4301860df0",
   "metadata": {},
   "outputs": [],
   "source": [
    "gb5.summary['energy_estimate'] = gb5.plot_gmean_bars(gb5.analysis['energy_estimate_melt'], x='cluster', y='value', facet_col='metric', facet_col_wrap=5, title='Gmean energy estimate [bW]', width=1900, height=600, include_columns=['cluster'], order_cluster=True, include_total=True)"
   ]
  },
  {
   "cell_type": "markdown",
   "id": "13c462a9-a006-4d33-81e7-0b63325c75c4",
   "metadata": {},
   "source": [
    "# Thermal"
   ]
  },
  {
   "cell_type": "code",
   "execution_count": null,
   "id": "9ca56d6f-a22f-47ba-bb3b-90299c5cd4fb",
   "metadata": {},
   "outputs": [],
   "source": [
    "def preprocess_thermal(df):\n",
    "    return df.groupby(['iteration', 'kernel', 'wa_path']).mean(numeric_only=True).reset_index()\n",
    "\n",
    "def postprocess_thermal(df):\n",
    "    for col in [c for c in df.columns if c not in ['time', 'iteration', 'kernel', 'wa_path']]:\n",
    "        df[col] = df[col] / 1000\n",
    "    df = round(df, 2)\n",
    "    return df\n",
    "\n",
    "gb5.load_combined_analysis('thermal.pqt', preprocess=preprocess_thermal, postprocess=postprocess_thermal)\n",
    "gb5.analysis['thermal_melt'] = pd.melt(gb5.analysis['thermal'], id_vars=['iteration', 'wa_path', 'kernel'], value_vars=['little', 'mid', 'big']).rename(columns={'variable':'cluster'})\n",
    "display(gb5.analysis['thermal'])"
   ]
  },
  {
   "cell_type": "markdown",
   "id": "c0efab5b-80b0-4e5a-a076-b62a1508a492",
   "metadata": {},
   "source": [
    "## Line plot"
   ]
  },
  {
   "cell_type": "code",
   "execution_count": null,
   "id": "8d11d42f-6073-486b-98ab-658d0104f8ca",
   "metadata": {},
   "outputs": [],
   "source": [
    "ds = hv.Dataset(gb5.analysis['thermal_melt'], ['iteration', hv.Dimension('wa_path', values=gb5.wa_paths), hv.Dimension('cluster', values=gb5.CLUSTERS)], 'value')\n",
    "layout = ds.to(hv.Curve, 'iteration', 'value').overlay('wa_path').opts(legend_position='bottom').layout('cluster').opts(title='Mean cluster temperature across iterations')\n",
    "layout.opts(\n",
    "    opts.Curve(width=600, height=600, ylabel='temperature'),\n",
    ")\n",
    "layout"
   ]
  },
  {
   "cell_type": "markdown",
   "id": "5f266d7a-2386-445f-8987-d0baaefb3a5b",
   "metadata": {},
   "source": [
    "## Bar plot"
   ]
  },
  {
   "cell_type": "code",
   "execution_count": null,
   "id": "71afecc5-68f5-429e-b9b8-f359a9aebfe1",
   "metadata": {},
   "outputs": [],
   "source": [
    "gb5.summary['thermal'] = gb5.plot_gmean_bars(gb5.analysis['thermal_melt'], x='cluster', y='value', facet_col='metric', facet_col_wrap=2, title='Gmean temperature', width=1800, height=600, order_cluster=True, include_columns=['cluster'])"
   ]
  },
  {
   "cell_type": "markdown",
   "id": "fdc02cb0-0bcc-4367-bc37-8120108ec70e",
   "metadata": {},
   "source": [
    "# Frequency"
   ]
  },
  {
   "cell_type": "code",
   "execution_count": null,
   "id": "39e5880b-88c0-424e-94f5-2635a26884e0",
   "metadata": {},
   "outputs": [],
   "source": [
    "def postprocess_freq(df):\n",
    "    df['unit'] = 'MHz'\n",
    "    df['metric'] = 'frequency'\n",
    "    df['order'] = df['cluster'].replace('little', 0).replace('mid', 1).replace('big', 2)\n",
    "    return df.sort_values(by=['iteration', 'order']).rename(columns={'frequency':'value'})\n",
    "\n",
    "gb5.load_combined_analysis('freqs_mean.pqt', postprocess=postprocess_freq)\n",
    "display(gb5.analysis['freqs_mean'].head())"
   ]
  },
  {
   "cell_type": "markdown",
   "id": "b8d1e3ef-7665-4b99-b3b8-3c8bec6dc4b7",
   "metadata": {},
   "source": [
    "## Line plot"
   ]
  },
  {
   "cell_type": "code",
   "execution_count": null,
   "id": "bca933d3-916d-4656-9613-9aa991b708f7",
   "metadata": {},
   "outputs": [],
   "source": [
    "ds = hv.Dataset(gb5.analysis['freqs_mean'], ['iteration', hv.Dimension('wa_path', values=gb5.wa_paths), hv.Dimension('cluster', values=gb5.CLUSTERS)], 'value')\n",
    "layout = ds.to(hv.Curve, 'iteration', 'value').overlay('wa_path').opts(legend_position='bottom').layout('cluster').opts(title='Mean cluster frequency across iterations')\n",
    "layout.opts(\n",
    "    opts.Curve(width=600, height=600, ylabel='MHz'),\n",
    ")\n",
    "layout"
   ]
  },
  {
   "cell_type": "markdown",
   "id": "cc2e2bc5-5ddc-4627-850d-e5e27b683e53",
   "metadata": {},
   "source": [
    "## Bar plot"
   ]
  },
  {
   "cell_type": "code",
   "execution_count": null,
   "id": "bbb72d9b-f40f-4428-a8bd-0cd2e19d7989",
   "metadata": {},
   "outputs": [],
   "source": [
    "gb5.summary['frequency'] = gb5.plot_gmean_bars(gb5.analysis['freqs_mean'], x='metric', y='value', facet_col='cluster', facet_col_wrap=3, title='Gmean frequency per cluster', width=1800, height=600, order_cluster=True, include_columns=['cluster'])"
   ]
  },
  {
   "cell_type": "markdown",
   "id": "c93c6cb7-86e9-4a3d-afa0-792aa953c70f",
   "metadata": {},
   "source": [
    "# CFS signals"
   ]
  },
  {
   "cell_type": "code",
   "execution_count": null,
   "id": "0814340a-e6bf-4356-964e-6fa341c17842",
   "metadata": {},
   "outputs": [],
   "source": [
    "gb5.load_combined_analysis('sched_pelt_cfs_mean.pqt')\n",
    "gb5.analysis['sched_pelt_cfs_melt'] = pd.melt(gb5.analysis['sched_pelt_cfs_mean'], id_vars=['iteration', 'wa_path', 'kernel', 'cluster'], value_vars=['util', 'load'])"
   ]
  },
  {
   "cell_type": "markdown",
   "id": "9b528221-8603-4227-9493-d5062d9c18ef",
   "metadata": {},
   "source": [
    "## Line plot"
   ]
  },
  {
   "cell_type": "code",
   "execution_count": null,
   "id": "2f5bb4c6-fc80-47ac-ad0c-2af15505b546",
   "metadata": {},
   "outputs": [],
   "source": [
    "signals = ['util', 'load']\n",
    "ds = hv.Dataset(gb5.analysis['sched_pelt_cfs_mean'], ['iteration', hv.Dimension('wa_path', values=gb5.wa_paths), hv.Dimension('cluster', values=gb5.CLUSTERS)], signals)\n",
    "layout = hv.Layout([ds.to(hv.Curve, 'iteration', signal).overlay('wa_path').opts(legend_position='bottom').layout('cluster').opts(title='Mean cluster ' + signal, framewise=True) for signal in signals]).cols(1)\n",
    "layout.opts(\n",
    "    opts.Curve(width=800, height=400, framewise=True),\n",
    ")\n",
    "layout"
   ]
  },
  {
   "cell_type": "markdown",
   "id": "f1f95971-59c6-45d4-9895-937c42fb082c",
   "metadata": {},
   "source": [
    "## Bar plot"
   ]
  },
  {
   "cell_type": "code",
   "execution_count": null,
   "id": "28bc087f-c2a2-4061-835f-eeeda2e757c0",
   "metadata": {},
   "outputs": [],
   "source": [
    "gb5.summary['cfs_signals'] = gb5.plot_gmean_bars(gb5.analysis['sched_pelt_cfs_melt'], x='cluster', y='value', facet_col='variable', facet_col_wrap=1, title='Gmean cfs signals', width=1900, height=1000, order_cluster=True, include_columns=['cluster'])"
   ]
  },
  {
   "cell_type": "markdown",
   "id": "888beb4e-4dff-459b-b859-edcb9d1e7c70",
   "metadata": {},
   "source": [
    "# Task wakeup latency"
   ]
  },
  {
   "cell_type": "code",
   "execution_count": null,
   "id": "395d60cf-e9c9-42d2-b1b4-d880057e94bc",
   "metadata": {},
   "outputs": [],
   "source": [
    "def postprocess_wakeup_latency_mean(df):\n",
    "    df = df.rename(columns={'wakeup_latency':'value'})\n",
    "    df['order'] = df['wa_path'].map(lambda x: gb5.wa_paths.index(x))\n",
    "    df['unit'] = 'x'\n",
    "    return df\n",
    "\n",
    "gb5.load_combined_analysis('wakeup_latency_mean.pqt', postprocess=postprocess_wakeup_latency_mean)\n",
    "\n",
    "def postprocess_wakeup_latency(df):\n",
    "    df['order'] = df['wa_path'].map(lambda x: gb5.wa_paths.index(x))\n",
    "    df['cluster'] = df['cpu'].copy().apply(lambda c: 'little' if c < 4 else 'big' if c > 5 else 'mid')\n",
    "    df['order_cluster'] = df['cluster'].map(lambda x: gb5.CLUSTERS.index(x))\n",
    "    df['target_cluster'] = df['target_cpu'].copy().apply(lambda c: 'little' if c < 4 else 'big' if c > 5 else 'mid')\n",
    "    df['order_target_cluster'] = df['target_cluster'].map(lambda x: gb5.CLUSTERS.index(x))\n",
    "    return df\n",
    "\n",
    "gb5.load_combined_analysis('wakeup_latency.pqt', postprocess=postprocess_wakeup_latency)\n",
    "    \n",
    "display(gb5.analysis['wakeup_latency'])"
   ]
  },
  {
   "cell_type": "markdown",
   "id": "917600bb-5af9-4450-9c1d-54b2f3234ff5",
   "metadata": {},
   "source": [
    "## Line plot"
   ]
  },
  {
   "cell_type": "code",
   "execution_count": null,
   "id": "c58193a2-e34c-4ed6-87a6-0c18269a8d61",
   "metadata": {},
   "outputs": [],
   "source": [
    "gb5.plot_lines_px(gb5.analysis['wakeup_latency_mean'], facet_col='comm', facet_col_wrap=3, height=600, title='Task wakeup latencies across iterations')"
   ]
  },
  {
   "cell_type": "markdown",
   "id": "c8520262-13e3-41e7-bcf1-e11d6809171f",
   "metadata": {},
   "source": [
    "## Bar plot"
   ]
  },
  {
   "cell_type": "code",
   "execution_count": null,
   "id": "98746075-e7c0-4f43-a4ab-4bc7d621799b",
   "metadata": {},
   "outputs": [],
   "source": [
    "gb5.summary['wakeup_latency'] = gb5.plot_gmean_bars(gb5.analysis['wakeup_latency_mean'], x='metric', y='value', facet_col='comm', facet_col_wrap=3, title='Gmean task wakeup latency', table_sort=['comm', 'kernel'], gmean_round=0, width=1900, height=600)"
   ]
  },
  {
   "cell_type": "markdown",
   "id": "0469ac47-0916-4c39-8cb4-3adbd3cf15f4",
   "metadata": {},
   "source": [
    "## Quantiles"
   ]
  },
  {
   "cell_type": "code",
   "execution_count": null,
   "id": "9ce0019b-da08-495e-a8a2-86d340ff8ae5",
   "metadata": {},
   "outputs": [],
   "source": [
    "gb5.analysis['wakeup_latency_quantiles'] = gb5.analysis['wakeup_latency'].groupby(['comm', 'wa_path', 'iteration']).quantile([0.9, 0.95, 0.99], numeric_only=True).reset_index()[['comm', 'wa_path', 'level_3', 'iteration', 'wakeup_latency', 'order']].rename(columns={'level_3':'quantile'}).sort_values(by=['comm', 'order'])\n",
    "gb5.analysis['wakeup_latency_quantiles']"
   ]
  },
  {
   "cell_type": "code",
   "execution_count": null,
   "id": "284bc498-67ab-451d-be44-1b47a496fc3a",
   "metadata": {},
   "outputs": [],
   "source": [
    "gb5.plot_gmean_bars(gb5.analysis['wakeup_latency_quantiles'].rename(columns={'wakeup_latency':'value'}), x='quantile', y='value', facet_col='comm', facet_col_wrap=1, title='Gmean latency quantile', width=1900, include_columns=['quantile'], table_sort=['quantile', 'comm'], height=1200, gmean_round=0)"
   ]
  },
  {
   "cell_type": "markdown",
   "id": "68d6aabf",
   "metadata": {},
   "source": [
    "## Per-execution cluster"
   ]
  },
  {
   "cell_type": "code",
   "execution_count": null,
   "id": "83ed179e",
   "metadata": {},
   "outputs": [],
   "source": [
    "gb5.analysis['latency_cluster'] = gb5.analysis['wakeup_latency'].groupby(['comm', 'wa_path', 'cluster']).mean(numeric_only=True).reset_index().sort_values(by=['comm', 'order_cluster', 'order'])[['comm', 'wa_path', 'cluster', 'wakeup_latency']]\n",
    "fig = px.bar(gb5.analysis['latency_cluster'], x='cluster', y='wakeup_latency', color='wa_path', facet_col='comm', barmode='group', facet_col_wrap=1, width=2000, height=1300, text=gb5.analysis['latency_cluster']['wakeup_latency'].apply(lambda x: trim_number(x)), title='Mean task wakeup latency per cluster')\n",
    "fig.update_traces(textposition='outside')\n",
    "gb5.analysis['latency_cluster']['wakeup_latency'] = gb5.analysis['latency_cluster']['wakeup_latency'].apply(lambda x: trim_number(x))\n",
    "ptable(gb5.analysis['latency_cluster'])\n",
    "fig.show(renderer='iframe')"
   ]
  },
  {
   "cell_type": "markdown",
   "id": "cb98456c",
   "metadata": {},
   "source": [
    "## Per-target cluster"
   ]
  },
  {
   "cell_type": "code",
   "execution_count": null,
   "id": "03cb6af1",
   "metadata": {},
   "outputs": [],
   "source": [
    "gb5.analysis['latency_target_cluster'] = gb5.analysis['wakeup_latency'].groupby(['comm', 'wa_path', 'target_cluster']).mean(numeric_only=True).reset_index().sort_values(by=['comm', 'order_target_cluster', 'order'])[['comm', 'wa_path', 'target_cluster', 'wakeup_latency']]\n",
    "fig = px.bar(gb5.analysis['latency_target_cluster'], x='target_cluster', y='wakeup_latency', color='wa_path', facet_col='comm', barmode='group', facet_col_wrap=1, width=2000, height=1300, text=gb5.analysis['latency_target_cluster']['wakeup_latency'].apply(lambda x: trim_number(x)), title='Mean task wakeup latency per target_cluster')\n",
    "fig.update_traces(textposition='outside')\n",
    "gb5.analysis['latency_target_cluster']['wakeup_latency'] = gb5.analysis['latency_target_cluster']['wakeup_latency'].apply(lambda x: trim_number(x))\n",
    "ptable(gb5.analysis['latency_target_cluster'])\n",
    "fig.show(renderer='iframe')"
   ]
  },
  {
   "cell_type": "markdown",
   "id": "116375c2-c0c6-43bc-8ea2-3ab849ec281a",
   "metadata": {},
   "source": [
    "# Wakeup latency - cgroups"
   ]
  },
  {
   "cell_type": "code",
   "execution_count": null,
   "id": "87d73ed7-0f03-48b8-b16a-ef7be86d2868",
   "metadata": {},
   "outputs": [],
   "source": [
    "def postprocess_cgroup_latency(df):\n",
    "        df = df.rename(columns={'wakeup_latency':'value'})\n",
    "        df['order'] = df['wa_path'].map(lambda x: gb5.wa_paths.index(x))\n",
    "        return df\n",
    "\n",
    "gb5.load_combined_analysis('wakeup_latency_cgroup.pqt', postprocess=postprocess_cgroup_latency)\n",
    "gb5.analysis['wakeup_latency_cgroup_mean'] = gb5.analysis['wakeup_latency_cgroup'].groupby([\"wa_path\", \"cgroup\", \"iteration\", \"order\"]).mean(numeric_only=True).reset_index().sort_values(by=[\"order\", \"cgroup\", \"iteration\"])[['wa_path', 'cgroup', 'iteration', 'value', 'order']]\n",
    "gb5.analysis['wakeup_latency_cgroup_mean']"
   ]
  },
  {
   "cell_type": "markdown",
   "id": "67518df6-c106-46dd-b0e9-051393cbfd6c",
   "metadata": {},
   "source": [
    "## Line plot"
   ]
  },
  {
   "cell_type": "code",
   "execution_count": null,
   "id": "a8a13531-73ee-4155-a0bf-6a61d3754266",
   "metadata": {},
   "outputs": [],
   "source": [
    "gb5.plot_lines_px(gb5.analysis['wakeup_latency_cgroup_mean'], facet_col='cgroup', facet_col_wrap=3, height=600, title='cgroup wakeup latencies across iterations')"
   ]
  },
  {
   "cell_type": "markdown",
   "id": "fc7af694-a003-45e4-b4b2-6fafa5026d97",
   "metadata": {},
   "source": [
    "## Bar plot"
   ]
  },
  {
   "cell_type": "code",
   "execution_count": null,
   "id": "66d71039-34ff-47a2-b85e-f28a130f64a5",
   "metadata": {},
   "outputs": [],
   "source": [
    "gb5.plot_gmean_bars(gb5.analysis['wakeup_latency_cgroup_mean'], x='metric', y='value', facet_col='cgroup', title='Gmean task wakeup latency per-cgroup', include_columns=['cgroup'], table_sort=['cgroup'], gmean_round=0, width=1800, height=600)"
   ]
  },
  {
   "cell_type": "markdown",
   "id": "902559ca-d039-45e3-9dec-b956c6815e52",
   "metadata": {},
   "source": [
    "## Quantiles"
   ]
  },
  {
   "cell_type": "code",
   "execution_count": null,
   "id": "350904b3-caa0-4c31-9049-a8fc281cfafd",
   "metadata": {},
   "outputs": [],
   "source": [
    "gb5.analysis['wakeup_latency_cgroup_quantiles'] = gb5.analysis['wakeup_latency_cgroup'].groupby(['cgroup', 'wa_path', 'iteration']).quantile([0.9, 0.95, 0.99], numeric_only=True).reset_index()[['cgroup', 'wa_path', 'level_3', 'iteration', 'value', 'order']].rename(columns={'level_3':'quantile'}).sort_values(by=['cgroup', 'order'])\n",
    "gb5.analysis['wakeup_latency_cgroup_quantiles']"
   ]
  },
  {
   "cell_type": "code",
   "execution_count": null,
   "id": "3fd1a66a-d35f-4109-9be0-51ebc5f17620",
   "metadata": {},
   "outputs": [],
   "source": [
    "gb5.plot_gmean_bars(gb5.analysis['wakeup_latency_cgroup_quantiles'], x='quantile', y='value', facet_col='cgroup', facet_col_wrap=1, title='Gmean latency quantile per-cgroup', include_columns=['cgroup', 'quantile'], table_sort=['quantile', 'cgroup'], width=1900, height=1400, gmean_round=0)"
   ]
  },
  {
   "cell_type": "markdown",
   "id": "071d730b-7730-4b56-af1e-87b71aced5fb",
   "metadata": {},
   "source": [
    "# Task CPU residency"
   ]
  },
  {
   "cell_type": "code",
   "execution_count": null,
   "id": "79085055-981d-4c20-b64f-ac4f6b899d5e",
   "metadata": {},
   "outputs": [],
   "source": [
    "tasks_important = ['AsyncTask #1', 'labs.geekbench5', 'surfaceflinger']\n",
    "cpus_prefix = [f\"cpu{int(float(x))}\" for x in gb5.CPUS]\n",
    "\n",
    "def postprocess_tasks_residency_cpu_total(df):\n",
    "    df = df.rename(columns={'Total':'total'})\n",
    "    return df\n",
    "\n",
    "gb5.load_combined_analysis('tasks_residency_cpu_total.pqt', postprocess=postprocess_tasks_residency_cpu_total)\n",
    "gb5.analysis['tasks_residency_cpu_total_melt'] = pd.melt(gb5.analysis['tasks_residency_cpu_total'], id_vars=['iteration', 'wa_path', 'kernel'], value_vars=cpus_prefix).rename(columns={'variable':'cpu'}).sort_values(['wa_path', 'kernel', 'iteration', 'cpu'])\n",
    "gb5.analysis['tasks_residency_cpu_total_cluster_melt'] = pd.melt(gb5.analysis['tasks_residency_cpu_total'], id_vars=['iteration', 'wa_path', 'kernel'], value_vars=gb5.CLUSTERS_TOTAL).rename(columns={'variable':'cluster'}).sort_values(['wa_path', 'kernel', 'iteration', 'cluster'])\n",
    "\n",
    "def postprocess_tasks_residency_total(df):\n",
    "    df = df.rename(columns={'Total':'total'}).query(\"comm in @tasks_important\")\n",
    "    return df\n",
    "\n",
    "gb5.load_combined_analysis('tasks_residency_total.pqt', postprocess=postprocess_tasks_residency_total)\n",
    "gb5.analysis['tasks_residency_total_melt'] = pd.melt(gb5.analysis['tasks_residency_total'], id_vars=['iteration', 'wa_path', 'kernel', 'comm'], value_vars=cpus_prefix).rename(columns={'variable':'cpu'}).sort_values(['wa_path', 'kernel', 'iteration', 'cpu'])\n",
    "gb5.analysis['tasks_residency_total_cluster_melt'] = pd.melt(gb5.analysis['tasks_residency_total'], id_vars=['iteration', 'wa_path', 'kernel', 'comm'], value_vars=gb5.CLUSTERS_TOTAL).rename(columns={'variable':'cluster'}).sort_values(['wa_path', 'kernel', 'iteration', 'cluster'])\n",
    "\n",
    "def postprocess_tasks_residency(df):\n",
    "    df = df.rename(columns={'Total':'total'}).query(\"comm in @tasks_important\")\n",
    "    return df\n",
    "\n",
    "gb5.load_combined_analysis('tasks_residency.pqt', postprocess=postprocess_tasks_residency)\n",
    "gb5.analysis['tasks_residency_cluster_melt'] = pd.melt(gb5.analysis['tasks_residency'], id_vars=['iteration', 'wa_path', 'kernel', 'comm'], value_vars=gb5.CLUSTERS_TOTAL).rename(columns={'variable':'cluster'})\n",
    "\n",
    "gb5.analysis['tasks_residency_total_melt']"
   ]
  },
  {
   "cell_type": "markdown",
   "id": "116e35e0-20b8-407f-84d8-e6d3240665b4",
   "metadata": {},
   "source": [
    "## Clusters - Line plot"
   ]
  },
  {
   "cell_type": "code",
   "execution_count": null,
   "id": "94294653-5942-4f60-bb0a-a68f8a57d6ba",
   "metadata": {},
   "outputs": [],
   "source": [
    "ds = hv.Dataset(gb5.analysis['tasks_residency_cpu_total_cluster_melt'], ['iteration', hv.Dimension('wa_path', values=gb5.wa_paths), hv.Dimension('cluster', values=gb5.CLUSTERS_TOTAL)], 'value')\n",
    "layout = ds.to(hv.Curve, 'iteration', 'value').overlay('wa_path').opts(legend_position='bottom').layout('cluster').cols(4).opts(title='Mean cluster CPU residency')\n",
    "layout.opts(\n",
    "    opts.Curve(width=500, height=600, ylabel='time'),\n",
    ")\n",
    "layout"
   ]
  },
  {
   "cell_type": "markdown",
   "id": "520f8d16-035d-4f97-82c1-52b7bee677a5",
   "metadata": {},
   "source": [
    "## Clusters - Bar plot"
   ]
  },
  {
   "cell_type": "code",
   "execution_count": null,
   "id": "49267373-ac8d-4518-a703-8da7130e2989",
   "metadata": {},
   "outputs": [],
   "source": [
    "gb5.plot_gmean_bars(gb5.analysis['tasks_residency_cpu_total_cluster_melt'], x='cluster', y='value', facet_col='metric', facet_col_wrap=1, title='Gmean cluster CPU residency', include_columns=['cluster'], height=800, order_cluster=True, include_total=True)"
   ]
  },
  {
   "cell_type": "markdown",
   "id": "0859391a",
   "metadata": {},
   "source": [
    "## Clusters - Per-task bar plot"
   ]
  },
  {
   "cell_type": "code",
   "execution_count": null,
   "id": "703cda52",
   "metadata": {},
   "outputs": [],
   "source": [
    "gb5.summary['tasks_cpu_residency'] = gb5.plot_gmean_bars(gb5.analysis['tasks_residency_total_cluster_melt'], x='cluster', y='value', facet_col='comm', facet_col_wrap=1, title='Gmean cluster task CPU residency', include_columns=['cluster'], height=1200, order_cluster=True, include_total=True)"
   ]
  },
  {
   "cell_type": "markdown",
   "id": "3230952c-a9dd-4f0f-b662-be931e6b2427",
   "metadata": {},
   "source": [
    "## CPUs - Line plot"
   ]
  },
  {
   "cell_type": "code",
   "execution_count": null,
   "id": "cf754295-f01c-486c-afd6-22ec0766621c",
   "metadata": {},
   "outputs": [],
   "source": [
    "ds = hv.Dataset(gb5.analysis['tasks_residency_total_melt'], ['iteration', hv.Dimension('wa_path', values=gb5.wa_paths), hv.Dimension('cpu', values=cpus_prefix)], 'value')\n",
    "layout = ds.to(hv.Curve, 'iteration', 'value').overlay('wa_path').opts(legend_position='bottom').layout('cpu').cols(3).opts(title='Mean CPU residency')\n",
    "layout.opts(\n",
    "    opts.Curve(width=600, height=600, ylabel='time'),\n",
    ")\n",
    "layout"
   ]
  },
  {
   "cell_type": "markdown",
   "id": "2a2c46b9-c9c9-4176-9b8b-733a3fdffaae",
   "metadata": {},
   "source": [
    "## CPUs - Bar plot"
   ]
  },
  {
   "cell_type": "code",
   "execution_count": null,
   "id": "2c746e1b-6642-406b-a179-8ac98cfaea90",
   "metadata": {},
   "outputs": [],
   "source": [
    "gb5.plot_gmean_bars(gb5.analysis['tasks_residency_total_melt'], x='cpu', y='value', facet_col='comm', facet_col_wrap=2, title='Gmean CPU residency', width=1900, height=700)"
   ]
  },
  {
   "cell_type": "markdown",
   "id": "820980c2-702a-44d7-9173-6973d3536826",
   "metadata": {},
   "source": [
    "# CPU residency - cgroups"
   ]
  },
  {
   "cell_type": "code",
   "execution_count": null,
   "id": "40489438-137e-47d7-a67a-7f7a7bd190c6",
   "metadata": {},
   "outputs": [],
   "source": [
    "def postprocess_cgroup_task_residency(df):\n",
    "    df = df.rename(columns={'Total':'total'})[['wa_path', 'cgroup', 'iteration', 'total', 'little', 'mid', 'big'] + gb5.CPUS]\n",
    "    return df\n",
    "\n",
    "gb5.load_combined_analysis('tasks_residency_cgroup_total.pqt', postprocess=postprocess_cgroup_task_residency)\n",
    "gb5.analysis['cgroup_residency_total_melt'] = pd.melt(gb5.analysis['tasks_residency_cgroup_total'], id_vars=['iteration', 'wa_path', 'cgroup'], value_vars=gb5.CPUS).rename(columns={'variable':'cpu'})\n",
    "gb5.analysis['cgroup_residency_total_cluster_melt'] = pd.melt(gb5.analysis['tasks_residency_cgroup_total'], id_vars=['iteration', 'wa_path', 'cgroup'], value_vars=gb5.CLUSTERS_TOTAL).rename(columns={'variable':'cluster'})\n",
    "\n",
    "display(gb5.analysis['cgroup_residency_total_melt'])"
   ]
  },
  {
   "cell_type": "markdown",
   "id": "6996bec0-9c9f-40f7-8114-64d153d25daf",
   "metadata": {},
   "source": [
    "## Clusters - Bar plot"
   ]
  },
  {
   "cell_type": "code",
   "execution_count": null,
   "id": "5a9d0adf-fb93-4f2a-a301-2c818367248b",
   "metadata": {},
   "outputs": [],
   "source": [
    "gb5.plot_gmean_bars(gb5.analysis['cgroup_residency_total_cluster_melt'], x='cluster', y='value', facet_col='cgroup', facet_col_wrap=1, title='Gmean cluster CPU residency per-cgroup', width=1800, height=1100, include_columns=['cgroup', 'cluster'], table_sort=['cgroup', 'cluster'], order_cluster=True, include_total=True)"
   ]
  },
  {
   "cell_type": "markdown",
   "id": "c6dd5125-1321-4257-b25a-9ff0c2a0faa5",
   "metadata": {},
   "source": [
    "## CPUs - Bar plot"
   ]
  },
  {
   "cell_type": "code",
   "execution_count": null,
   "id": "3fac4603-381f-4623-ac48-40f43cccdd73",
   "metadata": {},
   "outputs": [],
   "source": [
    "gb5.plot_gmean_bars(gb5.analysis['cgroup_residency_total_melt'], x='cpu', y='value', facet_col='cgroup', facet_col_wrap=1, title='Gmean cgroup CPU residency', width=2000, height=1100, include_columns=['cgroup', 'cpu'])"
   ]
  },
  {
   "cell_type": "markdown",
   "id": "32231df0",
   "metadata": {},
   "source": [
    "# Summary - TLDR"
   ]
  },
  {
   "cell_type": "code",
   "execution_count": null,
   "id": "2feb51c8",
   "metadata": {},
   "outputs": [],
   "source": [
    "summary_parts = []\n",
    "\n",
    "if 'scores' in gb5.summary:\n",
    "    summary_benchmark_scores = gb5.summary['scores'].copy()\n",
    "    summary_benchmark_scores['perc_diff'] = summary_benchmark_scores['perc_diff'].apply(lambda s: f\"({s})\")\n",
    "    summary_benchmark_scores['value'] = summary_benchmark_scores['value'] + \" \" + summary_benchmark_scores['perc_diff']\n",
    "    summary_benchmark_scores = summary_benchmark_scores.pivot(values='value', columns='kernel', index='metric').reset_index()[['metric'] + gb5.wa_paths]\n",
    "    summary_parts.append(summary_benchmark_scores)\n",
    "\n",
    "if 'power_usage' in gb5.summary:\n",
    "    summary_power_usage = gb5.summary['power_usage'].copy().query(\"channel == 'CPU'\")\n",
    "    summary_power_usage['perc_diff'] = summary_power_usage['perc_diff'].apply(lambda s: f\"({s})\")\n",
    "    summary_power_usage['value'] = summary_power_usage['value'] + \" \" + summary_power_usage['perc_diff']\n",
    "    summary_power_usage['channel'] = 'CPU_total_power'\n",
    "    summary_power_usage = summary_power_usage.pivot(values='value', columns='kernel', index='channel').reset_index().rename(columns={'channel':'metric'})[['metric'] + gb5.wa_paths]\n",
    "    summary_parts.append(summary_power_usage)\n",
    "\n",
    "if 'overutilized_mean' in gb5.analysis:\n",
    "    summary_ou = gb5.analysis['overutilized_mean'].copy()\n",
    "    summary_ou['percentage'] = summary_ou['percentage'].apply(lambda x: f\"{x}%\")\n",
    "    summary_ou = summary_ou.pivot(values='percentage', columns='wa_path', index='metric').reset_index()[['metric'] + gb5.wa_paths]\n",
    "    summary_parts.append(summary_ou)\n",
    "\n",
    "if 'thermal' in gb5.summary:\n",
    "    summary_thermal = gb5.summary['thermal'].copy()\n",
    "    summary_thermal['perc_diff'] = summary_thermal['perc_diff'].apply(lambda s: f\"({s})\")\n",
    "    summary_thermal['value'] = summary_thermal['value'] + \" \" + summary_thermal['perc_diff']\n",
    "    summary_thermal = summary_thermal.pivot(values='value', columns='kernel', index='cluster').reset_index().rename(columns={'cluster':'metric'})[['metric'] + gb5.wa_paths]\n",
    "    summary_thermal['metric'] = \"thermal (\" + summary_thermal['metric'] + \")\"\n",
    "    summary_parts.append(summary_thermal)\n",
    "\n",
    "if 'wakeup_latency' in gb5.summary:\n",
    "    summary_wakeup_latency = gb5.summary['wakeup_latency'].copy()\n",
    "    summary_wakeup_latency['perc_diff'] = summary_wakeup_latency['perc_diff'].apply(lambda s: f\"({s})\")\n",
    "    summary_wakeup_latency['comm'] = \"latency (\" + summary_wakeup_latency['comm'] + \")\"\n",
    "    summary_wakeup_latency['value'] = summary_wakeup_latency['value'] + \" \" + summary_wakeup_latency['perc_diff']\n",
    "    summary_wakeup_latency = summary_wakeup_latency.pivot(values='value', columns='kernel', index='comm').reset_index().rename(columns={'comm':'metric'})[['metric'] + gb5.wa_paths]\n",
    "    summary_parts.append(summary_wakeup_latency)\n",
    "\n",
    "if 'task_cpu_residency' in gb5.summary:\n",
    "    summary_task_cpu_residency = gb5.summary['task_cpu_residency'].copy().query(\"cluster == 'total'\")\n",
    "    summary_task_cpu_residency['perc_diff'] = summary_task_cpu_residency['perc_diff'].apply(lambda s: f\"({s})\")\n",
    "    summary_task_cpu_residency['value'] = summary_task_cpu_residency['value'] + \" \" + summary_task_cpu_residency['perc_diff']\n",
    "    summary_task_cpu_residency = summary_task_cpu_residency.pivot(values='value', columns='kernel', index='comm').reset_index().rename(columns={'comm':'metric'})[['metric'] + gb5.wa_paths]\n",
    "    summary_task_cpu_residency['metric'] = \"CPU residency (\" + summary_task_cpu_residency['metric'] + \")\"\n",
    "    summary_parts.append(summary_task_cpu_residency)\n",
    "\n",
    "\n",
    "summary = pd.concat(summary_parts).reset_index(drop=True)\n",
    "\n",
    "print('Geekbench 5')\n",
    "ptable(summary)"
   ]
  }
 ],
 "metadata": {
  "kernelspec": {
   "display_name": "Python 3 (ipykernel)",
   "language": "python",
   "name": "python3"
  },
  "language_info": {
   "codemirror_mode": {
    "name": "ipython",
    "version": 3
   },
   "file_extension": ".py",
   "mimetype": "text/x-python",
   "name": "python",
   "nbconvert_exporter": "python",
   "pygments_lexer": "ipython3",
   "version": "3.8.10"
  },
  "vscode": {
   "interpreter": {
    "hash": "36cf16204b8548560b1c020c4e8fb5b57f0e4c58016f52f2d4be01e192833930"
   }
  }
 },
 "nbformat": 4,
 "nbformat_minor": 5
}
