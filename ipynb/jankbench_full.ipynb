{
 "cells": [
  {
   "cell_type": "markdown",
   "id": "ff00232a-a2be-48c0-8937-abe3a0e99418",
   "metadata": {},
   "source": [
    "# Setup"
   ]
  },
  {
   "cell_type": "code",
   "execution_count": null,
   "id": "cecd20c6-2560-4f7a-9df2-c9a1413b7452",
   "metadata": {
    "tags": []
   },
   "outputs": [],
   "source": [
    "import os\n",
    "import logging as log\n",
    "from lisa.utils import setup_logging\n",
    "setup_logging(level=log.ERROR)\n",
    "\n",
    "from lisa.trace import Trace\n",
    "from lisa.wa import WAOutput\n",
    "from lisa.stats import Stats\n",
    "from lisa.datautils import series_mean\n",
    "from pandas import DataFrame\n",
    "import pandas as pd\n",
    "import scipy as sp\n",
    "import numpy as np\n",
    "import plotly.express as px\n",
    "import plotly.io as pio\n",
    "import plotly.graph_objects as go\n",
    "import holoviews as hv\n",
    "from holoviews import opts\n",
    "from bokeh.themes import built_in_themes\n",
    "from tabulate import tabulate\n",
    "\n",
    "from wp.notebook import WorkloadNotebookAnalysis, trim_wa_path, ptable\n",
    "\n",
    "hv.extension('bokeh')\n",
    "hv.renderer('bokeh').theme = built_in_themes['dark_minimal']\n",
    "hv.renderer('bokeh').webgl = True\n",
    "pio.templates.default = \"plotly\"\n",
    "pio.templates.default = \"plotly_dark\"\n",
    "\n",
    "color_cycle = hv.Cycle(['#636EFA', '#EF553B', '#00CC96', '#AB63FA', '#FFA15A', '#19D3F3', '#FF6692', '#B6E880', '#FF97FF', '#FECB52'])\n",
    "\n",
    "opts.defaults(\n",
    "    opts.Curve(tools=['hover'], show_grid=True, color=color_cycle, muted_alpha=0),\n",
    "    opts.Table(bgcolor='black')\n",
    ")"
   ]
  },
  {
   "cell_type": "markdown",
   "id": "41e20065-b59c-4d93-9fc2-d828c929f174",
   "metadata": {},
   "source": [
    "## Runs"
   ]
  },
  {
   "cell_type": "code",
   "execution_count": null,
   "id": "f10a2149-063b-41e2-b974-8ee64d8d9a79",
   "metadata": {
    "tags": []
   },
   "outputs": [],
   "source": [
    "jank = WorkloadNotebookAnalysis('/home/kajpuc01/power/pixel6/jankbench', [\n",
    "    'jankbench_baseline_10_3101',\n",
    "    'jankbench_ufc_feec_all_cpus_fits_10_3001',\n",
    "])\n",
    "\n",
    "jank.show()"
   ]
  },
  {
   "cell_type": "markdown",
   "id": "f367aadf-d0db-46a7-a147-246d17358d65",
   "metadata": {},
   "source": [
    "# Benchmark scores"
   ]
  },
  {
   "cell_type": "markdown",
   "id": "64855b6b-d9a7-4214-aaec-5fce720aa8fb",
   "metadata": {},
   "source": [
    "## Max frame durations"
   ]
  },
  {
   "cell_type": "code",
   "execution_count": null,
   "id": "01b74a3f-843b-4a57-9a7f-598e1a9c9f62",
   "metadata": {
    "tags": []
   },
   "outputs": [],
   "source": [
    "jank.plot.jankbench_max_frame_durations()"
   ]
  },
  {
   "cell_type": "markdown",
   "id": "9f67f101-e3b1-49c2-8628-b739d90a1785",
   "metadata": {},
   "source": [
    "## Line plot - frame duration"
   ]
  },
  {
   "cell_type": "code",
   "execution_count": null,
   "id": "fb7e34f4-44e6-4ad5-a2c4-75d2ef226366",
   "metadata": {
    "tags": []
   },
   "outputs": [],
   "source": [
    "jank.plot.jankbench_mean_frame_durations_line()"
   ]
  },
  {
   "cell_type": "markdown",
   "id": "7808c41a-06f0-46e9-ac0d-1bae6d8fafee",
   "metadata": {},
   "source": [
    "## Overall frame durations"
   ]
  },
  {
   "cell_type": "code",
   "execution_count": null,
   "id": "67a2b7f2-36a3-4650-8d10-c4a3aa2261b2",
   "metadata": {
    "tags": []
   },
   "outputs": [],
   "source": [
    "jank.plot.jankbench_mean_frame_durations_bar()"
   ]
  },
  {
   "cell_type": "markdown",
   "id": "ea0f11d8-f621-4a52-bea1-8fe486e14d6e",
   "metadata": {},
   "source": [
    "## Frame duration histogram"
   ]
  },
  {
   "cell_type": "code",
   "execution_count": null,
   "id": "c52cacc2-7999-468e-8f03-4bd866fc05fc",
   "metadata": {
    "tags": []
   },
   "outputs": [],
   "source": [
    "jank.plot.jankbench_frame_durations_hist()"
   ]
  },
  {
   "cell_type": "markdown",
   "id": "40a0b6cd-9170-4c46-abd7-f88601c40e3c",
   "metadata": {},
   "source": [
    "## Frame duration ecdf"
   ]
  },
  {
   "cell_type": "code",
   "execution_count": null,
   "id": "0a1cb1d4-eb70-4db6-896a-31e8fcf15e2c",
   "metadata": {
    "tags": []
   },
   "outputs": [],
   "source": [
    "jank.plot.jankbench_frame_durations_ecdf()"
   ]
  },
  {
   "cell_type": "markdown",
   "id": "623031bc-1d3c-4d6a-95f7-d96c9ea62f1c",
   "metadata": {},
   "source": [
    "## Overall jank percentage - Line"
   ]
  },
  {
   "cell_type": "code",
   "execution_count": null,
   "id": "fbe8d780-cd13-4e1e-929b-289b9963b845",
   "metadata": {
    "tags": []
   },
   "outputs": [],
   "source": [
    "jank.plot.jankbench_jank_percentage_line()"
   ]
  },
  {
   "cell_type": "markdown",
   "id": "faffb1b0-5ca5-4b58-9bb0-0f4cb6d0db1a",
   "metadata": {},
   "source": [
    "## Overall jank percentage - Bar"
   ]
  },
  {
   "cell_type": "code",
   "execution_count": null,
   "id": "ea687b27-1a4f-47cd-9044-37c5f0b36046",
   "metadata": {
    "tags": []
   },
   "outputs": [],
   "source": [
    "jank.plot.jankbench_jank_percentage_bar()"
   ]
  },
  {
   "cell_type": "markdown",
   "id": "9d051e89-bcae-4ae0-953b-bdd4865b77c3",
   "metadata": {},
   "source": [
    "## Jankbench metrics per iteration"
   ]
  },
  {
   "cell_type": "code",
   "execution_count": null,
   "id": "31bcdb31-01dd-46bf-ab44-fb545c218bf5",
   "metadata": {
    "tags": []
   },
   "outputs": [],
   "source": [
    "jank.plot.jankbench_metric_line()"
   ]
  },
  {
   "cell_type": "markdown",
   "id": "a0767de4-b599-4321-aedb-c335d9ac730b",
   "metadata": {},
   "source": [
    "## Bar plot - jank percentage"
   ]
  },
  {
   "cell_type": "code",
   "execution_count": null,
   "id": "bd3f07e4-a7e7-4c39-81b4-a56583dc13af",
   "metadata": {
    "tags": []
   },
   "outputs": [],
   "source": [
    "jank.plot.jankbench_jank_percentage_metric_bar()"
   ]
  },
  {
   "cell_type": "markdown",
   "id": "3dd6b97f-958c-4686-bddb-574a551c7ea7",
   "metadata": {},
   "source": [
    "## Bar plot - mean duration"
   ]
  },
  {
   "cell_type": "code",
   "execution_count": null,
   "id": "e166d27b-6b76-40d8-b5b4-f382f3bed602",
   "metadata": {
    "tags": []
   },
   "outputs": [],
   "source": [
    "jank.plot.jankbench_mean_duration_metric_bar()"
   ]
  },
  {
   "cell_type": "markdown",
   "id": "fdacf327-0709-479a-a241-552ecf6fad2c",
   "metadata": {},
   "source": [
    "# Overutilized"
   ]
  },
  {
   "cell_type": "markdown",
   "id": "33212c12-b81f-4755-9fd9-6309269a6103",
   "metadata": {},
   "source": [
    "## Line plot"
   ]
  },
  {
   "cell_type": "code",
   "execution_count": null,
   "id": "4afff0d2-4567-4747-bfc8-59b4b8e19162",
   "metadata": {},
   "outputs": [],
   "source": [
    "jank.plot.overutilized_line()"
   ]
  },
  {
   "cell_type": "markdown",
   "id": "41063ef2-6933-4a5f-9a4d-3c2102e2b051",
   "metadata": {},
   "source": [
    "# Perf"
   ]
  },
  {
   "cell_type": "markdown",
   "id": "10eaab41-98e1-4510-8104-afdab8d7ea89",
   "metadata": {},
   "source": [
    "## Line plot"
   ]
  },
  {
   "cell_type": "code",
   "execution_count": null,
   "id": "76015fad-1b2c-42b3-b51a-ef3fa2e213fd",
   "metadata": {
    "tags": []
   },
   "outputs": [],
   "source": [
    "jank.plot.perf_line()"
   ]
  },
  {
   "cell_type": "markdown",
   "id": "27799672-3e88-4d8f-872a-744661ac5fde",
   "metadata": {},
   "source": [
    "## Bar plot"
   ]
  },
  {
   "cell_type": "code",
   "execution_count": null,
   "id": "ab6e024f-4504-4243-bd80-77ae9412d8d4",
   "metadata": {},
   "outputs": [],
   "source": [
    "jank.plot.perf_bar()"
   ]
  },
  {
   "cell_type": "markdown",
   "id": "90d8f0fb-a413-47eb-8fcf-e026f976d67c",
   "metadata": {},
   "source": [
    "# Idle residency"
   ]
  },
  {
   "cell_type": "markdown",
   "id": "9265a2af-4f08-4767-8c36-4cc794d50d4a",
   "metadata": {},
   "source": [
    "## Bar plot"
   ]
  },
  {
   "cell_type": "code",
   "execution_count": null,
   "id": "90f46686-8970-4799-b7f0-af4b5ccefd8d",
   "metadata": {},
   "outputs": [],
   "source": [
    "jank.plot.idle_residency_bar()"
   ]
  },
  {
   "cell_type": "markdown",
   "id": "c5a0e4a6-30a9-42fd-bfad-5f4da92e96b8",
   "metadata": {},
   "source": [
    "# Idle misses"
   ]
  },
  {
   "cell_type": "markdown",
   "id": "85154dbd-7e6d-42e5-ab77-ca8bf244d810",
   "metadata": {},
   "source": [
    "## Bar plot"
   ]
  },
  {
   "cell_type": "code",
   "execution_count": null,
   "id": "854705ab-ec32-47e8-8f2d-c64d010d946e",
   "metadata": {},
   "outputs": [],
   "source": [
    "jank.plot.idle_miss_bar()"
   ]
  },
  {
   "cell_type": "markdown",
   "id": "ef18dfd4-9020-4666-8cb9-55021e206840",
   "metadata": {},
   "source": [
    "# Power usage"
   ]
  },
  {
   "cell_type": "markdown",
   "id": "2b6618dc-34d2-4f55-937a-0644ad9424ae",
   "metadata": {},
   "source": [
    "## Line plot"
   ]
  },
  {
   "cell_type": "code",
   "execution_count": null,
   "id": "4fb1b971-a771-47ac-bc3c-c23b4dda5fef",
   "metadata": {
    "tags": []
   },
   "outputs": [],
   "source": [
    "jank.plot.power_meter_line()"
   ]
  },
  {
   "cell_type": "markdown",
   "id": "bf5eb606-bc8e-4b3e-8bab-2e11eb28d6e4",
   "metadata": {},
   "source": [
    "## Bar plot"
   ]
  },
  {
   "cell_type": "code",
   "execution_count": null,
   "id": "f3a2de01-0fee-4f19-ba49-aa99c3e59430",
   "metadata": {
    "tags": []
   },
   "outputs": [],
   "source": [
    "jank.plot.power_meter_bar()"
   ]
  },
  {
   "cell_type": "markdown",
   "id": "cfd1da00-5be2-41fb-879f-3d1accad3eaa",
   "metadata": {},
   "source": [
    "# Energy estimate"
   ]
  },
  {
   "cell_type": "markdown",
   "id": "9ab2574e-3524-4567-8c90-bfc38aadfefd",
   "metadata": {},
   "source": [
    "## Line plot"
   ]
  },
  {
   "cell_type": "code",
   "execution_count": null,
   "id": "a6dc154d-9235-44f9-a759-17715fd83a85",
   "metadata": {},
   "outputs": [],
   "source": [
    "jank.plot.energy_estimate_line()"
   ]
  },
  {
   "cell_type": "markdown",
   "id": "f684ff30-9611-4066-9a61-6c81961f1d6c",
   "metadata": {},
   "source": [
    "## Bar plot"
   ]
  },
  {
   "cell_type": "code",
   "execution_count": null,
   "id": "8c37728d-e6b2-47d6-9169-216e2ba8684e",
   "metadata": {},
   "outputs": [],
   "source": [
    "jank.plot.energy_estimate_bar()"
   ]
  },
  {
   "cell_type": "markdown",
   "id": "13c462a9-a006-4d33-81e7-0b63325c75c4",
   "metadata": {},
   "source": [
    "# Thermal"
   ]
  },
  {
   "cell_type": "markdown",
   "id": "c0efab5b-80b0-4e5a-a076-b62a1508a492",
   "metadata": {},
   "source": [
    "## Line plot"
   ]
  },
  {
   "cell_type": "code",
   "execution_count": null,
   "id": "25d4adfa-ce01-4ab6-b8bc-90e22e2c521e",
   "metadata": {
    "tags": []
   },
   "outputs": [],
   "source": [
    "jank.plot.thermal_line()"
   ]
  },
  {
   "cell_type": "markdown",
   "id": "5f266d7a-2386-445f-8987-d0baaefb3a5b",
   "metadata": {},
   "source": [
    "## Bar plot"
   ]
  },
  {
   "cell_type": "code",
   "execution_count": null,
   "id": "71afecc5-68f5-429e-b9b8-f359a9aebfe1",
   "metadata": {},
   "outputs": [],
   "source": [
    "jank.plot.thermal_bar()"
   ]
  },
  {
   "cell_type": "markdown",
   "id": "fdc02cb0-0bcc-4367-bc37-8120108ec70e",
   "metadata": {},
   "source": [
    "# Frequency"
   ]
  },
  {
   "cell_type": "markdown",
   "id": "b8d1e3ef-7665-4b99-b3b8-3c8bec6dc4b7",
   "metadata": {},
   "source": [
    "## Line plot"
   ]
  },
  {
   "cell_type": "code",
   "execution_count": null,
   "id": "bca933d3-916d-4656-9613-9aa991b708f7",
   "metadata": {},
   "outputs": [],
   "source": [
    "jank.plot.frequency_line()"
   ]
  },
  {
   "cell_type": "markdown",
   "id": "cc2e2bc5-5ddc-4627-850d-e5e27b683e53",
   "metadata": {},
   "source": [
    "## Bar plot"
   ]
  },
  {
   "cell_type": "code",
   "execution_count": null,
   "id": "bbb72d9b-f40f-4428-a8bd-0cd2e19d7989",
   "metadata": {},
   "outputs": [],
   "source": [
    "jank.plot.frequency_bar()"
   ]
  },
  {
   "cell_type": "markdown",
   "id": "c93c6cb7-86e9-4a3d-afa0-792aa953c70f",
   "metadata": {},
   "source": [
    "# CFS signals"
   ]
  },
  {
   "cell_type": "markdown",
   "id": "9b528221-8603-4227-9493-d5062d9c18ef",
   "metadata": {},
   "source": [
    "## Line plot"
   ]
  },
  {
   "cell_type": "code",
   "execution_count": null,
   "id": "2f5bb4c6-fc80-47ac-ad0c-2af15505b546",
   "metadata": {},
   "outputs": [],
   "source": [
    "jank.plot.sched_pelt_cfs_line()"
   ]
  },
  {
   "cell_type": "markdown",
   "id": "f1f95971-59c6-45d4-9895-937c42fb082c",
   "metadata": {},
   "source": [
    "## Bar plot"
   ]
  },
  {
   "cell_type": "code",
   "execution_count": null,
   "id": "28bc087f-c2a2-4061-835f-eeeda2e757c0",
   "metadata": {},
   "outputs": [],
   "source": [
    "jank.plot.sched_pelt_cfs_bar()"
   ]
  },
  {
   "cell_type": "markdown",
   "id": "888beb4e-4dff-459b-b859-edcb9d1e7c70",
   "metadata": {},
   "source": [
    "# Wakeup latency - tasks"
   ]
  },
  {
   "cell_type": "markdown",
   "id": "917600bb-5af9-4450-9c1d-54b2f3234ff5",
   "metadata": {},
   "source": [
    "## Line plot"
   ]
  },
  {
   "cell_type": "code",
   "execution_count": null,
   "id": "c58193a2-e34c-4ed6-87a6-0c18269a8d61",
   "metadata": {},
   "outputs": [],
   "source": [
    "jank.plot.wakeup_latency_line()"
   ]
  },
  {
   "cell_type": "markdown",
   "id": "c8520262-13e3-41e7-bcf1-e11d6809171f",
   "metadata": {},
   "source": [
    "## Bar plot"
   ]
  },
  {
   "cell_type": "code",
   "execution_count": null,
   "id": "98746075-e7c0-4f43-a4ab-4bc7d621799b",
   "metadata": {},
   "outputs": [],
   "source": [
    "jank.plot.wakeup_latency_bar()"
   ]
  },
  {
   "cell_type": "markdown",
   "id": "f279eb66-6130-4e61-8399-a70530241fce",
   "metadata": {},
   "source": [
    "## Quantiles"
   ]
  },
  {
   "cell_type": "code",
   "execution_count": null,
   "id": "98150fc5-f4ce-4ece-8a44-363508669dd7",
   "metadata": {},
   "outputs": [],
   "source": [
    "jank.plot.wakeup_latency_quantiles_bar()"
   ]
  },
  {
   "cell_type": "markdown",
   "id": "46c8ed8a-39eb-45eb-a04a-afc8e28f778f",
   "metadata": {},
   "source": [
    "# Wakeup latency - cgroups"
   ]
  },
  {
   "cell_type": "markdown",
   "id": "2d25a9a8-8a6c-4e26-86a1-dcbef1d1346c",
   "metadata": {},
   "source": [
    "## Line plot"
   ]
  },
  {
   "cell_type": "code",
   "execution_count": null,
   "id": "6c77bb00-804c-4c23-bd73-0f830d2194bf",
   "metadata": {},
   "outputs": [],
   "source": [
    "jank.plot.wakeup_latency_cgroup_line()"
   ]
  },
  {
   "cell_type": "markdown",
   "id": "a264e88b-36b4-452c-b0a1-6116497e96a6",
   "metadata": {},
   "source": [
    "## Bar plot"
   ]
  },
  {
   "cell_type": "code",
   "execution_count": null,
   "id": "fc02e21c-5e80-4903-a2f3-23aade1012c1",
   "metadata": {},
   "outputs": [],
   "source": [
    "jank.plot.wakeup_latency_cgroup_bar()"
   ]
  },
  {
   "cell_type": "markdown",
   "id": "ac82863c-db14-4573-9a16-2bb0b3ee9a68",
   "metadata": {},
   "source": [
    "## Quantiles"
   ]
  },
  {
   "cell_type": "code",
   "execution_count": null,
   "id": "c24f710a-ce62-4732-8f6c-6cc5854efe53",
   "metadata": {},
   "outputs": [],
   "source": [
    "jank.plot.wakeup_latency_cgroup_quantiles_bar()"
   ]
  },
  {
   "cell_type": "markdown",
   "id": "3b6e3a2b-e96d-4333-8df3-6b2087cdcf4a",
   "metadata": {},
   "source": [
    "# CPU residency - tasks"
   ]
  },
  {
   "cell_type": "markdown",
   "id": "fa43d868-423a-4598-b4b5-f43f54243fbc",
   "metadata": {},
   "source": [
    "## Clusters - Line plot"
   ]
  },
  {
   "cell_type": "code",
   "execution_count": null,
   "id": "3effecc2-4b4e-4178-8311-6bbc8de6d594",
   "metadata": {},
   "outputs": [],
   "source": [
    "jank.plot.tasks_cpu_residency_cluster_line()"
   ]
  },
  {
   "cell_type": "markdown",
   "id": "ee5468ec-e29b-4309-8b16-b3809d257e22",
   "metadata": {},
   "source": [
    "## Clusters - Bar plot"
   ]
  },
  {
   "cell_type": "code",
   "execution_count": null,
   "id": "0b0093a4-5e2e-4c97-91db-d5aeb5c842bf",
   "metadata": {},
   "outputs": [],
   "source": [
    "jank.plot.tasks_cpu_residency_cluster_bar()"
   ]
  },
  {
   "cell_type": "markdown",
   "id": "e83da2dd",
   "metadata": {},
   "source": [
    "## Clusters - Per-task bar plot"
   ]
  },
  {
   "cell_type": "code",
   "execution_count": null,
   "id": "1980ba6a",
   "metadata": {},
   "outputs": [],
   "source": [
    "jank.plot.tasks_cpu_residency_per_task_bar()"
   ]
  },
  {
   "cell_type": "markdown",
   "id": "e4193b6e-4a0f-4595-af25-52537de4dd7d",
   "metadata": {},
   "source": [
    "## CPUs - Bar plot"
   ]
  },
  {
   "cell_type": "code",
   "execution_count": null,
   "id": "e8af2ac4-3586-40e4-8c61-7511fd4b1707",
   "metadata": {},
   "outputs": [],
   "source": [
    "jank.plot.tasks_cpu_residency_cpu_bar()"
   ]
  },
  {
   "cell_type": "markdown",
   "id": "4849b962-a94c-4e1c-8df7-d3fa835487f1",
   "metadata": {},
   "source": [
    "# CPU residency - cgroups"
   ]
  },
  {
   "cell_type": "markdown",
   "id": "55abe9b3-c4e7-47ba-aea3-c6960d2e48a4",
   "metadata": {},
   "source": [
    "## Clusters - Bar plot"
   ]
  },
  {
   "cell_type": "code",
   "execution_count": null,
   "id": "c1a665e4-6d3c-4d90-b84b-1e20acf39ff3",
   "metadata": {},
   "outputs": [],
   "source": [
    "jank.plot.cgroup_cpu_residency_cluster_bar()"
   ]
  },
  {
   "cell_type": "markdown",
   "id": "a6ae2622-f194-45b1-ac9b-70f63c38ba14",
   "metadata": {},
   "source": [
    "## CPUs - Bar plot"
   ]
  },
  {
   "cell_type": "code",
   "execution_count": null,
   "id": "a5c91660-6df2-4b10-9239-c59893f5719c",
   "metadata": {},
   "outputs": [],
   "source": [
    "jank.plot.cgroup_cpu_residency_cpu_bar()"
   ]
  },
  {
   "cell_type": "markdown",
   "id": "bbcb2636",
   "metadata": {},
   "source": [
    "# Summary - TLDR"
   ]
  },
  {
   "cell_type": "code",
   "execution_count": null,
   "id": "36fdf21b",
   "metadata": {},
   "outputs": [],
   "source": [
    "jank.plot.summary()"
   ]
  }
 ],
 "metadata": {
  "kernelspec": {
   "display_name": "Python 3 (ipykernel)",
   "language": "python",
   "name": "python3"
  },
  "language_info": {
   "codemirror_mode": {
    "name": "ipython",
    "version": 3
   },
   "file_extension": ".py",
   "mimetype": "text/x-python",
   "name": "python",
   "nbconvert_exporter": "python",
   "pygments_lexer": "ipython3",
   "version": "3.8.10"
  }
 },
 "nbformat": 4,
 "nbformat_minor": 5
}
