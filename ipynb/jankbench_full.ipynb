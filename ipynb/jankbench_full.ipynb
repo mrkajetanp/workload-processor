{
 "cells": [
  {
   "cell_type": "markdown",
   "id": "ff00232a-a2be-48c0-8937-abe3a0e99418",
   "metadata": {},
   "source": [
    "# Setup"
   ]
  },
  {
   "cell_type": "code",
   "execution_count": null,
   "id": "cecd20c6-2560-4f7a-9df2-c9a1413b7452",
   "metadata": {
    "tags": []
   },
   "outputs": [],
   "source": [
    "import os\n",
    "import logging as log\n",
    "from lisa.utils import setup_logging\n",
    "setup_logging(level=log.ERROR)\n",
    "\n",
    "from lisa.trace import Trace\n",
    "from lisa.wa import WAOutput\n",
    "from lisa.stats import Stats\n",
    "from lisa.datautils import series_mean\n",
    "from pandas import DataFrame\n",
    "import pandas as pd\n",
    "import scipy as sp\n",
    "import numpy as np\n",
    "import plotly.express as px\n",
    "import plotly.io as pio\n",
    "import plotly.graph_objects as go\n",
    "import holoviews as hv\n",
    "from holoviews import opts\n",
    "from bokeh.themes import built_in_themes\n",
    "from tabulate import tabulate\n",
    "\n",
    "from wp.notebook import WorkloadNotebookAnalysis, trim_wa_path, ptable\n",
    "\n",
    "hv.extension('bokeh')\n",
    "hv.renderer('bokeh').theme = built_in_themes['dark_minimal']\n",
    "hv.renderer('bokeh').webgl = True\n",
    "pio.templates.default = \"plotly\"\n",
    "pio.templates.default = \"plotly_dark\"\n",
    "\n",
    "color_cycle = hv.Cycle(['#636EFA', '#EF553B', '#00CC96', '#AB63FA', '#FFA15A', '#19D3F3', '#FF6692', '#B6E880', '#FF97FF', '#FECB52'])\n",
    "\n",
    "opts.defaults(\n",
    "    opts.Curve(tools=['hover'], show_grid=True, color=color_cycle, muted_alpha=0),\n",
    "    opts.Table(bgcolor='black')\n",
    ")"
   ]
  },
  {
   "cell_type": "markdown",
   "id": "41e20065-b59c-4d93-9fc2-d828c929f174",
   "metadata": {},
   "source": [
    "## Runs"
   ]
  },
  {
   "cell_type": "code",
   "execution_count": null,
   "id": "f10a2149-063b-41e2-b974-8ee64d8d9a79",
   "metadata": {
    "tags": []
   },
   "outputs": [],
   "source": [
    "jank = WorkloadNotebookAnalysis('/home/kajpuc01/power/pixel6/jankbench', [\n",
    "    'jankbench_base-wo-uclamp_10_2307',\n",
    "    'jankbench_fix-wo-uclamp_10_2307',\n",
    "    'jankbench_runnable-wo-uclamp_10_2307',\n",
    "])\n",
    "\n",
    "jank.show()\n",
    "\n",
    "jank.analysis['jank'] = pd.concat([wa_output['jankbench'].df for wa_output in jank.wa_outputs])\n",
    "jank.analysis['jank']['wa_path'] = jank.analysis['jank']['wa_path'].map(trim_wa_path)\n",
    "\n",
    "display(jank.analysis['jank'])"
   ]
  },
  {
   "cell_type": "markdown",
   "id": "f367aadf-d0db-46a7-a147-246d17358d65",
   "metadata": {},
   "source": [
    "# Benchmark scores"
   ]
  },
  {
   "cell_type": "markdown",
   "id": "64855b6b-d9a7-4214-aaec-5fce720aa8fb",
   "metadata": {},
   "source": [
    "## Max frame durations"
   ]
  },
  {
   "cell_type": "code",
   "execution_count": null,
   "id": "01b74a3f-843b-4a57-9a7f-598e1a9c9f62",
   "metadata": {
    "tags": []
   },
   "outputs": [],
   "source": [
    "jank.analysis['max_duration'] = jank.analysis['jank'].query(\"variable == 'total_duration'\")[[\"wa_path\", \"iteration\", \"value\"]].groupby([\"wa_path\"]).max().reset_index()\n",
    "jank.analysis['max_duration']['variable'] = 'max_duration'\n",
    "jank.summary['max_duration'] = jank.plot_gmean_bars(jank.analysis['max_duration'], x='variable', y='value', title='jankbench max frame duration', width=1000, height=600)"
   ]
  },
  {
   "cell_type": "markdown",
   "id": "9f67f101-e3b1-49c2-8628-b739d90a1785",
   "metadata": {},
   "source": [
    "## Line plot - frame duration"
   ]
  },
  {
   "cell_type": "code",
   "execution_count": null,
   "id": "fb7e34f4-44e6-4ad5-a2c4-75d2ef226366",
   "metadata": {
    "tags": []
   },
   "outputs": [],
   "source": [
    "jank.analysis['mean_durations'] = jank.analysis['jank'].query(\"variable == 'total_duration'\")[[\"wa_path\", \"iteration\", \"value\"]].groupby([\"wa_path\", \"iteration\"]).agg(lambda x: series_mean(x)).reset_index()\n",
    "jank.analysis['mean_durations']['variable'] = 'mean_duration'\n",
    "\n",
    "ds = hv.Dataset(jank.analysis['mean_durations'], ['iteration', hv.Dimension('wa_path', values=jank.wa_paths)], 'value')\n",
    "layout = ds.to(hv.Curve, 'iteration', 'value').overlay('wa_path').opts(legend_position='bottom').opts(shared_axes=False, title='Jankbench mean frame duration per-iteration')\n",
    "layout.opts(\n",
    "    opts.Curve(height=600, width=1500, axiswise=True, shared_axes=False),\n",
    ")\n",
    "layout"
   ]
  },
  {
   "cell_type": "markdown",
   "id": "7808c41a-06f0-46e9-ac0d-1bae6d8fafee",
   "metadata": {},
   "source": [
    "## Overall frame durations"
   ]
  },
  {
   "cell_type": "code",
   "execution_count": null,
   "id": "67a2b7f2-36a3-4650-8d10-c4a3aa2261b2",
   "metadata": {
    "tags": []
   },
   "outputs": [],
   "source": [
    "jank.summary['mean_duration'] = jank.plot_gmean_bars(jank.analysis['mean_durations'], x='variable', y='value', title='jankbench gmean frame duration', width=1000, height=600)"
   ]
  },
  {
   "cell_type": "markdown",
   "id": "ea0f11d8-f621-4a52-bea1-8fe486e14d6e",
   "metadata": {},
   "source": [
    "## Frame duration histogram"
   ]
  },
  {
   "cell_type": "code",
   "execution_count": null,
   "id": "c52cacc2-7999-468e-8f03-4bd866fc05fc",
   "metadata": {
    "tags": []
   },
   "outputs": [],
   "source": [
    "fig = px.histogram(jank.analysis['jank'].query(\"variable == 'total_duration'\"), x='value', color='wa_path', barmode='group', nbins=40, height=800, title='Jankench frame duration histogram')\n",
    "fig.show(renderer='iframe')"
   ]
  },
  {
   "cell_type": "markdown",
   "id": "40a0b6cd-9170-4c46-abd7-f88601c40e3c",
   "metadata": {},
   "source": [
    "## Frame duration ecdf"
   ]
  },
  {
   "cell_type": "code",
   "execution_count": null,
   "id": "c18ac39a-bf31-46ae-9cf4-632954ec7b5b",
   "metadata": {
    "tags": []
   },
   "outputs": [],
   "source": []
  },
  {
   "cell_type": "code",
   "execution_count": null,
   "id": "0a1cb1d4-eb70-4db6-896a-31e8fcf15e2c",
   "metadata": {
    "tags": []
   },
   "outputs": [],
   "source": [
    "fig = px.ecdf(jank.analysis['jank'].query(\"variable == 'total_duration'\"), x='value', color='wa_path', height=800, title='')\n",
    "fig.show()"
   ]
  },
  {
   "cell_type": "markdown",
   "id": "623031bc-1d3c-4d6a-95f7-d96c9ea62f1c",
   "metadata": {},
   "source": [
    "## Overall jank percentage"
   ]
  },
  {
   "cell_type": "code",
   "execution_count": null,
   "id": "fbe8d780-cd13-4e1e-929b-289b9963b845",
   "metadata": {
    "tags": []
   },
   "outputs": [],
   "source": [
    "jank.analysis['jank_percs'] = jank.analysis['jank'].query(\"variable == 'jank_frame'\").groupby(['wa_path', 'iteration']).size().reset_index().rename(columns={0:'count'})\n",
    "jank.analysis['jank_percs']['jank_count'] = jank.analysis['jank'].query(\"variable == 'jank_frame' and value == 1.0\").groupby(['wa_path', 'iteration']).size().reset_index().rename(columns={0:'count'})['count']\n",
    "jank.analysis['jank_percs']['perc'] = round(jank.analysis['jank_percs']['jank_count'] / jank.analysis['jank_percs']['count'] * 100, 2)\n",
    "\n",
    "ds = hv.Dataset(jank.analysis['jank_percs'], ['iteration', hv.Dimension('wa_path', values=jank.wa_paths)], 'perc')\n",
    "layout = ds.to(hv.Curve, 'iteration', 'perc').overlay('wa_path').opts(legend_position='bottom').opts(shared_axes=False, title='Jankbench jank percentage per-iteration')\n",
    "layout.opts(\n",
    "    opts.Curve(height=600, width=1500, axiswise=True, shared_axes=False),\n",
    ")\n",
    "layout"
   ]
  },
  {
   "cell_type": "code",
   "execution_count": null,
   "id": "8384c4b0-a8f8-4aa6-923d-31bbc2f8c923",
   "metadata": {
    "tags": []
   },
   "outputs": [],
   "source": [
    "jank.analysis['jank_percs']['value'] = jank.analysis['jank_percs']['perc']\n",
    "jank.analysis['jank_percs']['variable'] = 'jank_perc'\n",
    "jank.summary['jank_percs'] = jank.plot_gmean_bars(jank.analysis['jank_percs'][['wa_path', 'iteration', 'value', 'variable']], x='variable', y='value', title='jankbench gmean jank percentage', width=1000, height=600)"
   ]
  },
  {
   "cell_type": "code",
   "execution_count": null,
   "id": "31bcdb31-01dd-46bf-ab44-fb545c218bf5",
   "metadata": {
    "tags": []
   },
   "outputs": [],
   "source": [
    "ds = hv.Dataset(jank.results, ['iteration', hv.Dimension('wa_path', values=jank.wa_paths), 'test_name', 'metric'], 'value')\n",
    "layout = ds.to(hv.Curve, 'iteration', 'value').overlay('wa_path').opts(legend_position='bottom').layout('test_name').opts(shared_axes=False, title='Jankbench metric per-iteration').cols(3)\n",
    "layout.opts(\n",
    "    opts.Curve(height=600, width=500, axiswise=True, shared_axes=False),\n",
    ")\n",
    "layout"
   ]
  },
  {
   "cell_type": "markdown",
   "id": "a0767de4-b599-4321-aedb-c335d9ac730b",
   "metadata": {},
   "source": [
    "## Bar plot - jank percentage"
   ]
  },
  {
   "cell_type": "code",
   "execution_count": null,
   "id": "bd3f07e4-a7e7-4c39-81b4-a56583dc13af",
   "metadata": {
    "tags": []
   },
   "outputs": [],
   "source": [
    "jank.plot_gmean_bars(jank.results.query(\"metric == 'jank_p'\"), x='stat', y='value', facet_col='test_name', facet_col_wrap=4, title='jankbench gmean jank percentage', width=1600, height=1000)"
   ]
  },
  {
   "cell_type": "markdown",
   "id": "3dd6b97f-958c-4686-bddb-574a551c7ea7",
   "metadata": {},
   "source": [
    "## Bar plot - mean duration"
   ]
  },
  {
   "cell_type": "code",
   "execution_count": null,
   "id": "e166d27b-6b76-40d8-b5b4-f382f3bed602",
   "metadata": {
    "tags": []
   },
   "outputs": [],
   "source": [
    "jank.plot_gmean_bars(jank.results.query(\"metric == 'mean'\"), x='stat', y='value', facet_col='test_name', facet_col_wrap=4, title='jankbench gmean frame duration', width=1600, height=1000)"
   ]
  },
  {
   "cell_type": "markdown",
   "id": "fdacf327-0709-479a-a241-552ecf6fad2c",
   "metadata": {},
   "source": [
    "# Overutilized"
   ]
  },
  {
   "cell_type": "code",
   "execution_count": null,
   "id": "ce155c4e-70a6-4ea7-af42-915121c909bd",
   "metadata": {
    "tags": []
   },
   "outputs": [],
   "source": [
    "def postprocess_overutil(df):\n",
    "    df['time'] = round(df['time'], 2)\n",
    "    df['total_time'] = round(df['total_time'], 2)\n",
    "    return df\n",
    "\n",
    "jank.load_combined_analysis('overutilized.pqt', postprocess=postprocess_overutil)\n",
    "jank.load_combined_analysis('overutilized_mean.pqt')\n",
    "ptable(jank.analysis['overutilized_mean'])"
   ]
  },
  {
   "cell_type": "markdown",
   "id": "33212c12-b81f-4755-9fd9-6309269a6103",
   "metadata": {},
   "source": [
    "## Line plot"
   ]
  },
  {
   "cell_type": "code",
   "execution_count": null,
   "id": "4afff0d2-4567-4747-bfc8-59b4b8e19162",
   "metadata": {},
   "outputs": [],
   "source": [
    "jank.plot_lines_px(jank.analysis['overutilized'], y='percentage', title='Overutilized percentage per-iteration')"
   ]
  },
  {
   "cell_type": "markdown",
   "id": "41063ef2-6933-4a5f-9a4d-3c2102e2b051",
   "metadata": {},
   "source": [
    "# Perf"
   ]
  },
  {
   "cell_type": "markdown",
   "id": "10eaab41-98e1-4510-8104-afdab8d7ea89",
   "metadata": {},
   "source": [
    "## Line plot"
   ]
  },
  {
   "cell_type": "code",
   "execution_count": null,
   "id": "76015fad-1b2c-42b3-b51a-ef3fa2e213fd",
   "metadata": {},
   "outputs": [],
   "source": [
    "metrics = ['cpu-migrations', 'context-switches', 'stalled-cycles-backend', 'page-faults', 'major-faults', 'cache-misses', 'instructions', 'cpu-cycles', 'cpu-clock']\n",
    "ds = hv.Dataset(df_perf, ['iteration', hv.Dimension('wa_path', values=wa_paths), hv.Dimension('metric', values=metrics)], 'value')\n",
    "layout = ds.select(metric=metrics).to(hv.Curve, 'iteration', 'value').overlay('wa_path').opts(legend_position='bottom').layout('metric').opts(shared_axes=False, title='Perf counters').cols(3)\n",
    "layout.opts(\n",
    "    opts.Curve(width=600, height=340),\n",
    "    opts.Overlay(legend_position='bottom'),\n",
    ")\n",
    "layout"
   ]
  },
  {
   "cell_type": "markdown",
   "id": "27799672-3e88-4d8f-872a-744661ac5fde",
   "metadata": {},
   "source": [
    "## Bar plot"
   ]
  },
  {
   "cell_type": "code",
   "execution_count": null,
   "id": "ab6e024f-4504-4243-bd80-77ae9412d8d4",
   "metadata": {},
   "outputs": [],
   "source": [
    "metrics = ['cpu-migrations', 'context-switches', 'stalled-cycles-backend', 'page-faults', 'major-faults', 'minor-faults', 'cache-misses', 'instructions', 'cpu-cycles', 'cpu-clock']\n",
    "plot_gmean_bars(df_perf.query(\"metric in @metrics\"), x='stat', y='value', facet_col='metric', facet_col_wrap=5, title='gmean perf counters', width=1900, height=900)"
   ]
  },
  {
   "cell_type": "markdown",
   "id": "90d8f0fb-a413-47eb-8fcf-e026f976d67c",
   "metadata": {},
   "source": [
    "# Idle residency"
   ]
  },
  {
   "cell_type": "code",
   "execution_count": null,
   "id": "96fc982f-a400-4a41-aedf-dcf5565ac62d",
   "metadata": {},
   "outputs": [],
   "source": [
    "jank.load_combined_analysis('idle_residency.pqt')\n",
    "jank.analysis['idle_residency'] = jank.analysis['idle_residency'].groupby(['wa_path', 'cluster', 'idle_state'], sort=False).mean().reset_index()[['wa_path', 'cluster', 'idle_state', 'time']]\n",
    "jank.analysis['idle_residency']['time'] = round(jank.analysis['idle_residency']['time'], 2)\n",
    "\n",
    "display(jank.analysis['idle_residency'])"
   ]
  },
  {
   "cell_type": "markdown",
   "id": "9265a2af-4f08-4767-8c36-4cc794d50d4a",
   "metadata": {},
   "source": [
    "## Bar plot"
   ]
  },
  {
   "cell_type": "code",
   "execution_count": null,
   "id": "90f46686-8970-4799-b7f0-af4b5ccefd8d",
   "metadata": {},
   "outputs": [],
   "source": [
    "fig = px.bar(jank.analysis['idle_residency'], x='idle_state', y='time', color='wa_path', facet_col='cluster', barmode='group', text=jank.analysis['idle_residency']['time'], width=1800, height=600, title='Idle state residencies')\n",
    "fig.update_traces(textposition='outside')\n",
    "fig.show(renderer='iframe')"
   ]
  },
  {
   "cell_type": "markdown",
   "id": "c5a0e4a6-30a9-42fd-bfad-5f4da92e96b8",
   "metadata": {},
   "source": [
    "# Idle misses"
   ]
  },
  {
   "cell_type": "code",
   "execution_count": null,
   "id": "7652f5b4-4c0e-4177-8ecc-35269153f29d",
   "metadata": {},
   "outputs": [],
   "source": [
    "def load_idle_misses(analysis):\n",
    "    def load_idle_miss_df(analysis_dir):\n",
    "        try:\n",
    "            wakeup_count = len(pd.read_parquet(os.path.join(analysis_dir, 'cpu_idle.pqt')).query(\"state == -1\"))\n",
    "            misses = pd.read_parquet(os.path.join(analysis_dir, 'cpu_idle_miss_counts.pqt')).groupby(['wa_path', 'kernel', 'cluster', 'below']).sum().reset_index()\n",
    "            misses['count_perc'] = round(misses['count'] / wakeup_count * 100, 3)\n",
    "            return misses\n",
    "        except FileNotFoundError as e:\n",
    "            print(e)\n",
    "\n",
    "    return pd.concat([load_idle_miss_df(os.path.join(analysis.benchmark_path, benchmark_dir, 'analysis')) for benchmark_dir in analysis.benchmark_dirs])\n",
    "\n",
    "\n",
    "jank.analysis['cpu_idle_misses'] = load_idle_misses(jank)\n",
    "jank.analysis['cpu_idle_misses']['type'] = jank.analysis['cpu_idle_misses']['below'].replace(0, 'too deep').replace(1, 'too shallow')\n",
    "jank.analysis['cpu_idle_misses']['wa_path'] = jank.analysis['cpu_idle_misses']['wa_path'].map(trim_wa_path)\n",
    "\n",
    "display(jank.analysis['cpu_idle_misses'])"
   ]
  },
  {
   "cell_type": "markdown",
   "id": "85154dbd-7e6d-42e5-ab77-ca8bf244d810",
   "metadata": {},
   "source": [
    "## Bar plot"
   ]
  },
  {
   "cell_type": "code",
   "execution_count": null,
   "id": "854705ab-ec32-47e8-8f2d-c64d010d946e",
   "metadata": {},
   "outputs": [],
   "source": [
    "ptable(jank.analysis['cpu_idle_misses'].groupby(['wa_path', 'type']).sum().reset_index()[['wa_path', 'type', 'count_perc']])\n",
    "fig = px.bar(jank.analysis['cpu_idle_misses'], x='type', y='count_perc', color='wa_path', facet_col='cluster', barmode='group', text=jank.analysis['cpu_idle_misses']['count_perc'], width=1800, height=600, title='CPUIdle misses as percentage of all wakeups')\n",
    "fig.show(renderer='iframe')"
   ]
  },
  {
   "cell_type": "markdown",
   "id": "ef18dfd4-9020-4666-8cb9-55021e206840",
   "metadata": {},
   "source": [
    "# Power usage"
   ]
  },
  {
   "cell_type": "code",
   "execution_count": null,
   "id": "03562334-977f-4f5e-ae5a-4c88d9767b65",
   "metadata": {
    "tags": []
   },
   "outputs": [],
   "source": [
    "def postprocess_pixel6_emeter_means(df):\n",
    "    df_total = df.groupby(['wa_path', 'kernel', 'iteration']).sum().reset_index()\n",
    "    df_total['channel'] = 'Total'\n",
    "\n",
    "    df_cpu_total = df.query(\"channel.str.startswith('CPU')\").groupby(['wa_path', 'kernel', 'iteration']).sum().reset_index()\n",
    "    df_cpu_total['channel'] = 'CPU'\n",
    "    return pd.concat([df, df_cpu_total, df_total])[['wa_path', 'kernel', 'iteration', 'channel', 'power']]\n",
    "\n",
    "\n",
    "jank.load_combined_analysis('pixel6_emeter.pqt')\n",
    "jank.load_combined_analysis('pixel6_emeter_mean.pqt', postprocess=postprocess_pixel6_emeter_means)\n",
    "\n",
    "display(jank.analysis['pixel6_emeter_mean'])"
   ]
  },
  {
   "cell_type": "markdown",
   "id": "2b6618dc-34d2-4f55-937a-0644ad9424ae",
   "metadata": {},
   "source": [
    "## Line plot"
   ]
  },
  {
   "cell_type": "code",
   "execution_count": null,
   "id": "4fb1b971-a771-47ac-bc3c-c23b4dda5fef",
   "metadata": {
    "tags": []
   },
   "outputs": [],
   "source": [
    "jank.plot_lines_px(jank.analysis['pixel6_emeter_mean'], y='power', facet_col='channel', facet_col_wrap=3, height=1000, title='Mean power usage across iterations [mW]')"
   ]
  },
  {
   "cell_type": "markdown",
   "id": "bf5eb606-bc8e-4b3e-8bab-2e11eb28d6e4",
   "metadata": {},
   "source": [
    "## Bar plot"
   ]
  },
  {
   "cell_type": "code",
   "execution_count": null,
   "id": "f3a2de01-0fee-4f19-ba49-aa99c3e59430",
   "metadata": {
    "tags": []
   },
   "outputs": [],
   "source": [
    "jank.summary['power_usage'] = jank.plot_gmean_bars(jank.analysis['pixel6_emeter_mean'].rename(columns={'power':'value'}), x='channel', y='value', facet_col='metric', facet_col_wrap=5, title='Gmean power usage [mW]', width=1800, height=600, include_total=True, include_columns=['channel'])"
   ]
  },
  {
   "cell_type": "markdown",
   "id": "cfd1da00-5be2-41fb-879f-3d1accad3eaa",
   "metadata": {},
   "source": [
    "# Energy estimate"
   ]
  },
  {
   "cell_type": "code",
   "execution_count": null,
   "id": "a52cec23-aa7b-4f47-95ea-a2b992719a2d",
   "metadata": {},
   "outputs": [],
   "source": [
    "jank.load_combined_analysis('energy_estimate_mean.pqt')\n",
    "jank.analysis['energy_estimate_melt'] = pd.melt(jank.analysis['energy_estimate_mean'], id_vars=['iteration', 'wa_path'], value_vars=['little', 'mid', 'big', 'total']).rename(columns={'variable':'cluster'})"
   ]
  },
  {
   "cell_type": "markdown",
   "id": "9ab2574e-3524-4567-8c90-bfc38aadfefd",
   "metadata": {},
   "source": [
    "## Line plot"
   ]
  },
  {
   "cell_type": "code",
   "execution_count": null,
   "id": "a6dc154d-9235-44f9-a759-17715fd83a85",
   "metadata": {},
   "outputs": [],
   "source": [
    "jank.plot_lines_px(jank.analysis['energy_estimate_melt'], y='value', facet_col='cluster', title='Mean energy estimate across iterations [bW]')"
   ]
  },
  {
   "cell_type": "markdown",
   "id": "f684ff30-9611-4066-9a61-6c81961f1d6c",
   "metadata": {},
   "source": [
    "## Bar plot"
   ]
  },
  {
   "cell_type": "code",
   "execution_count": null,
   "id": "8c37728d-e6b2-47d6-9169-216e2ba8684e",
   "metadata": {},
   "outputs": [],
   "source": [
    "jank.summary['energy_estimate'] = jank.plot_gmean_bars(jank.analysis['energy_estimate_melt'], x='cluster', y='value', facet_col='metric', facet_col_wrap=5, title='Gmean energy estimate [bW]', width=1900, height=600, include_columns=['cluster'], order_cluster=True, include_total=True)"
   ]
  },
  {
   "cell_type": "markdown",
   "id": "13c462a9-a006-4d33-81e7-0b63325c75c4",
   "metadata": {},
   "source": [
    "# Thermal"
   ]
  },
  {
   "cell_type": "code",
   "execution_count": null,
   "id": "9ca56d6f-a22f-47ba-bb3b-90299c5cd4fb",
   "metadata": {},
   "outputs": [],
   "source": [
    "def preprocess_thermal(df):\n",
    "    return df.groupby(['iteration', 'kernel', 'wa_path']).mean().reset_index()\n",
    "\n",
    "def postprocess_thermal(df):\n",
    "    for col in [c for c in df.columns if c not in ['time', 'iteration', 'kernel', 'wa_path']]:\n",
    "        df[col] = df[col] / 1000\n",
    "    df = round(df, 2)\n",
    "    return df\n",
    "\n",
    "jank.load_combined_analysis('thermal.pqt', preprocess=preprocess_thermal, postprocess=postprocess_thermal)\n",
    "jank.analysis['thermal_melt'] = pd.melt(jank.analysis['thermal'], id_vars=['iteration', 'wa_path', 'kernel'], value_vars=['little', 'mid', 'big']).rename(columns={'variable':'cluster'})\n",
    "display(jank.analysis['thermal'])"
   ]
  },
  {
   "cell_type": "markdown",
   "id": "c0efab5b-80b0-4e5a-a076-b62a1508a492",
   "metadata": {},
   "source": [
    "## Line plot"
   ]
  },
  {
   "cell_type": "code",
   "execution_count": null,
   "id": "8d11d42f-6073-486b-98ab-658d0104f8ca",
   "metadata": {},
   "outputs": [],
   "source": [
    "ds = hv.Dataset(jank.analysis['thermal_melt'], ['iteration', hv.Dimension('wa_path', values=jank.wa_paths), hv.Dimension('cluster', values=jank.CLUSTERS)], 'value')\n",
    "layout = ds.to(hv.Curve, 'iteration', 'value').overlay('wa_path').opts(legend_position='bottom').layout('cluster').opts(title='Mean cluster temperature across iterations')\n",
    "layout.opts(\n",
    "    opts.Curve(width=600, height=600, ylabel='temperature'),\n",
    ")\n",
    "layout"
   ]
  },
  {
   "cell_type": "markdown",
   "id": "5f266d7a-2386-445f-8987-d0baaefb3a5b",
   "metadata": {},
   "source": [
    "## Bar plot"
   ]
  },
  {
   "cell_type": "code",
   "execution_count": null,
   "id": "71afecc5-68f5-429e-b9b8-f359a9aebfe1",
   "metadata": {},
   "outputs": [],
   "source": [
    "jank.summary['thermal'] = jank.plot_gmean_bars(jank.analysis['thermal_melt'], x='cluster', y='value', facet_col='metric', facet_col_wrap=2, title='Gmean temperature', width=1800, height=600, order_cluster=True, include_columns=['cluster'])"
   ]
  },
  {
   "cell_type": "markdown",
   "id": "fdc02cb0-0bcc-4367-bc37-8120108ec70e",
   "metadata": {},
   "source": [
    "# Frequency"
   ]
  },
  {
   "cell_type": "code",
   "execution_count": null,
   "id": "39e5880b-88c0-424e-94f5-2635a26884e0",
   "metadata": {},
   "outputs": [],
   "source": [
    "def postprocess_freq(df):\n",
    "    df['unit'] = 'MHz'\n",
    "    df['metric'] = 'frequency'\n",
    "    df['order'] = df['cluster'].replace('little', 0).replace('mid', 1).replace('big', 2)\n",
    "    return df.sort_values(by=['iteration', 'order']).rename(columns={'frequency':'value'})\n",
    "\n",
    "jank.load_combined_analysis('freqs_mean.pqt', postprocess=postprocess_freq)\n",
    "display(jank.analysis['freqs_mean'].head())"
   ]
  },
  {
   "cell_type": "markdown",
   "id": "b8d1e3ef-7665-4b99-b3b8-3c8bec6dc4b7",
   "metadata": {},
   "source": [
    "## Line plot"
   ]
  },
  {
   "cell_type": "code",
   "execution_count": null,
   "id": "bca933d3-916d-4656-9613-9aa991b708f7",
   "metadata": {},
   "outputs": [],
   "source": [
    "ds = hv.Dataset(jank.analysis['freqs_mean'], ['iteration', hv.Dimension('wa_path', values=jank.wa_paths), hv.Dimension('cluster', values=jank.CLUSTERS)], 'value')\n",
    "layout = ds.to(hv.Curve, 'iteration', 'value').overlay('wa_path').opts(legend_position='bottom').layout('cluster').opts(title='Mean cluster frequency across iterations')\n",
    "layout.opts(\n",
    "    opts.Curve(width=600, height=600, ylabel='MHz'),\n",
    ")\n",
    "layout"
   ]
  },
  {
   "cell_type": "markdown",
   "id": "cc2e2bc5-5ddc-4627-850d-e5e27b683e53",
   "metadata": {},
   "source": [
    "## Bar plot"
   ]
  },
  {
   "cell_type": "code",
   "execution_count": null,
   "id": "bbb72d9b-f40f-4428-a8bd-0cd2e19d7989",
   "metadata": {},
   "outputs": [],
   "source": [
    "jank.summary['frequency'] = jank.plot_gmean_bars(jank.analysis['freqs_mean'], x='metric', y='value', facet_col='cluster', facet_col_wrap=3, title='Gmean frequency per cluster', width=1800, height=600, order_cluster=True, include_columns=['cluster'])"
   ]
  },
  {
   "cell_type": "markdown",
   "id": "c93c6cb7-86e9-4a3d-afa0-792aa953c70f",
   "metadata": {},
   "source": [
    "# CFS signals"
   ]
  },
  {
   "cell_type": "code",
   "execution_count": null,
   "id": "0814340a-e6bf-4356-964e-6fa341c17842",
   "metadata": {},
   "outputs": [],
   "source": [
    "jank.load_combined_analysis('sched_pelt_cfs_mean.pqt')\n",
    "jank.analysis['sched_pelt_cfs_melt'] = pd.melt(jank.analysis['sched_pelt_cfs_mean'], id_vars=['iteration', 'wa_path', 'kernel', 'cluster'], value_vars=['util', 'load'])"
   ]
  },
  {
   "cell_type": "markdown",
   "id": "9b528221-8603-4227-9493-d5062d9c18ef",
   "metadata": {},
   "source": [
    "## Line plot"
   ]
  },
  {
   "cell_type": "code",
   "execution_count": null,
   "id": "2f5bb4c6-fc80-47ac-ad0c-2af15505b546",
   "metadata": {},
   "outputs": [],
   "source": [
    "signals = ['util', 'load']\n",
    "ds = hv.Dataset(jank.analysis['sched_pelt_cfs_mean'], ['iteration', hv.Dimension('wa_path', values=jank.wa_paths), hv.Dimension('cluster', values=jank.CLUSTERS)], signals)\n",
    "layout = hv.Layout([ds.to(hv.Curve, 'iteration', signal).overlay('wa_path').opts(legend_position='bottom').layout('cluster').opts(title='Mean cluster ' + signal, framewise=True) for signal in signals]).cols(1)\n",
    "layout.opts(\n",
    "    opts.Curve(width=800, height=400, framewise=True),\n",
    ")\n",
    "layout"
   ]
  },
  {
   "cell_type": "markdown",
   "id": "f1f95971-59c6-45d4-9895-937c42fb082c",
   "metadata": {},
   "source": [
    "## Bar plot"
   ]
  },
  {
   "cell_type": "code",
   "execution_count": null,
   "id": "28bc087f-c2a2-4061-835f-eeeda2e757c0",
   "metadata": {},
   "outputs": [],
   "source": [
    "jank.summary['cfs_signals'] = jank.plot_gmean_bars(jank.analysis['sched_pelt_cfs_melt'], x='cluster', y='value', facet_col='variable', facet_col_wrap=1, title='Gmean cfs signals', width=1900, height=1000, order_cluster=True, include_columns=['cluster'])"
   ]
  },
  {
   "cell_type": "markdown",
   "id": "888beb4e-4dff-459b-b859-edcb9d1e7c70",
   "metadata": {},
   "source": [
    "# Wakeup latency - tasks"
   ]
  },
  {
   "cell_type": "code",
   "execution_count": null,
   "id": "395d60cf-e9c9-42d2-b1b4-d880057e94bc",
   "metadata": {},
   "outputs": [],
   "source": [
    "def postprocess_wakeup_latency_mean(df):\n",
    "    df = df.rename(columns={'wakeup_latency':'value'})\n",
    "    df['order'] = df['wa_path'].map(lambda x: jank.wa_paths.index(x))\n",
    "    df['unit'] = 'x'\n",
    "    return df\n",
    "\n",
    "jank.load_combined_analysis('wakeup_latency_mean.pqt', postprocess=postprocess_wakeup_latency_mean)\n",
    "\n",
    "def postprocess_wakeup_latency(df):\n",
    "    df['order'] = df['wa_path'].map(lambda x: jank.wa_paths.index(x))\n",
    "    df['cluster'] = df['cpu'].copy().apply(lambda c: 'little' if c < 4 else 'big' if c > 5 else 'mid')\n",
    "    df['order_cluster'] = df['cluster'].map(lambda x: jank.CLUSTERS.index(x))\n",
    "    df['target_cluster'] = df['target_cpu'].copy().apply(lambda c: 'little' if c < 4 else 'big' if c > 5 else 'mid')\n",
    "    df['order_target_cluster'] = df['target_cluster'].map(lambda x: jank.CLUSTERS.index(x))\n",
    "    return df\n",
    "\n",
    "jank.load_combined_analysis('wakeup_latency.pqt', postprocess=postprocess_wakeup_latency)\n",
    "\n",
    "display(jank.analysis['wakeup_latency'])"
   ]
  },
  {
   "cell_type": "markdown",
   "id": "917600bb-5af9-4450-9c1d-54b2f3234ff5",
   "metadata": {},
   "source": [
    "## Line plot"
   ]
  },
  {
   "cell_type": "code",
   "execution_count": null,
   "id": "c58193a2-e34c-4ed6-87a6-0c18269a8d61",
   "metadata": {},
   "outputs": [],
   "source": [
    "jank.plot_lines_px(jank.analysis['wakeup_latency_mean'], facet_col='comm', facet_col_wrap=2, height=1000, title='Task wakeup latencies across iterations')"
   ]
  },
  {
   "cell_type": "markdown",
   "id": "c8520262-13e3-41e7-bcf1-e11d6809171f",
   "metadata": {},
   "source": [
    "## Bar plot"
   ]
  },
  {
   "cell_type": "code",
   "execution_count": null,
   "id": "98746075-e7c0-4f43-a4ab-4bc7d621799b",
   "metadata": {},
   "outputs": [],
   "source": [
    "jank.summary['wakeup_latency'] = jank.plot_gmean_bars(jank.analysis['wakeup_latency_mean'], x='metric', y='value', facet_col='comm', facet_col_wrap=2, title='Gmean task wakeup latency', table_sort=['comm', 'kernel'], gmean_round=0, width=1900, height=1000)"
   ]
  },
  {
   "cell_type": "markdown",
   "id": "f279eb66-6130-4e61-8399-a70530241fce",
   "metadata": {},
   "source": [
    "## Quantiles"
   ]
  },
  {
   "cell_type": "code",
   "execution_count": null,
   "id": "c6157250-485d-4979-a194-7d9d5454acd3",
   "metadata": {},
   "outputs": [],
   "source": [
    "jank.analysis['wakeup_latency_quantiles'] = jank.analysis['wakeup_latency'].groupby(['comm', 'wa_path', 'iteration']).quantile([0.9, 0.95, 0.99]).reset_index()[['comm', 'wa_path', 'level_3', 'iteration', 'wakeup_latency', 'order']].rename(columns={'level_3':'quantile'}).sort_values(by=['comm', 'order'])\n",
    "jank.analysis['wakeup_latency_quantiles']"
   ]
  },
  {
   "cell_type": "code",
   "execution_count": null,
   "id": "98150fc5-f4ce-4ece-8a44-363508669dd7",
   "metadata": {},
   "outputs": [],
   "source": [
    "jank.plot_gmean_bars(jank.analysis['wakeup_latency_quantiles'].rename(columns={'wakeup_latency':'value'}), x='quantile', y='value', facet_col='comm', facet_col_wrap=1, title='Gmean latency quantile', width=1900, include_columns=['quantile'], table_sort=['quantile', 'comm'], height=1200, gmean_round=0)"
   ]
  },
  {
   "cell_type": "markdown",
   "id": "46c8ed8a-39eb-45eb-a04a-afc8e28f778f",
   "metadata": {},
   "source": [
    "# Wakeup latency - cgroups"
   ]
  },
  {
   "cell_type": "code",
   "execution_count": null,
   "id": "c1dc5ca6-ce88-4270-8759-f9650388cf38",
   "metadata": {},
   "outputs": [],
   "source": [
    "def postprocess_cgroup_latency(df):\n",
    "        df = df.rename(columns={'wakeup_latency':'value'})\n",
    "        df['order'] = df['wa_path'].map(lambda x: jank.wa_paths.index(x))\n",
    "        return df\n",
    "\n",
    "jank.load_combined_analysis('wakeup_latency_cgroup.pqt', postprocess=postprocess_cgroup_latency)\n",
    "jank.analysis['wakeup_latency_cgroup_mean'] = jank.analysis['wakeup_latency_cgroup'].groupby([\"wa_path\", \"cgroup\", \"iteration\", \"order\"]).agg(lambda x: series_mean(x)).reset_index().sort_values(by=[\"order\", \"cgroup\", \"iteration\"])[['wa_path', 'cgroup', 'iteration', 'value', 'order']]\n",
    "jank.analysis['wakeup_latency_cgroup_mean'].head()"
   ]
  },
  {
   "cell_type": "markdown",
   "id": "2d25a9a8-8a6c-4e26-86a1-dcbef1d1346c",
   "metadata": {},
   "source": [
    "## Line plot"
   ]
  },
  {
   "cell_type": "code",
   "execution_count": null,
   "id": "6c77bb00-804c-4c23-bd73-0f830d2194bf",
   "metadata": {},
   "outputs": [],
   "source": [
    "fig = px.line(jank.analysis['wakeup_latency_cgroup_mean'], x='iteration', y='value', color='wa_path', facet_col='cgroup', facet_col_wrap=3, height=600, title='cgroup wakeup latencies across iterations')\n",
    "fig.update_yaxes(matches=None)\n",
    "fig.show()"
   ]
  },
  {
   "cell_type": "markdown",
   "id": "a264e88b-36b4-452c-b0a1-6116497e96a6",
   "metadata": {},
   "source": [
    "## Bar plot"
   ]
  },
  {
   "cell_type": "code",
   "execution_count": null,
   "id": "fc02e21c-5e80-4903-a2f3-23aade1012c1",
   "metadata": {},
   "outputs": [],
   "source": [
    "jank.plot_gmean_bars(jank.analysis['wakeup_latency_cgroup_mean'], x='metric', y='value', facet_col='cgroup', title='Gmean task wakeup latency per-cgroup', include_columns=['cgroup'], table_sort=['cgroup'], gmean_round=0, width=1800, height=600)"
   ]
  },
  {
   "cell_type": "markdown",
   "id": "ac82863c-db14-4573-9a16-2bb0b3ee9a68",
   "metadata": {},
   "source": [
    "## Quantiles"
   ]
  },
  {
   "cell_type": "code",
   "execution_count": null,
   "id": "535ac56f-593e-4557-807c-9d85d107e644",
   "metadata": {},
   "outputs": [],
   "source": [
    "jank.analysis['wakeup_latency_cgroup_quantiles'] = jank.analysis['wakeup_latency_cgroup'].groupby(['cgroup', 'wa_path', 'iteration']).quantile([0.9, 0.95, 0.99]).reset_index()[['cgroup', 'wa_path', 'level_3', 'iteration', 'value', 'order']].rename(columns={'level_3':'quantile'}).sort_values(by=['cgroup', 'order'])\n",
    "jank.analysis['wakeup_latency_cgroup_quantiles']"
   ]
  },
  {
   "cell_type": "code",
   "execution_count": null,
   "id": "c24f710a-ce62-4732-8f6c-6cc5854efe53",
   "metadata": {},
   "outputs": [],
   "source": [
    "jank.plot_gmean_bars(jank.analysis['wakeup_latency_cgroup_quantiles'], x='quantile', y='value', facet_col='cgroup', facet_col_wrap=1, title='Gmean latency quantile per-cgroup', include_columns=['cgroup', 'quantile'], table_sort=['quantile', 'cgroup'], width=1900, height=1400, gmean_round=0)"
   ]
  },
  {
   "cell_type": "markdown",
   "id": "3b6e3a2b-e96d-4333-8df3-6b2087cdcf4a",
   "metadata": {},
   "source": [
    "# CPU residency - tasks"
   ]
  },
  {
   "cell_type": "code",
   "execution_count": null,
   "id": "463c600f-9736-43be-ad71-876685cc5672",
   "metadata": {},
   "outputs": [],
   "source": [
    "tasks_important = ['RenderThread', 'droid.benchmark', 'surfaceflinger']\n",
    "\n",
    "def postprocess_task_residency_cpu_total(df):\n",
    "    df = df.rename(columns={'Total':'total'})\n",
    "    return df\n",
    "\n",
    "jank.load_combined_analysis('tasks_residency_cpu_total.pqt', postprocess=postprocess_task_residency_cpu_total)\n",
    "jank.analysis['task_residency_cpu_total_melt'] = pd.melt(jank.analysis['tasks_residency_cpu_total'], id_vars=['iteration', 'wa_path', 'kernel'], value_vars=jank.CPUS).rename(columns={'variable':'cluster'})\n",
    "jank.analysis['task_residency_cpu_total_cluster_melt'] = pd.melt(jank.analysis['tasks_residency_cpu_total'], id_vars=['iteration', 'wa_path', 'kernel'], value_vars=jank.CLUSTERS_TOTAL).rename(columns={'cpu':'cluster'})\n",
    "\n",
    "def postprocess_task_residency_total(df):\n",
    "    df = df.rename(columns={'Total':'total'}).query(\"comm in @tasks_important\")\n",
    "    return df\n",
    "\n",
    "jank.load_combined_analysis('tasks_residency_total.pqt', postprocess=postprocess_task_residency_total)\n",
    "jank.analysis['tasks_residency_total'] = jank.analysis['tasks_residency_total'].sort_values(by=['wa_path', 'kernel', 'iteration'])\n",
    "jank.analysis['task_residency_total_melt'] = pd.melt(jank.analysis['tasks_residency_total'], id_vars=['iteration', 'wa_path', 'kernel', 'comm'], value_vars=jank.CPUS).rename(columns={'variable':'cluster'})\n",
    "jank.analysis['task_residency_total_cluster_melt'] = pd.melt(jank.analysis['tasks_residency_total'], id_vars=['iteration', 'wa_path', 'kernel', 'comm'], value_vars=jank.CLUSTERS_TOTAL).rename(columns={'cpu':'cluster'})\n",
    "\n",
    "def postprocess_task_residency(df):\n",
    "    df = df.rename(columns={'Total':'total'}).query(\"comm in @tasks_important\")\n",
    "    return df\n",
    "\n",
    "jank.load_combined_analysis('tasks_residency.pqt', postprocess=postprocess_task_residency)\n",
    "jank.analysis['tasks_residency_cluster_melt'] = pd.melt(jank.analysis['tasks_residency'], id_vars=['iteration', 'wa_path', 'kernel', 'comm'], value_vars=jank.CLUSTERS_TOTAL).rename(columns={'cpu':'cluster'})\n",
    "\n",
    "display(jank.analysis['tasks_residency_cpu_total'])\n",
    "\n",
    "jank.analysis['task_residency_total_melt']"
   ]
  },
  {
   "cell_type": "markdown",
   "id": "fa43d868-423a-4598-b4b5-f43f54243fbc",
   "metadata": {},
   "source": [
    "## Clusters - Line plot"
   ]
  },
  {
   "cell_type": "code",
   "execution_count": null,
   "id": "3effecc2-4b4e-4178-8311-6bbc8de6d594",
   "metadata": {},
   "outputs": [],
   "source": [
    "ds = hv.Dataset(jank.analysis['task_residency_cpu_total_cluster_melt'], ['iteration', hv.Dimension('wa_path', values=jank.wa_paths), hv.Dimension('cluster', values=jank.CLUSTERS_TOTAL)], 'value')\n",
    "layout = ds.to(hv.Curve, 'iteration', 'value').overlay('wa_path').opts(legend_position='bottom').layout('cluster').cols(4).opts(title='Mean cluster CPU residency')\n",
    "layout.opts(\n",
    "    opts.Curve(width=500, height=600, ylabel='time'),\n",
    ")\n",
    "layout"
   ]
  },
  {
   "cell_type": "markdown",
   "id": "ee5468ec-e29b-4309-8b16-b3809d257e22",
   "metadata": {},
   "source": [
    "## Clusters - Bar plot"
   ]
  },
  {
   "cell_type": "code",
   "execution_count": null,
   "id": "0b0093a4-5e2e-4c97-91db-d5aeb5c842bf",
   "metadata": {},
   "outputs": [],
   "source": [
    "jank.plot_gmean_bars(jank.analysis['task_residency_cpu_total_cluster_melt'], x='cluster', y='value', facet_col='metric', facet_col_wrap=2, title='Gmean cluster CPU residency', include_columns=['cluster'], width=1800, height=600, order_cluster=True, include_total=True)"
   ]
  },
  {
   "cell_type": "markdown",
   "id": "e83da2dd",
   "metadata": {},
   "source": [
    "## Clusters - Per-task bar plot"
   ]
  },
  {
   "cell_type": "code",
   "execution_count": null,
   "id": "1980ba6a",
   "metadata": {},
   "outputs": [],
   "source": [
    "jank.summary['task_cpu_residency'] = jank.plot_gmean_bars(jank.analysis['task_residency_total_cluster_melt'], x='cluster', y='value', facet_col='comm', facet_col_wrap=1, title='Gmean cluster task CPU residency', include_columns=['cluster'], width=1800, height=1200, order_cluster=True, include_total=True)"
   ]
  },
  {
   "cell_type": "markdown",
   "id": "c12134a5-3faa-4720-9ae6-ef941b0c9fa9",
   "metadata": {},
   "source": [
    "## CPUs - Line plot"
   ]
  },
  {
   "cell_type": "code",
   "execution_count": null,
   "id": "2ba7ee15-d37f-4f72-9274-6b0e65f5aea0",
   "metadata": {},
   "outputs": [],
   "source": [
    "ds = hv.Dataset(jank.analysis['task_residency_total_melt'], ['iteration', hv.Dimension('wa_path', values=jank.wa_paths), hv.Dimension('cpu', values=jank.CPUS), 'comm'], 'value')\n",
    "layout = ds.to(hv.Curve, 'iteration', 'value').overlay('wa_path').opts(legend_position='bottom').layout('cpu').cols(3).opts(title='Mean CPU residency', framewise=True)\n",
    "layout.opts(\n",
    "    opts.Curve(width=600, height=600, ylabel='time'),\n",
    ")\n",
    "layout"
   ]
  },
  {
   "cell_type": "markdown",
   "id": "e4193b6e-4a0f-4595-af25-52537de4dd7d",
   "metadata": {},
   "source": [
    "## CPUs - Bar plot"
   ]
  },
  {
   "cell_type": "code",
   "execution_count": null,
   "id": "e8af2ac4-3586-40e4-8c61-7511fd4b1707",
   "metadata": {},
   "outputs": [],
   "source": [
    "jank.plot_gmean_bars(jank.analysis['task_residency_total_melt'], x='cpu', y='value', facet_col='comm', facet_col_wrap=1, title='Gmean CPU residency', width=1900, height=1200)"
   ]
  },
  {
   "cell_type": "markdown",
   "id": "4849b962-a94c-4e1c-8df7-d3fa835487f1",
   "metadata": {},
   "source": [
    "# CPU residency - cgroups"
   ]
  },
  {
   "cell_type": "code",
   "execution_count": null,
   "id": "30ff3dcb-df08-4452-b978-c1dd8dc2a3f7",
   "metadata": {},
   "outputs": [],
   "source": [
    "def postprocess_cgroup_task_residency(df):\n",
    "    df = df.rename(columns={'Total':'total'})[['wa_path', 'cgroup', 'iteration', 'total', 'little', 'mid', 'big'] + jank.CPUS]\n",
    "    return df\n",
    "\n",
    "jank.load_combined_analysis('tasks_residency_cgroup_total.pqt', postprocess=postprocess_cgroup_task_residency)\n",
    "jank.analysis['cgroup_residency_total_melt'] = pd.melt(jank.analysis['tasks_residency_cgroup_total'], id_vars=['iteration', 'wa_path', 'cgroup'], value_vars=jank.CPUS).rename(columns={'variable':'cluster'})\n",
    "jank.analysis['cgroup_residency_total_cluster_melt'] = pd.melt(jank.analysis['tasks_residency_cgroup_total'], id_vars=['iteration', 'wa_path', 'cgroup'], value_vars=jank.CLUSTERS_TOTAL).rename(columns={'cpu':'cluster'})\n",
    "\n",
    "display(jank.analysis['tasks_residency_cgroup_total'].head())"
   ]
  },
  {
   "cell_type": "markdown",
   "id": "55abe9b3-c4e7-47ba-aea3-c6960d2e48a4",
   "metadata": {},
   "source": [
    "## Clusters - Bar plot"
   ]
  },
  {
   "cell_type": "code",
   "execution_count": null,
   "id": "c1a665e4-6d3c-4d90-b84b-1e20acf39ff3",
   "metadata": {},
   "outputs": [],
   "source": [
    "jank.plot_gmean_bars(jank.analysis['cgroup_residency_total_cluster_melt'], x='cluster', y='value', facet_col='cgroup', facet_col_wrap=1, title='Gmean cluster CPU residency per-cgroup', width=1800, height=1100, include_columns=['cgroup', 'cluster'], table_sort=['cgroup', 'cluster'], order_cluster=True, include_total=True)"
   ]
  },
  {
   "cell_type": "markdown",
   "id": "a6ae2622-f194-45b1-ac9b-70f63c38ba14",
   "metadata": {},
   "source": [
    "## CPUs - Bar plot"
   ]
  },
  {
   "cell_type": "code",
   "execution_count": null,
   "id": "a5c91660-6df2-4b10-9239-c59893f5719c",
   "metadata": {},
   "outputs": [],
   "source": [
    "jank.plot_gmean_bars(jank.analysis['cgroup_residency_total_melt'], x='cpu', y='value', facet_col='cgroup', facet_col_wrap=1, title='Gmean cgroup CPU residency', width=2000, height=1300, include_columns=['cgroup', 'cpu'])"
   ]
  },
  {
   "cell_type": "markdown",
   "id": "bbcb2636",
   "metadata": {},
   "source": [
    "# Summary - TLDR"
   ]
  },
  {
   "cell_type": "code",
   "execution_count": null,
   "id": "36fdf21b",
   "metadata": {},
   "outputs": [],
   "source": [
    "summary_parts = []\n",
    "\n",
    "if 'mean_duration' in jank.summary:\n",
    "    summary_mean_durations = jank.summary['mean_duration'].copy()\n",
    "    summary_mean_durations['perc_diff'] = summary_mean_durations['perc_diff'].apply(lambda s: f\"({s})\")\n",
    "    summary_mean_durations['value'] = summary_mean_durations['value'] + \" \" + summary_mean_durations['perc_diff']\n",
    "    summary_mean_durations = summary_mean_durations.pivot(values='value', columns='kernel', index='variable').reset_index().rename(columns={'variable':'metric'})[['metric'] + jank.wa_paths]\n",
    "    summary_parts.append(summary_mean_durations)\n",
    "\n",
    "if 'jank_percs' in jank.summary:\n",
    "    summary_jank_percs = jank.summary['jank_percs'].copy()\n",
    "    summary_jank_percs['perc_diff'] = summary_jank_percs['perc_diff'].apply(lambda s: f\"({s})\")\n",
    "    summary_jank_percs['value'] = summary_jank_percs['value'] + \" \" + summary_jank_percs['perc_diff']\n",
    "    summary_jank_percs = summary_jank_percs.pivot(values='value', columns='kernel', index='variable').reset_index().rename(columns={'variable':'metric'})[['metric'] + jank.wa_paths]\n",
    "    summary_parts.append(summary_jank_percs)\n",
    "\n",
    "if 'max_duration' in jank.summary:\n",
    "    summary_max_durations = jank.summary['max_duration'].copy()\n",
    "    summary_max_durations = summary_max_durations.pivot(values='value', columns='kernel', index='variable').reset_index().rename(columns={'variable':'metric'})[['metric'] + jank.wa_paths]\n",
    "    summary_parts.append(summary_max_durations)\n",
    "\n",
    "if 'power_usage' in jank.summary:\n",
    "    summary_power_usage = jank.summary['power_usage'].copy().query(\"channel == 'CPU'\")\n",
    "    summary_power_usage['perc_diff'] = summary_power_usage['perc_diff'].apply(lambda s: f\"({s})\")\n",
    "    summary_power_usage['value'] = summary_power_usage['value'] + \" \" + summary_power_usage['perc_diff']\n",
    "    summary_power_usage['channel'] = 'CPU_total_power'\n",
    "    summary_power_usage = summary_power_usage.pivot(values='value', columns='kernel', index='channel').reset_index().rename(columns={'channel':'metric'})[['metric'] + jank.wa_paths]\n",
    "    summary_parts.append(summary_power_usage)\n",
    "\n",
    "if 'overutilized_mean' in jank.analysis:\n",
    "    summary_ou = jank.analysis['overutilized_mean'].copy()\n",
    "    summary_ou['percentage'] = summary_ou['percentage'].apply(lambda x: f\"{x}%\")\n",
    "    summary_ou = summary_ou.pivot(values='percentage', columns='wa_path', index='metric').reset_index()[['metric'] + jank.wa_paths]\n",
    "    summary_parts.append(summary_ou)\n",
    "\n",
    "if 'thermal' in jank.summary:\n",
    "    summary_thermal = jank.summary['thermal'].copy()\n",
    "    summary_thermal['perc_diff'] = summary_thermal['perc_diff'].apply(lambda s: f\"({s})\")\n",
    "    summary_thermal['value'] = summary_thermal['value'] + \" \" + summary_thermal['perc_diff']\n",
    "    summary_thermal = summary_thermal.pivot(values='value', columns='kernel', index='cluster').reset_index().rename(columns={'cluster':'metric'})[['metric'] + jank.wa_paths]\n",
    "    summary_thermal['metric'] = \"thermal (\" + summary_thermal['metric'] + \")\"\n",
    "    summary_parts.append(summary_thermal)\n",
    "\n",
    "if 'wakeup_latency' in jank.summary:\n",
    "    summary_wakeup_latency = jank.summary['wakeup_latency'].copy()\n",
    "    summary_wakeup_latency['perc_diff'] = summary_wakeup_latency['perc_diff'].apply(lambda s: f\"({s})\")\n",
    "    summary_wakeup_latency['comm'] = \"latency (\" + summary_wakeup_latency['comm'] + \")\"\n",
    "    summary_wakeup_latency['value'] = summary_wakeup_latency['value'] + \" \" + summary_wakeup_latency['perc_diff']\n",
    "    summary_wakeup_latency = summary_wakeup_latency.pivot(values='value', columns='kernel', index='comm').reset_index().rename(columns={'comm':'metric'})[['metric'] + jank.wa_paths]\n",
    "    summary_parts.append(summary_wakeup_latency)\n",
    "\n",
    "if 'task_cpu_residency' in jank.summary:\n",
    "    summary_task_cpu_residency = jank.summary['task_cpu_residency'].copy().query(\"cluster == 'total'\")\n",
    "    summary_task_cpu_residency['perc_diff'] = summary_task_cpu_residency['perc_diff'].apply(lambda s: f\"({s})\")\n",
    "    summary_task_cpu_residency['value'] = summary_task_cpu_residency['value'] + \" \" + summary_task_cpu_residency['perc_diff']\n",
    "    summary_task_cpu_residency = summary_task_cpu_residency.pivot(values='value', columns='kernel', index='comm').reset_index().rename(columns={'comm':'metric'})[['metric'] + jank.wa_paths]\n",
    "    summary_task_cpu_residency['metric'] = \"CPU residency (\" + summary_task_cpu_residency['metric'] + \")\"\n",
    "    summary_parts.append(summary_task_cpu_residency)\n",
    "\n",
    "\n",
    "summary = pd.concat(summary_parts).reset_index(drop=True)\n",
    "\n",
    "print('Jankbench')\n",
    "ptable(summary)"
   ]
  }
 ],
 "metadata": {
  "kernelspec": {
   "display_name": "Python 3 (ipykernel)",
   "language": "python",
   "name": "python3"
  },
  "language_info": {
   "codemirror_mode": {
    "name": "ipython",
    "version": 3
   },
   "file_extension": ".py",
   "mimetype": "text/x-python",
   "name": "python",
   "nbconvert_exporter": "python",
   "pygments_lexer": "ipython3",
   "version": "3.8.10"
  }
 },
 "nbformat": 4,
 "nbformat_minor": 5
}
