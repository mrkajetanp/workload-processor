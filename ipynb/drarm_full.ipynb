{
 "cells": [
  {
   "cell_type": "markdown",
   "metadata": {},
   "source": [
    "# Setup"
   ]
  },
  {
   "cell_type": "code",
   "execution_count": null,
   "metadata": {
    "tags": []
   },
   "outputs": [],
   "source": [
    "import os\n",
    "import logging as log\n",
    "from lisa.utils import setup_logging\n",
    "setup_logging(level=log.ERROR)\n",
    "\n",
    "from lisa.trace import Trace\n",
    "from lisa.wa import WAOutput\n",
    "from lisa.stats import Stats\n",
    "from lisa.datautils import series_mean\n",
    "from pandas import DataFrame\n",
    "import pandas as pd\n",
    "import scipy as sp\n",
    "import numpy as np\n",
    "import plotly.express as px\n",
    "import plotly.io as pio\n",
    "import plotly.graph_objects as go\n",
    "import holoviews as hv\n",
    "from holoviews import opts\n",
    "from bokeh.themes import built_in_themes\n",
    "from tabulate import tabulate\n",
    "\n",
    "from holoviews.operation.datashader import datashade, rasterize\n",
    "from holoviews.operation import decimate\n",
    "\n",
    "from wp.notebook import WorkloadNotebookAnalysis, trim_wa_path, ptable\n",
    "\n",
    "hv.extension('bokeh')\n",
    "hv.renderer('bokeh').theme = built_in_themes['dark_minimal']\n",
    "hv.renderer('bokeh').webgl = True\n",
    "pio.templates.default = \"plotly\"\n",
    "pio.templates.default = \"plotly_dark\"\n",
    "\n",
    "color_cycle = hv.Cycle(['#636EFA', '#EF553B', '#00CC96', '#AB63FA', '#FFA15A', '#19D3F3', '#FF6692', '#B6E880', '#FF97FF', '#FECB52'])\n",
    "\n",
    "opts.defaults(\n",
    "    opts.Curve(tools=['hover'], show_grid=True, color=color_cycle, muted_alpha=0),\n",
    "    opts.Table(bgcolor='black')\n",
    ")"
   ]
  },
  {
   "cell_type": "markdown",
   "metadata": {},
   "source": [
    "## Runs"
   ]
  },
  {
   "cell_type": "code",
   "execution_count": null,
   "metadata": {
    "tags": []
   },
   "outputs": [],
   "source": [
    "drarm = WorkloadNotebookAnalysis('/home/kajpuc01/power/pixel6/drarm/', [\n",
    "    'drarm_product_baseline_10_1407',\n",
    "    'drarm_product_no_vh_sched_adpf_10_1107',\n",
    "    'drarm_product_arm_vh_sched_stub_10_1307',\n",
    "])\n",
    "\n",
    "drarm.show()"
   ]
  },
  {
   "cell_type": "markdown",
   "metadata": {},
   "source": [
    "# FPS Report"
   ]
  },
  {
   "cell_type": "code",
   "execution_count": null,
   "metadata": {
    "tags": []
   },
   "outputs": [],
   "source": [
    "def preproces_adpf(df):\n",
    "    return df.reset_index().rename(columns={'index':'ts'})\n",
    "\n",
    "drarm.load_combined_analysis('adpf.pqt', preprocess=preproces_adpf)\n",
    "drarm.load_combined_analysis('adpf_totals.pqt')\n",
    "drarm.analysis['adpf_totals_melt'] = pd.melt(drarm.analysis['adpf_totals'], id_vars=['iteration', 'wa_path'], value_vars=['average fps', 'frame count'])\n",
    "\n",
    "ds_adpf = hv.Dataset(drarm.analysis['adpf'].reset_index(), ['ts', hv.Dimension('wa_path', values=drarm.wa_paths)], [\n",
    "    'average fps', 'sigma fps', 'thermal status',\n",
    "    'Adaptive Batching', 'sn_Adaptive Batching', 'Adaptive Decals',\n",
    "    'sn_Adaptive Decals', 'Adaptive Framerate', 'sn_Adaptive Framerate',\n",
    "    'Adaptive LOD', 'sn_Adaptive LOD', 'Adaptive Lut', 'sn_Adaptive Lut',\n",
    "    'Adaptive MSAA', 'sn_Adaptive MSAA', 'Adaptive Resolution',\n",
    "    'sn_Adaptive Resolution', 'Adaptive Shadow Cascade',\n",
    "    'sn_Adaptive Shadow Cascade', 'Adaptive Shadow Distance',\n",
    "    'sn_Adaptive Shadow Distance', 'Adaptive Shadowmap Resolution',\n",
    "    'sn_Adaptive Shadowmap Resolution', 'Adaptive Shadow Quality',\n",
    "    'sn_Adaptive Shadow Quality', 'Adaptive Transparency',\n",
    "    'sn_Adaptive Transparency', 'Adaptive View Distance',\n",
    "    'sn_Adaptive View Distance', 'Adaptive Sorting', 'sn_Adaptive Sorting',\n",
    "    'Adaptive Physics', 'sn_Adaptive Physics', 'Adaptive Layer Culling',\n",
    "    'sn_Adaptive Layer Culling', 'Adaptive Fog', 'sn_Adaptive Fog',\n",
    "])\n",
    "\n",
    "drarm.analysis['adpf_totals_melt']"
   ]
  },
  {
   "cell_type": "markdown",
   "metadata": {},
   "source": [
    "## Per-iteration FPS line plot"
   ]
  },
  {
   "cell_type": "code",
   "execution_count": null,
   "metadata": {
    "tags": []
   },
   "outputs": [],
   "source": [
    "drarm.plot_lines_px(drarm.analysis['adpf_totals_melt'], facet_col='variable')"
   ]
  },
  {
   "cell_type": "markdown",
   "metadata": {},
   "source": [
    "## FPS & total frames bar plot"
   ]
  },
  {
   "cell_type": "code",
   "execution_count": null,
   "metadata": {
    "tags": []
   },
   "outputs": [],
   "source": [
    "drarm.summary['fps'] = drarm.plot_gmean_bars(drarm.analysis['adpf_totals_melt'], x='metric', y='value', facet_col='variable', facet_col_wrap=5, title='Gmean iteration average FPS & total frames', height=600, include_columns=['variable'], table_sort=['variable', 'kernel'])"
   ]
  },
  {
   "cell_type": "markdown",
   "metadata": {},
   "source": [
    "## FPS over time"
   ]
  },
  {
   "cell_type": "code",
   "execution_count": null,
   "metadata": {
    "tags": []
   },
   "outputs": [],
   "source": [
    "layout = ds_adpf.to(hv.Curve, 'time', 'average fps').overlay('wa_path').opts(legend_position='bottom').opts(shared_axes=False, title='Average FPS')\n",
    "layout += ds_adpf.to(hv.Curve, 'time', 'sigma fps').overlay('wa_path').opts(legend_position='bottom').opts(shared_axes=False, title='Sigma FPS')\n",
    "layout = layout.cols(1)\n",
    "layout.opts(\n",
    "    opts.Curve(height=600, width=1200, framewise=True),\n",
    ")\n",
    "layout"
   ]
  },
  {
   "cell_type": "markdown",
   "metadata": {},
   "source": [
    "# Overutilized"
   ]
  },
  {
   "cell_type": "code",
   "execution_count": null,
   "metadata": {
    "tags": []
   },
   "outputs": [],
   "source": [
    "def postprocess_overutil(df):\n",
    "    df['time'] = round(df['time'], 2)\n",
    "    df['total_time'] = round(df['total_time'], 2)\n",
    "    return df\n",
    "\n",
    "drarm.load_combined_analysis('overutilized.pqt', postprocess=postprocess_overutil)\n",
    "drarm.load_combined_analysis('overutilized_mean.pqt')\n",
    "ptable(drarm.analysis['overutilized_mean'])"
   ]
  },
  {
   "cell_type": "markdown",
   "metadata": {},
   "source": [
    "## Line plot"
   ]
  },
  {
   "cell_type": "code",
   "execution_count": null,
   "metadata": {
    "tags": []
   },
   "outputs": [],
   "source": [
    "drarm.plot_lines_px(drarm.analysis['overutilized'], y='percentage', title='Overutilized percentage per-iteration')"
   ]
  },
  {
   "cell_type": "markdown",
   "metadata": {},
   "source": [
    "# Power meter"
   ]
  },
  {
   "cell_type": "code",
   "execution_count": null,
   "metadata": {
    "tags": []
   },
   "outputs": [],
   "source": [
    "def postprocess_pixel6_emeter_means(df):\n",
    "    df_total = df.groupby(['wa_path', 'kernel', 'iteration']).sum(numeric_only=True).reset_index()\n",
    "    df_total['channel'] = 'Total'\n",
    "\n",
    "    df_cpu_total = df.query(\"channel.str.startswith('CPU')\").groupby(['wa_path', 'kernel', 'iteration']).sum(numeric_only=True).reset_index()\n",
    "    df_cpu_total['channel'] = 'CPU'\n",
    "    return pd.concat([df, df_cpu_total, df_total])[['wa_path', 'kernel', 'iteration', 'channel', 'power']]\n",
    "\n",
    "\n",
    "drarm.load_combined_analysis('pixel6_emeter.pqt')\n",
    "drarm.load_combined_analysis('pixel6_emeter_mean.pqt', postprocess=postprocess_pixel6_emeter_means)\n",
    "\n",
    "display(drarm.analysis['pixel6_emeter_mean'])"
   ]
  },
  {
   "cell_type": "markdown",
   "metadata": {},
   "source": [
    "## Line plot across iterations"
   ]
  },
  {
   "cell_type": "code",
   "execution_count": null,
   "metadata": {
    "tags": []
   },
   "outputs": [],
   "source": [
    "drarm.plot_lines_px(drarm.analysis['pixel6_emeter_mean'], y='power', facet_col='channel', facet_col_wrap=3, height=1000, title='Mean power usage across iterations [mW]')"
   ]
  },
  {
   "cell_type": "markdown",
   "metadata": {},
   "source": [
    "## Bar plot - gmean"
   ]
  },
  {
   "cell_type": "code",
   "execution_count": null,
   "metadata": {
    "tags": []
   },
   "outputs": [],
   "source": [
    "drarm.summary['power_usage'] = drarm.plot_gmean_bars(drarm.analysis['pixel6_emeter_mean'].rename(columns={'power':'value'}), x='channel', y='value', facet_col='metric', facet_col_wrap=5, title='Gmean power usage [mW]', height=600, include_total=True, include_columns=['channel'])"
   ]
  },
  {
   "cell_type": "markdown",
   "metadata": {},
   "source": [
    "# Frequency"
   ]
  },
  {
   "cell_type": "code",
   "execution_count": null,
   "metadata": {
    "tags": []
   },
   "outputs": [],
   "source": [
    "def postprocess_freq(df):\n",
    "    df['unit'] = 'MHz'\n",
    "    df['metric'] = 'frequency'\n",
    "    df['order'] = df['cluster'].replace('little', 0).replace('mid', 1).replace('big', 2)\n",
    "    return df.sort_values(by=['iteration', 'order']).rename(columns={'frequency':'value'})\n",
    "\n",
    "drarm.load_combined_analysis('freqs_mean.pqt', postprocess=postprocess_freq)\n",
    "display(drarm.analysis['freqs_mean'].head())"
   ]
  },
  {
   "cell_type": "markdown",
   "metadata": {},
   "source": [
    "## Line plot"
   ]
  },
  {
   "cell_type": "code",
   "execution_count": null,
   "metadata": {
    "tags": []
   },
   "outputs": [],
   "source": [
    "ds = hv.Dataset(drarm.analysis['freqs_mean'], ['iteration', hv.Dimension('wa_path', values=drarm.wa_paths), hv.Dimension('cluster', values=drarm.CLUSTERS)], 'value')\n",
    "layout = ds.to(hv.Curve, 'iteration', 'value').overlay('wa_path').opts(legend_position='bottom').layout('cluster').opts(title='Mean cluster frequency across iterations')\n",
    "layout.opts(\n",
    "    opts.Curve(width=600, height=600, ylabel='MHz'),\n",
    ")\n",
    "layout"
   ]
  },
  {
   "cell_type": "markdown",
   "metadata": {},
   "source": [
    "## Bar plot"
   ]
  },
  {
   "cell_type": "code",
   "execution_count": null,
   "metadata": {
    "tags": []
   },
   "outputs": [],
   "source": [
    "drarm.summary['frequency'] = drarm.plot_gmean_bars(drarm.analysis['freqs_mean'], x='metric', y='value', facet_col='cluster', facet_col_wrap=3, title='Gmean frequency per cluster', width=1800, height=600, order_cluster=True, include_columns=['cluster'])"
   ]
  },
  {
   "cell_type": "markdown",
   "metadata": {},
   "source": [
    "# Capacity"
   ]
  },
  {
   "cell_type": "code",
   "execution_count": null,
   "metadata": {
    "tags": []
   },
   "outputs": [],
   "source": [
    "drarm.load_combined_analysis('capacity.pqt', allow_missing=True)\n",
    "\n",
    "display(drarm.analysis['capacity'])"
   ]
  },
  {
   "cell_type": "code",
   "execution_count": null,
   "metadata": {
    "tags": []
   },
   "outputs": [],
   "source": [
    "ds = hv.Dataset(drarm.analysis['capacity'].query(\"iteration == 7 and cpu == 6\"), ['time_it', hv.Dimension('wa_path', values=drarm.wa_paths), 'iteration', 'cpu'], ['capacity'])\n",
    "layout_cap = ds.to(hv.Curve, 'time_it', 'capacity').overlay('wa_path').opts(width=2000, height=600)\n",
    "layout_cap"
   ]
  },
  {
   "cell_type": "markdown",
   "metadata": {},
   "source": [
    "# uclamp"
   ]
  },
  {
   "cell_type": "code",
   "execution_count": null,
   "metadata": {
    "tags": []
   },
   "outputs": [],
   "source": [
    "def postprocess_uclamp_updates(df):\n",
    "    return df.query(\"task != '<unknown>'\")\n",
    "\n",
    "drarm.load_combined_analysis('uclamp_updates.pqt', postprocess=postprocess_uclamp_updates, allow_missing=True)\n",
    "\n",
    "display(drarm.analysis['uclamp_updates'])"
   ]
  },
  {
   "cell_type": "markdown",
   "metadata": {},
   "source": [
    "## Per-task uclamp over time"
   ]
  },
  {
   "cell_type": "code",
   "execution_count": null,
   "metadata": {
    "tags": []
   },
   "outputs": [],
   "source": [
    "ds = hv.Dataset(drarm.analysis['uclamp_updates'], ['time_it', hv.Dimension('wa_path', values=drarm.wa_paths), 'iteration', 'uclamp_id', 'task'], ['value'])\n",
    "layout = ds.to(hv.Curve, 'time_it', 'value').overlay('wa_path').opts(shared_axes=False, title='Per-task uclamp over time')\n",
    "\n",
    "layout.opts(\n",
    "    opts.Curve(height=600, width=1600, interpolation='steps-post', framewise=True)\n",
    ")\n",
    "layout"
   ]
  },
  {
   "cell_type": "markdown",
   "metadata": {},
   "source": [
    "## Frequency & uclamp over time"
   ]
  },
  {
   "cell_type": "code",
   "execution_count": null,
   "metadata": {
    "tags": []
   },
   "outputs": [],
   "source": [
    "drarm.load_combined_analysis('freqs.pqt')\n",
    "\n",
    "def adjust_df_trace_time(it, path, df):\n",
    "    df['Time'] = df['Time'] - drarm.traces[path][it].start\n",
    "    return df\n",
    "\n",
    "drarm.analysis['freqs_adj'] = pd.concat([adjust_df_trace_time(tags[0], tags[1], df) for tags, df in drarm.analysis['freqs'].groupby([\"iteration\", 'wa_path'])])\n",
    "drarm.analysis['freqs_adj']['frequency_scaled'] = drarm.analysis['freqs_adj']['frequency'] / 100000\n",
    "\n",
    "display(drarm.analysis['freqs_adj'])"
   ]
  },
  {
   "cell_type": "code",
   "execution_count": null,
   "metadata": {},
   "outputs": [],
   "source": [
    "layout = hv.Dataset(drarm.analysis['uclamp_updates'].query(\"uclamp_id == 0\"), ['Time', hv.Dimension('wa_path', values=drarm.wa_paths), 'iteration'], ['value']).select(\n",
    "    task='UnityMain'\n",
    ").to(hv.Curve, 'Time', 'value').overlay('wa_path').opts(shared_axes=False, title='CPU frequency & per-task uclamp over time')\n",
    "layout *= hv.Dataset(drarm.analysis['freqs_adj'], ['Time', hv.Dimension('wa_path', values=drarm.wa_paths), 'cpu', 'iteration'], ['frequency_scaled']).to(\n",
    "    hv.Curve, 'Time', 'frequency_scaled'\n",
    ").overlay('wa_path').opts(shared_axes=False)\n",
    "\n",
    "layout.opts(\n",
    "    opts.Curve(height=600, width=1600, interpolation='steps-post', framewise=True)\n",
    ")\n",
    "layout"
   ]
  },
  {
   "cell_type": "markdown",
   "metadata": {},
   "source": [
    "# Task placement (activations)"
   ]
  },
  {
   "cell_type": "markdown",
   "metadata": {},
   "source": [
    "## Overview"
   ]
  },
  {
   "cell_type": "code",
   "execution_count": null,
   "metadata": {
    "tags": []
   },
   "outputs": [],
   "source": [
    "# select all tasks specified in the config by default\n",
    "plot_tasks = drarm.config['processor']['important_tasks']['drarm'].get()\n",
    "# override to select fewer tasks - must be a subset of the above\n",
    "plot_tasks = ['UnityMain', 'UnityGfxDeviceW', 'UnityChoreograp', 'RenderEngine', 'surfaceflinger', 'mali_jd_thread']\n",
    "\n",
    "def postprocess_task_activations_stats_cluster_df(df):\n",
    "    return df.query(\"comm in @plot_tasks\").reset_index(drop=True)\n",
    "\n",
    "drarm.load_combined_analysis('task_activations_stats_cluster.pqt', postprocess=postprocess_task_activations_stats_cluster_df)\n",
    "drarm.analysis['task_activations_stats_cluster_melt'] = pd.melt(drarm.analysis['task_activations_stats_cluster'], id_vars=['kernel', 'wa_path', 'iteration', 'cluster', 'comm'], value_vars=['count', 'duration'])\n",
    "drarm.analysis['task_activations_stats_cluster_melt']"
   ]
  },
  {
   "cell_type": "markdown",
   "metadata": {},
   "source": [
    "### Line plots - counts"
   ]
  },
  {
   "cell_type": "code",
   "execution_count": null,
   "metadata": {
    "tags": []
   },
   "outputs": [],
   "source": [
    "for task, task_df in drarm.analysis['task_activations_stats_cluster'].groupby('comm'):\n",
    "    drarm.plot_lines_px(task_df, x='iteration', y='count', color='wa_path', facet_col='cluster', facet_col_wrap=3, height=500, scale_y=True, title=f'Activations of {task} per cluster across iterations')"
   ]
  },
  {
   "cell_type": "markdown",
   "metadata": {},
   "source": [
    "### Line plots - durations"
   ]
  },
  {
   "cell_type": "code",
   "execution_count": null,
   "metadata": {
    "tags": []
   },
   "outputs": [],
   "source": [
    "for task, task_df in drarm.analysis['task_activations_stats_cluster'].groupby('comm'):\n",
    "    drarm.plot_lines_px(task_df, x='iteration', y='duration', color='wa_path', facet_col='cluster', facet_col_wrap=3, height=500, scale_y=True, title=f'Activation durations of {task} per cluster across iterations')"
   ]
  },
  {
   "cell_type": "markdown",
   "metadata": {},
   "source": [
    "### Bar plot - counts"
   ]
  },
  {
   "cell_type": "code",
   "execution_count": null,
   "metadata": {
    "tags": []
   },
   "outputs": [],
   "source": [
    "drarm.summary['activations_stats_count'] = drarm.plot_gmean_bars(\n",
    "    drarm.analysis['task_activations_stats_cluster_melt'].query(\"variable == 'count'\").reset_index(drop=True),\n",
    "    x='cluster', facet_col='comm', facet_col_wrap=3, title='Gmean task activation counts', height=1000, include_columns=['cluster'], order_cluster=True, percentage=False\n",
    ")"
   ]
  },
  {
   "cell_type": "markdown",
   "metadata": {},
   "source": [
    "### Bar plot - durations"
   ]
  },
  {
   "cell_type": "code",
   "execution_count": null,
   "metadata": {
    "tags": []
   },
   "outputs": [],
   "source": [
    "drarm.summary['activations_stats_durations'] = drarm.plot_gmean_bars(\n",
    "    drarm.analysis['task_activations_stats_cluster_melt'].query(\"variable == 'duration'\").reset_index(drop=True),\n",
    "    x='cluster', facet_col='comm', facet_col_wrap=3, title='Gmean task activation durations', height=3000, include_columns=['cluster'], order_cluster=True, percentage=False\n",
    ")"
   ]
  },
  {
   "cell_type": "markdown",
   "metadata": {},
   "source": [
    "## Detailed plots"
   ]
  },
  {
   "cell_type": "markdown",
   "metadata": {},
   "source": [
    "### Run setup"
   ]
  },
  {
   "cell_type": "code",
   "execution_count": null,
   "metadata": {
    "tags": []
   },
   "outputs": [],
   "source": [
    "TASK_PL_CMP_WA_PATH_A = drarm.wa_paths[0]\n",
    "TASK_PL_CMP_WA_PATH_B = drarm.wa_paths[1]\n",
    "TASK_PL_CMP_IT = 1\n",
    "\n",
    "def plot_task_activations(wa_path_a, wa_path_b, iteration, comm):\n",
    "    plot_a = drarm.traces[wa_path_a][iteration].ana.tasks.plot_tasks_activation(drarm.traces[wa_path_a][iteration].get_task_ids(comm)).opts(\n",
    "        title=f'{comm} activations in iteration {iteration} of {wa_path_a}'\n",
    "    )\n",
    "    \n",
    "    plot_b = drarm.traces[wa_path_b][iteration].ana.tasks.plot_tasks_activation(drarm.traces[wa_path_b][iteration].get_task_ids(comm)).opts(\n",
    "        title=f'{comm} activations in iteration {iteration} of {wa_path_b}'\n",
    "    )\n",
    "    \n",
    "    return (plot_a + plot_b).cols(1).opts(shared_axes=False)\n",
    "    "
   ]
  },
  {
   "cell_type": "markdown",
   "metadata": {},
   "source": [
    "### UnityMain"
   ]
  },
  {
   "cell_type": "code",
   "execution_count": null,
   "metadata": {
    "tags": []
   },
   "outputs": [],
   "source": [
    "plot_task_activations(TASK_PL_CMP_WA_PATH_A, TASK_PL_CMP_WA_PATH_B, TASK_PL_CMP_IT, 'UnityMain')"
   ]
  },
  {
   "cell_type": "markdown",
   "metadata": {},
   "source": [
    "### UnityGfxDeviceW"
   ]
  },
  {
   "cell_type": "code",
   "execution_count": null,
   "metadata": {
    "tags": []
   },
   "outputs": [],
   "source": [
    "plot_task_activations(TASK_PL_CMP_WA_PATH_A, TASK_PL_CMP_WA_PATH_B, TASK_PL_CMP_IT, 'UnityGfxDeviceW')"
   ]
  },
  {
   "cell_type": "markdown",
   "metadata": {},
   "source": [
    "### UnityChoreograp"
   ]
  },
  {
   "cell_type": "code",
   "execution_count": null,
   "metadata": {},
   "outputs": [],
   "source": [
    "plot_task_activations(TASK_PL_CMP_WA_PATH_A, TASK_PL_CMP_WA_PATH_B, TASK_PL_CMP_IT, 'UnityChoreograp')"
   ]
  },
  {
   "cell_type": "markdown",
   "metadata": {},
   "source": [
    "### Thread-7"
   ]
  },
  {
   "cell_type": "code",
   "execution_count": null,
   "metadata": {
    "tags": []
   },
   "outputs": [],
   "source": [
    "plot_task_activations(TASK_PL_CMP_WA_PATH_A, TASK_PL_CMP_WA_PATH_B, TASK_PL_CMP_IT, 'Thread-7')"
   ]
  },
  {
   "cell_type": "markdown",
   "metadata": {},
   "source": [
    "### Thread-6"
   ]
  },
  {
   "cell_type": "code",
   "execution_count": null,
   "metadata": {
    "tags": []
   },
   "outputs": [],
   "source": [
    "plot_task_activations(TASK_PL_CMP_WA_PATH_A, TASK_PL_CMP_WA_PATH_B, TASK_PL_CMP_IT, 'Thread-6')"
   ]
  },
  {
   "cell_type": "markdown",
   "metadata": {},
   "source": [
    "### Thread-5"
   ]
  },
  {
   "cell_type": "code",
   "execution_count": null,
   "metadata": {
    "tags": []
   },
   "outputs": [],
   "source": [
    "plot_task_activations(TASK_PL_CMP_WA_PATH_A, TASK_PL_CMP_WA_PATH_B, TASK_PL_CMP_IT, 'Thread-5')"
   ]
  },
  {
   "cell_type": "markdown",
   "metadata": {},
   "source": [
    "### Thread-4"
   ]
  },
  {
   "cell_type": "code",
   "execution_count": null,
   "metadata": {
    "tags": []
   },
   "outputs": [],
   "source": [
    "plot_task_activations(TASK_PL_CMP_WA_PATH_A, TASK_PL_CMP_WA_PATH_B, TASK_PL_CMP_IT, 'Thread-4')"
   ]
  },
  {
   "cell_type": "markdown",
   "metadata": {},
   "source": [
    "### surfaceflinger"
   ]
  },
  {
   "cell_type": "code",
   "execution_count": null,
   "metadata": {},
   "outputs": [],
   "source": [
    "plot_task_activations(TASK_PL_CMP_WA_PATH_A, TASK_PL_CMP_WA_PATH_B, TASK_PL_CMP_IT, 'surfaceflinger')"
   ]
  },
  {
   "cell_type": "markdown",
   "metadata": {},
   "source": [
    "### mali-cmar-backe"
   ]
  },
  {
   "cell_type": "code",
   "execution_count": null,
   "metadata": {},
   "outputs": [],
   "source": [
    "plot_task_activations(TASK_PL_CMP_WA_PATH_A, TASK_PL_CMP_WA_PATH_B, TASK_PL_CMD_IT, 'mali-cmar-backe')"
   ]
  },
  {
   "cell_type": "markdown",
   "metadata": {},
   "source": [
    "### mali_jd_thread"
   ]
  },
  {
   "cell_type": "code",
   "execution_count": null,
   "metadata": {},
   "outputs": [],
   "source": [
    "plot_task_activations(TASK_PL_CMP_WA_PATH_A, TASK_PL_CMP_WA_PATH_B, TASK_PL_CMD_IT, 'mali_jd_thread')"
   ]
  },
  {
   "cell_type": "markdown",
   "metadata": {},
   "source": [
    "### writer"
   ]
  },
  {
   "cell_type": "code",
   "execution_count": null,
   "metadata": {},
   "outputs": [],
   "source": [
    "plot_task_activations(TASK_PL_CMP_WA_PATH_A, TASK_PL_CMP_WA_PATH_B, TASK_PL_CMD_IT, 'writer')"
   ]
  },
  {
   "cell_type": "markdown",
   "metadata": {},
   "source": [
    "### FastMixer"
   ]
  },
  {
   "cell_type": "code",
   "execution_count": null,
   "metadata": {},
   "outputs": [],
   "source": [
    "plot_task_activations(TASK_PL_CMP_WA_PATH_A, TASK_PL_CMP_WA_PATH_B, TASK_PL_CMD_IT, 'FastMixer')"
   ]
  },
  {
   "cell_type": "markdown",
   "metadata": {},
   "source": [
    "### RenderEngine"
   ]
  },
  {
   "cell_type": "code",
   "execution_count": null,
   "metadata": {},
   "outputs": [],
   "source": [
    "plot_task_activations(TASK_PL_CMP_WA_PATH_A, TASK_PL_CMP_WA_PATH_B, TASK_PL_CMD_IT, 'RenderEngine')"
   ]
  },
  {
   "cell_type": "markdown",
   "metadata": {},
   "source": [
    "### Audio Mixer Thr"
   ]
  },
  {
   "cell_type": "code",
   "execution_count": null,
   "metadata": {},
   "outputs": [],
   "source": [
    "plot_task_activations(TASK_PL_CMP_WA_PATH_A, TASK_PL_CMP_WA_PATH_B, TASK_PL_CMD_IT, 'Audio Mixer Thr')"
   ]
  },
  {
   "cell_type": "markdown",
   "metadata": {},
   "source": [
    "# ADPF"
   ]
  },
  {
   "cell_type": "markdown",
   "metadata": {},
   "source": [
    "## Thermal status"
   ]
  },
  {
   "cell_type": "code",
   "execution_count": null,
   "metadata": {
    "tags": []
   },
   "outputs": [],
   "source": [
    "layout = ds_adpf.to(hv.Curve, 'ts', 'thermal status').overlay('wa_path').opts(legend_position='bottom').opts(shared_axes=False, title='Thermal status')\n",
    "layout.opts(\n",
    "    opts.Curve(height=600, width=1200),\n",
    ")\n",
    "layout"
   ]
  },
  {
   "cell_type": "markdown",
   "metadata": {},
   "source": [
    "## Adaptive Batching"
   ]
  },
  {
   "cell_type": "code",
   "execution_count": null,
   "metadata": {
    "tags": []
   },
   "outputs": [],
   "source": [
    "layout = ds_adpf.to(hv.Curve, 'ts', 'Adaptive Batching').overlay('wa_path').opts(legend_position='bottom').opts(shared_axes=False)\n",
    "layout += ds_adpf.to(hv.Curve, 'ts', 'sn_Adaptive Batching').overlay('wa_path').opts(legend_position='bottom').opts(shared_axes=False)\n",
    "layout.opts(\n",
    "    opts.Curve(height=600, width=1000),\n",
    ")\n",
    "layout"
   ]
  },
  {
   "cell_type": "markdown",
   "metadata": {},
   "source": [
    "## Adaptive Decals"
   ]
  },
  {
   "cell_type": "code",
   "execution_count": null,
   "metadata": {
    "tags": []
   },
   "outputs": [],
   "source": [
    "layout = ds_adpf.to(hv.Curve, 'ts', 'Adaptive Decals').overlay('wa_path').opts(legend_position='bottom').opts(shared_axes=False)\n",
    "layout += ds_adpf.to(hv.Curve, 'ts', 'sn_Adaptive Decals').overlay('wa_path').opts(legend_position='bottom').opts(shared_axes=False)\n",
    "layout.opts(\n",
    "    opts.Curve(height=600, width=1000),\n",
    ")\n",
    "layout"
   ]
  },
  {
   "cell_type": "markdown",
   "metadata": {},
   "source": [
    "## Adaptive Framerate"
   ]
  },
  {
   "cell_type": "code",
   "execution_count": null,
   "metadata": {},
   "outputs": [],
   "source": [
    "layout = ds_adpf.to(hv.Curve, 'ts', 'Adaptive Framerate').overlay('wa_path').opts(legend_position='bottom').opts(shared_axes=False)\n",
    "layout += ds_adpf.to(hv.Curve, 'ts', 'sn_Adaptive Framerate').overlay('wa_path').opts(legend_position='bottom').opts(shared_axes=False)\n",
    "layout.opts(\n",
    "    opts.Curve(height=600, width=1000),\n",
    ")\n",
    "layout"
   ]
  },
  {
   "cell_type": "markdown",
   "metadata": {},
   "source": [
    "## Adaptive LOD"
   ]
  },
  {
   "cell_type": "code",
   "execution_count": null,
   "metadata": {},
   "outputs": [],
   "source": [
    "layout = ds_adpf.to(hv.Curve, 'ts', 'Adaptive LOD').overlay('wa_path').opts(legend_position='bottom').opts(shared_axes=False)\n",
    "layout += ds_adpf.to(hv.Curve, 'ts', 'sn_Adaptive LOD').overlay('wa_path').opts(legend_position='bottom').opts(shared_axes=False)\n",
    "layout.opts(\n",
    "    opts.Curve(height=600, width=1000),\n",
    ")\n",
    "layout"
   ]
  },
  {
   "cell_type": "markdown",
   "metadata": {},
   "source": [
    "## Adaptive Lut"
   ]
  },
  {
   "cell_type": "code",
   "execution_count": null,
   "metadata": {},
   "outputs": [],
   "source": [
    "layout = ds_adpf.to(hv.Curve, 'ts', 'Adaptive Lut').overlay('wa_path').opts(legend_position='bottom').opts(shared_axes=False)\n",
    "layout += ds_adpf.to(hv.Curve, 'ts', 'sn_Adaptive Lut').overlay('wa_path').opts(legend_position='bottom').opts(shared_axes=False)\n",
    "layout.opts(\n",
    "    opts.Curve(height=600, width=1000),\n",
    ")\n",
    "layout"
   ]
  },
  {
   "cell_type": "markdown",
   "metadata": {},
   "source": [
    "## Adaptive MSAA"
   ]
  },
  {
   "cell_type": "code",
   "execution_count": null,
   "metadata": {},
   "outputs": [],
   "source": [
    "layout = ds_adpf.to(hv.Curve, 'ts', 'Adaptive MSAA').overlay('wa_path').opts(legend_position='bottom').opts(shared_axes=False)\n",
    "layout += ds_adpf.to(hv.Curve, 'ts', 'sn_Adaptive MSAA').overlay('wa_path').opts(legend_position='bottom').opts(shared_axes=False)\n",
    "layout.opts(\n",
    "    opts.Curve(height=600, width=1000),\n",
    ")\n",
    "layout"
   ]
  },
  {
   "cell_type": "markdown",
   "metadata": {},
   "source": [
    "## Adaptive Resolution"
   ]
  },
  {
   "cell_type": "code",
   "execution_count": null,
   "metadata": {},
   "outputs": [],
   "source": [
    "layout = ds_adpf.to(hv.Curve, 'ts', 'Adaptive Resolution').overlay('wa_path').opts(legend_position='bottom').opts(shared_axes=False)\n",
    "layout += ds_adpf.to(hv.Curve, 'ts', 'sn_Adaptive Resolution').overlay('wa_path').opts(legend_position='bottom').opts(shared_axes=False)\n",
    "layout.opts(\n",
    "    opts.Curve(height=600, width=1000),\n",
    ")\n",
    "layout"
   ]
  },
  {
   "cell_type": "markdown",
   "metadata": {},
   "source": [
    "## Adaptive Shadow Cascade"
   ]
  },
  {
   "cell_type": "code",
   "execution_count": null,
   "metadata": {},
   "outputs": [],
   "source": [
    "layout = ds_adpf.to(hv.Curve, 'ts', 'Adaptive Shadow Cascade').overlay('wa_path').opts(legend_position='bottom').opts(shared_axes=False)\n",
    "layout += ds_adpf.to(hv.Curve, 'ts', 'sn_Adaptive Shadow Cascade').overlay('wa_path').opts(legend_position='bottom').opts(shared_axes=False)\n",
    "layout.opts(\n",
    "    opts.Curve(height=600, width=1000),\n",
    ")\n",
    "layout"
   ]
  },
  {
   "cell_type": "markdown",
   "metadata": {},
   "source": [
    "## Adaptive Shadow Distance"
   ]
  },
  {
   "cell_type": "code",
   "execution_count": null,
   "metadata": {},
   "outputs": [],
   "source": [
    "layout = ds_adpf.to(hv.Curve, 'ts', 'Adaptive Shadow Distance').overlay('wa_path').opts(legend_position='bottom').opts(shared_axes=False)\n",
    "layout += ds_adpf.to(hv.Curve, 'ts', 'sn_Adaptive Shadow Distance').overlay('wa_path').opts(legend_position='bottom').opts(shared_axes=False)\n",
    "layout.opts(\n",
    "    opts.Curve(height=600, width=1000),\n",
    ")\n",
    "layout"
   ]
  },
  {
   "cell_type": "markdown",
   "metadata": {},
   "source": [
    "## Adaptive Shadowmap Resolution"
   ]
  },
  {
   "cell_type": "code",
   "execution_count": null,
   "metadata": {},
   "outputs": [],
   "source": [
    "layout = ds_adpf.to(hv.Curve, 'ts', 'Adaptive Shadowmap Resolution').overlay('wa_path').opts(legend_position='bottom').opts(shared_axes=False)\n",
    "layout += ds_adpf.to(hv.Curve, 'ts', 'sn_Adaptive Shadowmap Resolution').overlay('wa_path').opts(legend_position='bottom').opts(shared_axes=False)\n",
    "layout.opts(\n",
    "    opts.Curve(height=600, width=1000),\n",
    ")\n",
    "layout"
   ]
  },
  {
   "cell_type": "markdown",
   "metadata": {},
   "source": [
    "## Adaptive Shadow Quality"
   ]
  },
  {
   "cell_type": "code",
   "execution_count": null,
   "metadata": {},
   "outputs": [],
   "source": [
    "layout = ds_adpf.to(hv.Curve, 'ts', 'Adaptive Shadow Quality').overlay('wa_path').opts(legend_position='bottom').opts(shared_axes=False)\n",
    "layout += ds_adpf.to(hv.Curve, 'ts', 'sn_Adaptive Shadow Quality').overlay('wa_path').opts(legend_position='bottom').opts(shared_axes=False)\n",
    "layout.opts(\n",
    "    opts.Curve(height=600, width=1000),\n",
    ")\n",
    "layout"
   ]
  },
  {
   "cell_type": "markdown",
   "metadata": {},
   "source": [
    "## Adaptive Transparency"
   ]
  },
  {
   "cell_type": "code",
   "execution_count": null,
   "metadata": {},
   "outputs": [],
   "source": [
    "layout = ds_adpf.to(hv.Curve, 'ts', 'Adaptive Transparency').overlay('wa_path').opts(legend_position='bottom').opts(shared_axes=False)\n",
    "layout += ds_adpf.to(hv.Curve, 'ts', 'sn_Adaptive Transparency').overlay('wa_path').opts(legend_position='bottom').opts(shared_axes=False)\n",
    "layout.opts(\n",
    "    opts.Curve(height=600, width=1000),\n",
    ")\n",
    "layout"
   ]
  },
  {
   "cell_type": "markdown",
   "metadata": {},
   "source": [
    "## Adaptive View Distance"
   ]
  },
  {
   "cell_type": "code",
   "execution_count": null,
   "metadata": {},
   "outputs": [],
   "source": [
    "layout = ds_adpf.to(hv.Curve, 'ts', 'Adaptive View Distance').overlay('wa_path').opts(legend_position='bottom').opts(shared_axes=False)\n",
    "layout += ds_adpf.to(hv.Curve, 'ts', 'sn_Adaptive View Distance').overlay('wa_path').opts(legend_position='bottom').opts(shared_axes=False)\n",
    "layout.opts(\n",
    "    opts.Curve(height=600, width=1000),\n",
    ")\n",
    "layout"
   ]
  },
  {
   "cell_type": "markdown",
   "metadata": {},
   "source": [
    "## Adaptive Sorting"
   ]
  },
  {
   "cell_type": "code",
   "execution_count": null,
   "metadata": {},
   "outputs": [],
   "source": [
    "layout = ds_adpf.to(hv.Curve, 'ts', 'Adaptive Sorting').overlay('wa_path').opts(legend_position='bottom').opts(shared_axes=False)\n",
    "layout += ds_adpf.to(hv.Curve, 'ts', 'sn_Adaptive Sorting').overlay('wa_path').opts(legend_position='bottom').opts(shared_axes=False)\n",
    "layout.opts(\n",
    "    opts.Curve(height=600, width=1000),\n",
    ")\n",
    "layout"
   ]
  },
  {
   "cell_type": "markdown",
   "metadata": {},
   "source": [
    "## Adaptive Physics"
   ]
  },
  {
   "cell_type": "code",
   "execution_count": null,
   "metadata": {},
   "outputs": [],
   "source": [
    "layout = ds_adpf.to(hv.Curve, 'ts', 'Adaptive Physics').overlay('wa_path').opts(legend_position='bottom').opts(shared_axes=False)\n",
    "layout += ds_adpf.to(hv.Curve, 'ts', 'sn_Adaptive Physics').overlay('wa_path').opts(legend_position='bottom').opts(shared_axes=False)\n",
    "layout.opts(\n",
    "    opts.Curve(height=600, width=1000),\n",
    ")\n",
    "layout"
   ]
  },
  {
   "cell_type": "markdown",
   "metadata": {},
   "source": [
    "## Adaptive Layer Culling"
   ]
  },
  {
   "cell_type": "code",
   "execution_count": null,
   "metadata": {},
   "outputs": [],
   "source": [
    "layout = ds_adpf.to(hv.Curve, 'ts', 'Adaptive Layer Culling').overlay('wa_path').opts(legend_position='bottom').opts(shared_axes=False)\n",
    "layout += ds_adpf.to(hv.Curve, 'ts', 'sn_Adaptive Layer Culling').overlay('wa_path').opts(legend_position='bottom').opts(shared_axes=False)\n",
    "layout.opts(\n",
    "    opts.Curve(height=600, width=1000),\n",
    ")\n",
    "layout"
   ]
  },
  {
   "cell_type": "markdown",
   "metadata": {},
   "source": [
    "## Adaptive Fog"
   ]
  },
  {
   "cell_type": "code",
   "execution_count": null,
   "metadata": {},
   "outputs": [],
   "source": [
    "layout = ds_adpf.to(hv.Curve, 'ts', 'Adaptive Fog').overlay('wa_path').opts(legend_position='bottom').opts(shared_axes=False)\n",
    "layout += ds_adpf.to(hv.Curve, 'ts', 'sn_Adaptive Fog').overlay('wa_path').opts(legend_position='bottom').opts(shared_axes=False)\n",
    "layout.opts(\n",
    "    opts.Curve(height=600, width=1000),\n",
    ")\n",
    "layout"
   ]
  }
 ],
 "metadata": {
  "kernelspec": {
   "display_name": "Python 3 (ipykernel)",
   "language": "python",
   "name": "python3"
  },
  "language_info": {
   "codemirror_mode": {
    "name": "ipython",
    "version": 3
   },
   "file_extension": ".py",
   "mimetype": "text/x-python",
   "name": "python",
   "nbconvert_exporter": "python",
   "pygments_lexer": "ipython3",
   "version": "3.8.10"
  }
 },
 "nbformat": 4,
 "nbformat_minor": 4
}
