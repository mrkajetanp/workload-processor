{
 "cells": [
  {
   "cell_type": "markdown",
   "metadata": {},
   "source": [
    "# Setup"
   ]
  },
  {
   "cell_type": "code",
   "execution_count": null,
   "metadata": {
    "tags": []
   },
   "outputs": [],
   "source": [
    "import os\n",
    "import logging as log\n",
    "from lisa.utils import setup_logging\n",
    "setup_logging(level=log.ERROR)\n",
    "\n",
    "from lisa.trace import Trace\n",
    "from lisa.wa import WAOutput\n",
    "from lisa.stats import Stats\n",
    "from lisa.datautils import series_mean\n",
    "from pandas import DataFrame\n",
    "import pandas as pd\n",
    "import scipy as sp\n",
    "import numpy as np\n",
    "import plotly.express as px\n",
    "import plotly.io as pio\n",
    "import plotly.graph_objects as go\n",
    "import holoviews as hv\n",
    "from holoviews import opts\n",
    "from bokeh.themes import built_in_themes\n",
    "from tabulate import tabulate\n",
    "\n",
    "from holoviews.operation.datashader import datashade, rasterize\n",
    "from holoviews.operation import decimate\n",
    "\n",
    "from wp.notebook import WorkloadNotebookAnalysis, trim_wa_path, ptable\n",
    "\n",
    "hv.extension('bokeh')\n",
    "hv.renderer('bokeh').theme = built_in_themes['dark_minimal']\n",
    "hv.renderer('bokeh').webgl = True\n",
    "pio.templates.default = \"plotly\"\n",
    "pio.templates.default = \"plotly_dark\"\n",
    "\n",
    "color_cycle = hv.Cycle(['#636EFA', '#EF553B', '#00CC96', '#AB63FA', '#FFA15A', '#19D3F3', '#FF6692', '#B6E880', '#FF97FF', '#FECB52'])\n",
    "\n",
    "opts.defaults(\n",
    "    opts.Curve(tools=['hover'], show_grid=True, color=color_cycle, muted_alpha=0),\n",
    "    opts.Table(bgcolor='black')\n",
    ")"
   ]
  },
  {
   "cell_type": "markdown",
   "metadata": {},
   "source": [
    "## Runs"
   ]
  },
  {
   "cell_type": "code",
   "execution_count": null,
   "metadata": {
    "tags": []
   },
   "outputs": [],
   "source": [
    "ft = WorkloadNotebookAnalysis('/home/kajpuc01/power/pixel6/fortnite/', [\n",
    "    'fortnite_product_baseline_10_2007',\n",
    "    'fortnite_product_arm_vh_sched_debug_10_2007'\n",
    "])\n",
    "\n",
    "ft.show()"
   ]
  },
  {
   "cell_type": "markdown",
   "metadata": {},
   "source": [
    "# FPS"
   ]
  },
  {
   "cell_type": "markdown",
   "metadata": {},
   "source": [
    "## FPS line plots"
   ]
  },
  {
   "cell_type": "code",
   "execution_count": null,
   "metadata": {
    "tags": []
   },
   "outputs": [],
   "source": [
    "metrics = ['fps', 'total_frames', 'janks_pc', 'missed_vsync']\n",
    "ds = hv.Dataset(ft.results, ['iteration', hv.Dimension('wa_path', values=ft.wa_paths), hv.Dimension('metric', values=metrics)], 'value')\n",
    "layout = ds.select(metric=metrics).to(hv.Curve, 'iteration', 'value').overlay('wa_path').opts(legend_position='bottom').layout('metric').opts(shared_axes=False, title='FPS & janks per iteration').cols(2)\n",
    "layout.opts(\n",
    "    opts.Curve(height=600, width=900),\n",
    ")\n",
    "layout"
   ]
  },
  {
   "cell_type": "markdown",
   "metadata": {},
   "source": [
    "## FPS bar plots"
   ]
  },
  {
   "cell_type": "code",
   "execution_count": null,
   "metadata": {
    "tags": []
   },
   "outputs": [],
   "source": [
    "ft.summary['scores'] = ft.plot_gmean_bars(ft.results.query(\"metric in @metrics\"), x='stat', y='value', facet_col='metric', facet_col_wrap=4, title='Gmean iteration FPS & janks', width=2000, height=600)"
   ]
  },
  {
   "cell_type": "markdown",
   "metadata": {},
   "source": [
    "## FPS over time"
   ]
  },
  {
   "cell_type": "code",
   "execution_count": null,
   "metadata": {},
   "outputs": [],
   "source": [
    "layout = ds_adpf.to(hv.Curve, 'time', 'average fps').overlay('wa_path').opts(legend_position='bottom').opts(shared_axes=False, title='Average FPS')\n",
    "layout += ds_adpf.to(hv.Curve, 'time', 'sigma fps').overlay('wa_path').opts(legend_position='bottom').opts(shared_axes=False, title='Sigma FPS')\n",
    "layout = layout.cols(1)\n",
    "layout.opts(\n",
    "    opts.Curve(height=600, width=1200, framewise=True),\n",
    ")\n",
    "layout"
   ]
  },
  {
   "cell_type": "markdown",
   "metadata": {},
   "source": [
    "# Overutilized"
   ]
  },
  {
   "cell_type": "code",
   "execution_count": null,
   "metadata": {
    "tags": []
   },
   "outputs": [],
   "source": [
    "def postprocess_overutil(df):\n",
    "    df['time'] = round(df['time'], 2)\n",
    "    df['total_time'] = round(df['total_time'], 2)\n",
    "    return df\n",
    "\n",
    "ft.load_combined_analysis('overutilized.pqt', postprocess=postprocess_overutil)\n",
    "ft.load_combined_analysis('overutilized_mean.pqt')\n",
    "ptable(ft.analysis['overutilized_mean'])"
   ]
  },
  {
   "cell_type": "markdown",
   "metadata": {},
   "source": [
    "## Line plot"
   ]
  },
  {
   "cell_type": "code",
   "execution_count": null,
   "metadata": {
    "tags": []
   },
   "outputs": [],
   "source": [
    "ft.plot_lines_px(ft.analysis['overutilized'], y='percentage', height=600, title='Overutilized percentage per-iteration')"
   ]
  },
  {
   "cell_type": "markdown",
   "metadata": {},
   "source": [
    "# Power meter"
   ]
  },
  {
   "cell_type": "code",
   "execution_count": null,
   "metadata": {
    "tags": []
   },
   "outputs": [],
   "source": [
    "def postprocess_pixel6_emeter_means(df):\n",
    "    df_total = df.groupby(['wa_path', 'kernel', 'iteration']).sum(numeric_only=True).reset_index()\n",
    "    df_total['channel'] = 'Total'\n",
    "\n",
    "    df_cpu_total = df.query(\"channel.str.startswith('CPU')\").groupby(['wa_path', 'kernel', 'iteration']).sum(numeric_only=True).reset_index()\n",
    "    df_cpu_total['channel'] = 'CPU'\n",
    "    return pd.concat([df, df_cpu_total, df_total])[['wa_path', 'kernel', 'iteration', 'channel', 'power']]\n",
    "\n",
    "\n",
    "ft.load_combined_analysis('pixel6_emeter.pqt')\n",
    "ft.load_combined_analysis('pixel6_emeter_mean.pqt', postprocess=postprocess_pixel6_emeter_means)\n",
    "\n",
    "display(ft.analysis['pixel6_emeter_mean'])"
   ]
  },
  {
   "cell_type": "markdown",
   "metadata": {},
   "source": [
    "## Line plot across iterations"
   ]
  },
  {
   "cell_type": "code",
   "execution_count": null,
   "metadata": {
    "tags": []
   },
   "outputs": [],
   "source": [
    "ft.plot_lines_px(ft.analysis['pixel6_emeter_mean'], x='iteration', y='power', facet_col='channel', facet_col_wrap=3, height=1000, title='Mean power usage across iterations [mW]')"
   ]
  },
  {
   "cell_type": "markdown",
   "metadata": {},
   "source": [
    "## Bar plot - gmean"
   ]
  },
  {
   "cell_type": "code",
   "execution_count": null,
   "metadata": {
    "tags": []
   },
   "outputs": [],
   "source": [
    "ft.summary['power_usage'] = ft.plot_gmean_bars(ft.analysis['pixel6_emeter_mean'].rename(columns={'power':'value'}), x='channel', y='value', facet_col='metric', facet_col_wrap=5, title='Gmean power usage [mW]', height=600, include_tttal=True, include_columns=['channel'])"
   ]
  },
  {
   "cell_type": "markdown",
   "metadata": {},
   "source": [
    "# Capacity"
   ]
  },
  {
   "cell_type": "code",
   "execution_count": null,
   "metadata": {
    "tags": []
   },
   "outputs": [],
   "source": [
    "ft.load_combined_analysis('capacity.pqt', allow_missing=True)\n",
    "\n",
    "display(ft.analysis['capacity'])"
   ]
  },
  {
   "cell_type": "markdown",
   "metadata": {},
   "source": [
    "## Line plot"
   ]
  },
  {
   "cell_type": "code",
   "execution_count": null,
   "metadata": {
    "tags": []
   },
   "outputs": [],
   "source": [
    "ds = hv.Dataset(ft.analysis['capacity'].query(\"iteration == 7 and cpu == 6\"), ['time_it', hv.Dimension('wa_path', values=ft.wa_paths), 'iteration', 'cpu'], ['capacity'])\n",
    "layout_cap = ds.to(hv.Curve, 'time_it', 'capacity').overlay('wa_path').opts(width=2100, height=600)\n",
    "\n",
    "#layout.opts(\n",
    "#    opts.Curve(height=600, width=1600, interpolation='steps-post', framewise=True)\n",
    "#)\n",
    "layout_cap"
   ]
  },
  {
   "cell_type": "markdown",
   "metadata": {},
   "source": [
    "# uclamp"
   ]
  },
  {
   "cell_type": "code",
   "execution_count": null,
   "metadata": {
    "tags": []
   },
   "outputs": [],
   "source": [
    "def postprocess_uclamp_updates(df):\n",
    "    return df.query(\"task != '<unknown>'\")\n",
    "\n",
    "ft.load_combined_analysis('uclamp_updates.pqt', postprocess=postprocess_uclamp_updates, allow_missing=True)\n",
    "\n",
    "display(ft.analysis['uclamp_updates'])"
   ]
  },
  {
   "cell_type": "markdown",
   "metadata": {},
   "source": [
    "## Per-task uclamp over time"
   ]
  },
  {
   "cell_type": "code",
   "execution_count": null,
   "metadata": {
    "tags": []
   },
   "outputs": [],
   "source": [
    "ds = hv.Dataset(ft.analysis['uclamp_updates'], ['time_it', hv.Dimension('wa_path', values=ft.wa_paths), 'iteration', 'uclamp_id', 'task'], ['value'])\n",
    "layout = ds.to(hv.Curve, 'time_it', 'value').overlay('wa_path').opts(shared_axes=False, title='Per-task uclamp over time')\n",
    "\n",
    "layout.opts(\n",
    "    opts.Curve(height=600, width=1600, interpolation='steps-post', framewise=True)\n",
    ")\n",
    "layout"
   ]
  },
  {
   "cell_type": "markdown",
   "metadata": {},
   "source": [
    "## Frequency & uclamp over time"
   ]
  },
  {
   "cell_type": "code",
   "execution_count": null,
   "metadata": {
    "tags": []
   },
   "outputs": [],
   "source": [
    "ft.load_combined_analysis('freqs.pqt')\n",
    "\n",
    "def adjust_df_trace_time(it, path, df):\n",
    "    df['Time'] = df['Time'] - ft.traces[path][it].start\n",
    "    return df\n",
    "\n",
    "ft.analysis['freqs_adj'] = pd.concat([adjust_df_trace_time(tags[0], tags[1], df) for tags, df in ft.analysis['freqs'].groupby([\"iteration\", 'wa_path'])])\n",
    "ft.analysis['freqs_adj']['frequency_scaled'] = ft.analysis['freqs_adj']['frequency'] / 100000\n",
    "\n",
    "display(ft.analysis['freqs_adj'])"
   ]
  },
  {
   "cell_type": "code",
   "execution_count": null,
   "metadata": {
    "tags": []
   },
   "outputs": [],
   "source": [
    "layout = hv.Dataset(ft.analysis['uclamp_updates'].query(\"uclamp_id == 0\"), ['Time', hv.Dimension('wa_path', values=ft.wa_paths), 'iteration'], ['value']).select(\n",
    "    task='UnityMain'\n",
    ").to(hv.Curve, 'Time', 'value').overlay('wa_path').opts(shared_axes=False, title='CPU frequency & per-task uclamp over time')\n",
    "layout *= hv.Dataset(ft.analysis['freqs_adj'], ['Time', hv.Dimension('wa_path', values=ft.wa_paths), 'cpu', 'iteration'], ['frequency_scaled']).to(\n",
    "    hv.Curve, 'Time', 'frequency_scaled'\n",
    ").overlay('wa_path').opts(shared_axes=False)\n",
    "\n",
    "layout.opts(\n",
    "    opts.Curve(height=600, width=1600, interpolation='steps-post', framewise=True)\n",
    ")\n",
    "layout"
   ]
  },
  {
   "cell_type": "markdown",
   "metadata": {},
   "source": [
    "# Task placement (activations)"
   ]
  },
  {
   "cell_type": "code",
   "execution_count": null,
   "metadata": {
    "tags": []
   },
   "outputs": [],
   "source": [
    "# select all tasks specified in the config by default\n",
    "plot_tasks = ft.config['processor']['important_tasks']['fortnite'].get()\n",
    "# override to select fewer tasks - must be a subset of the above\n",
    "plot_tasks = ['GameThread', 'RHIThread', 'RenderThread 0', 'surfaceflinger', 'mali_jd_thread', 'RenderEngine']\n",
    "\n",
    "def postprocess_task_activations_stats_cluster_df(df):\n",
    "    return df.query(\"comm in @plot_tasks\").reset_index(drop=True)\n",
    "\n",
    "ft.load_combined_analysis('task_activations_stats_cluster.pqt', postprocess=postprocess_task_activations_stats_cluster_df)\n",
    "ft.analysis['task_activations_stats_cluster_melt'] = pd.melt(ft.analysis['task_activations_stats_cluster'], id_vars=['kernel', 'wa_path', 'iteration', 'cluster', 'comm'], value_vars=['count', 'duration'])\n",
    "ft.analysis['task_activations_stats_cluster_melt']"
   ]
  },
  {
   "cell_type": "markdown",
   "metadata": {},
   "source": [
    "## Overview"
   ]
  },
  {
   "cell_type": "markdown",
   "metadata": {
    "tags": []
   },
   "source": [
    "### Line plots - counts"
   ]
  },
  {
   "cell_type": "code",
   "execution_count": null,
   "metadata": {
    "tags": []
   },
   "outputs": [],
   "source": [
    "for task, task_df in ft.analysis['task_activations_stats_cluster'].groupby('comm'):\n",
    "    ft.plot_lines_px(task_df, x='iteration', y='count', color='wa_path', facet_col='cluster', facet_col_wrap=3, height=500, scale_y=True, title=f'Activations of {task} per cluster across iterations')"
   ]
  },
  {
   "cell_type": "markdown",
   "metadata": {},
   "source": [
    "### Line plots - durations"
   ]
  },
  {
   "cell_type": "code",
   "execution_count": null,
   "metadata": {
    "tags": []
   },
   "outputs": [],
   "source": [
    "for task, task_df in ft.analysis['task_activations_stats_cluster'].groupby('comm'):\n",
    "    ft.plot_lines_px(task_df, x='iteration', y='duration', color='wa_path', facet_col='cluster', facet_col_wrap=3, height=500, scale_y=True, title=f'Activation durations of {task} per cluster across iterations')"
   ]
  },
  {
   "cell_type": "markdown",
   "metadata": {},
   "source": [
    "### Bar plot - counts"
   ]
  },
  {
   "cell_type": "code",
   "execution_count": null,
   "metadata": {
    "tags": []
   },
   "outputs": [],
   "source": [
    "ft.summary['activations_stats_count'] = ft.plot_gmean_bars(\n",
    "    ft.analysis['task_activations_stats_cluster_melt'].query(\"variable == 'count'\").reset_index(drop=True),\n",
    "    x='cluster', facet_col='comm', facet_col_wrap=3, title='Gmean task activation counts', height=1000, include_columns=['cluster'], order_cluster=True\n",
    ")"
   ]
  },
  {
   "cell_type": "markdown",
   "metadata": {},
   "source": [
    "### Bar plot - durations"
   ]
  },
  {
   "cell_type": "code",
   "execution_count": null,
   "metadata": {
    "tags": []
   },
   "outputs": [],
   "source": [
    "ft.summary['activations_stats_durations'] = ft.plot_gmean_bars(\n",
    "    ft.analysis['task_activations_stats_cluster_melt'].query(\"variable == 'duration'\").reset_index(drop=True),\n",
    "    x='cluster', facet_col='comm', facet_col_wrap=3, title='Gmean task activation durations', height=1000, include_columns=['cluster'], order_cluster=True\n",
    ")"
   ]
  }
 ],
 "metadata": {
  "kernelspec": {
   "display_name": "Python 3 (ipykernel)",
   "language": "python",
   "name": "python3"
  },
  "language_info": {
   "codemirror_mode": {
    "name": "ipython",
    "version": 3
   },
   "file_extension": ".py",
   "mimetype": "text/x-python",
   "name": "python",
   "nbconvert_exporter": "python",
   "pygments_lexer": "ipython3",
   "version": "3.8.10"
  }
 },
 "nbformat": 4,
 "nbformat_minor": 4
}
