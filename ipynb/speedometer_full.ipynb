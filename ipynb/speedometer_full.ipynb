{
 "cells": [
  {
   "cell_type": "markdown",
   "id": "ff00232a-a2be-48c0-8937-abe3a0e99418",
   "metadata": {},
   "source": [
    "# Setup"
   ]
  },
  {
   "cell_type": "code",
   "execution_count": null,
   "id": "cecd20c6-2560-4f7a-9df2-c9a1413b7452",
   "metadata": {
    "tags": []
   },
   "outputs": [],
   "source": [
    "import os\n",
    "import logging as log\n",
    "\n",
    "from lisa.utils import setup_logging\n",
    "setup_logging(level=log.ERROR)\n",
    "\n",
    "from lisa.trace import Trace\n",
    "from lisa.wa import WAOutput\n",
    "from lisa.stats import Stats\n",
    "from lisa.datautils import series_mean\n",
    "from pandas import DataFrame\n",
    "import pandas as pd\n",
    "import scipy as sp\n",
    "import numpy as np\n",
    "import plotly.express as px\n",
    "import plotly.io as pio\n",
    "import plotly.graph_objects as go\n",
    "import holoviews as hv\n",
    "from holoviews import opts\n",
    "from bokeh.themes import built_in_themes\n",
    "from tabulate import tabulate\n",
    "\n",
    "from holoviews.operation.datashader import datashade, rasterize\n",
    "from holoviews.operation import decimate\n",
    "\n",
    "from wp.notebook import WorkloadNotebookAnalysis, setup_notebook\n",
    "\n",
    "setup_notebook()"
   ]
  },
  {
   "cell_type": "markdown",
   "id": "41e20065-b59c-4d93-9fc2-d828c929f174",
   "metadata": {},
   "source": [
    "## Runs"
   ]
  },
  {
   "cell_type": "code",
   "execution_count": null,
   "id": "f10a2149-063b-41e2-b974-8ee64d8d9a79",
   "metadata": {
    "tags": []
   },
   "outputs": [],
   "source": [
    "sp = WorkloadNotebookAnalysis('/home/kajpuc01/power/pixel6/speedometer/', [\n",
    "    'speedometer_baseline_ufc_10_1001',\n",
    "    'speedometer_ufc_patched_no_thermal_10_2101',\n",
    "])\n",
    "\n",
    "sp.show()"
   ]
  },
  {
   "cell_type": "markdown",
   "id": "f367aadf-d0db-46a7-a147-246d17358d65",
   "metadata": {},
   "source": [
    "# Benchmark scores"
   ]
  },
  {
   "cell_type": "markdown",
   "id": "9f67f101-e3b1-49c2-8628-b739d90a1785",
   "metadata": {},
   "source": [
    "## Line plot"
   ]
  },
  {
   "cell_type": "code",
   "execution_count": null,
   "id": "31bcdb31-01dd-46bf-ab44-fb545c218bf5",
   "metadata": {
    "tags": []
   },
   "outputs": [],
   "source": [
    "sp.plot.results_line(['Speedometer Score'])"
   ]
  },
  {
   "cell_type": "markdown",
   "id": "a0767de4-b599-4321-aedb-c335d9ac730b",
   "metadata": {},
   "source": [
    "## Bar plot"
   ]
  },
  {
   "cell_type": "code",
   "execution_count": null,
   "id": "e166d27b-6b76-40d8-b5b4-f382f3bed602",
   "metadata": {
    "tags": []
   },
   "outputs": [],
   "source": [
    "sp.plot.results_bar(['Speedometer Score'], width=1000)"
   ]
  },
  {
   "cell_type": "markdown",
   "id": "b8ee1451-a65c-4a09-997e-b06095902877",
   "metadata": {},
   "source": [
    "# Overutilized"
   ]
  },
  {
   "cell_type": "markdown",
   "id": "ddaddd4f-67c9-4f00-b485-d800c59ad15e",
   "metadata": {},
   "source": [
    "## Line plot"
   ]
  },
  {
   "cell_type": "code",
   "execution_count": null,
   "id": "3c492e46-3361-4df5-9beb-1ad4a8e23148",
   "metadata": {
    "tags": []
   },
   "outputs": [],
   "source": [
    "sp.plot.overutilized_line()"
   ]
  },
  {
   "cell_type": "markdown",
   "id": "41063ef2-6933-4a5f-9a4d-3c2102e2b051",
   "metadata": {},
   "source": [
    "# Perf"
   ]
  },
  {
   "cell_type": "markdown",
   "id": "10eaab41-98e1-4510-8104-afdab8d7ea89",
   "metadata": {},
   "source": [
    "## Line plot"
   ]
  },
  {
   "cell_type": "code",
   "execution_count": null,
   "id": "76015fad-1b2c-42b3-b51a-ef3fa2e213fd",
   "metadata": {
    "tags": []
   },
   "outputs": [],
   "source": [
    "sp.plot.perf_line()"
   ]
  },
  {
   "cell_type": "markdown",
   "id": "27799672-3e88-4d8f-872a-744661ac5fde",
   "metadata": {},
   "source": [
    "## Bar plot"
   ]
  },
  {
   "cell_type": "code",
   "execution_count": null,
   "id": "ab6e024f-4504-4243-bd80-77ae9412d8d4",
   "metadata": {},
   "outputs": [],
   "source": [
    "sp.plot.perf_bar()"
   ]
  },
  {
   "cell_type": "markdown",
   "id": "90d8f0fb-a413-47eb-8fcf-e026f976d67c",
   "metadata": {},
   "source": [
    "# Idle residency"
   ]
  },
  {
   "cell_type": "markdown",
   "id": "9265a2af-4f08-4767-8c36-4cc794d50d4a",
   "metadata": {},
   "source": [
    "## Bar plot"
   ]
  },
  {
   "cell_type": "code",
   "execution_count": null,
   "id": "90f46686-8970-4799-b7f0-af4b5ccefd8d",
   "metadata": {
    "tags": []
   },
   "outputs": [],
   "source": [
    "sp.plot.idle_residency_bar()"
   ]
  },
  {
   "cell_type": "markdown",
   "id": "c5a0e4a6-30a9-42fd-bfad-5f4da92e96b8",
   "metadata": {},
   "source": [
    "# Idle misses"
   ]
  },
  {
   "cell_type": "markdown",
   "id": "85154dbd-7e6d-42e5-ab77-ca8bf244d810",
   "metadata": {},
   "source": [
    "## Bar plot"
   ]
  },
  {
   "cell_type": "code",
   "execution_count": null,
   "id": "679c5afc-1453-413a-adba-b2bd7d576733",
   "metadata": {
    "tags": []
   },
   "outputs": [],
   "source": [
    "sp.plot.idle_miss_bar()"
   ]
  },
  {
   "cell_type": "markdown",
   "id": "ef18dfd4-9020-4666-8cb9-55021e206840",
   "metadata": {},
   "source": [
    "# Power usage"
   ]
  },
  {
   "cell_type": "markdown",
   "id": "2b6618dc-34d2-4f55-937a-0644ad9424ae",
   "metadata": {},
   "source": [
    "## Line plot"
   ]
  },
  {
   "cell_type": "code",
   "execution_count": null,
   "id": "c685f954-5ca3-4cdd-ae40-72c2d45ff510",
   "metadata": {
    "tags": []
   },
   "outputs": [],
   "source": [
    "sp.plot.power_meter_line()"
   ]
  },
  {
   "cell_type": "markdown",
   "id": "bf5eb606-bc8e-4b3e-8bab-2e11eb28d6e4",
   "metadata": {},
   "source": [
    "## Bar plot"
   ]
  },
  {
   "cell_type": "code",
   "execution_count": null,
   "id": "f3a2de01-0fee-4f19-ba49-aa99c3e59430",
   "metadata": {
    "tags": []
   },
   "outputs": [],
   "source": [
    "sp.plot.power_meter_bar()"
   ]
  },
  {
   "cell_type": "markdown",
   "id": "b3aa9c3b-0b24-44ca-83f0-5937eefd4cb1",
   "metadata": {},
   "source": [
    "# Energy estimate"
   ]
  },
  {
   "cell_type": "markdown",
   "id": "3a1f40fd-4b60-45bb-80be-5b6424d6dce7",
   "metadata": {},
   "source": [
    "## Line plot"
   ]
  },
  {
   "cell_type": "code",
   "execution_count": null,
   "id": "06c9526d-9c13-4dd2-bfbf-dd016c38740d",
   "metadata": {
    "tags": []
   },
   "outputs": [],
   "source": [
    "sp.plot.energy_estimate_line()"
   ]
  },
  {
   "cell_type": "markdown",
   "id": "99c3cec1-d721-4c3c-a3a3-310be70ea641",
   "metadata": {},
   "source": [
    "## Bar plot"
   ]
  },
  {
   "cell_type": "code",
   "execution_count": null,
   "id": "0543d5b9-a7f1-4fdf-94b7-6c4301860df0",
   "metadata": {
    "tags": []
   },
   "outputs": [],
   "source": [
    "sp.plot.energy_estimate_bar()"
   ]
  },
  {
   "cell_type": "markdown",
   "id": "13c462a9-a006-4d33-81e7-0b63325c75c4",
   "metadata": {},
   "source": [
    "# Thermal"
   ]
  },
  {
   "cell_type": "markdown",
   "id": "c0efab5b-80b0-4e5a-a076-b62a1508a492",
   "metadata": {},
   "source": [
    "## Line plot"
   ]
  },
  {
   "cell_type": "code",
   "execution_count": null,
   "id": "8d11d42f-6073-486b-98ab-658d0104f8ca",
   "metadata": {
    "tags": []
   },
   "outputs": [],
   "source": [
    "sp.plot.thermal_line()"
   ]
  },
  {
   "cell_type": "markdown",
   "id": "5f266d7a-2386-445f-8987-d0baaefb3a5b",
   "metadata": {},
   "source": [
    "## Bar plot"
   ]
  },
  {
   "cell_type": "code",
   "execution_count": null,
   "id": "71afecc5-68f5-429e-b9b8-f359a9aebfe1",
   "metadata": {
    "tags": []
   },
   "outputs": [],
   "source": [
    "sp.plot.thermal_bar()"
   ]
  },
  {
   "cell_type": "markdown",
   "id": "fdc02cb0-0bcc-4367-bc37-8120108ec70e",
   "metadata": {},
   "source": [
    "# Frequency"
   ]
  },
  {
   "cell_type": "markdown",
   "id": "b8d1e3ef-7665-4b99-b3b8-3c8bec6dc4b7",
   "metadata": {},
   "source": [
    "## Line plot"
   ]
  },
  {
   "cell_type": "code",
   "execution_count": null,
   "id": "bca933d3-916d-4656-9613-9aa991b708f7",
   "metadata": {
    "tags": []
   },
   "outputs": [],
   "source": [
    "sp.plot.frequency_line()"
   ]
  },
  {
   "cell_type": "markdown",
   "id": "cc2e2bc5-5ddc-4627-850d-e5e27b683e53",
   "metadata": {},
   "source": [
    "## Bar plot"
   ]
  },
  {
   "cell_type": "code",
   "execution_count": null,
   "id": "bbb72d9b-f40f-4428-a8bd-0cd2e19d7989",
   "metadata": {
    "tags": []
   },
   "outputs": [],
   "source": [
    "sp.plot.frequency_bar()"
   ]
  },
  {
   "cell_type": "markdown",
   "id": "c93c6cb7-86e9-4a3d-afa0-792aa953c70f",
   "metadata": {},
   "source": [
    "# CFS signals"
   ]
  },
  {
   "cell_type": "markdown",
   "id": "9b528221-8603-4227-9493-d5062d9c18ef",
   "metadata": {},
   "source": [
    "## Line plot"
   ]
  },
  {
   "cell_type": "code",
   "execution_count": null,
   "id": "2f5bb4c6-fc80-47ac-ad0c-2af15505b546",
   "metadata": {
    "tags": []
   },
   "outputs": [],
   "source": [
    "sp.plot.sched_pelt_cfs_line()"
   ]
  },
  {
   "cell_type": "markdown",
   "id": "f1f95971-59c6-45d4-9895-937c42fb082c",
   "metadata": {},
   "source": [
    "## Bar plot"
   ]
  },
  {
   "cell_type": "code",
   "execution_count": null,
   "id": "28bc087f-c2a2-4061-835f-eeeda2e757c0",
   "metadata": {
    "tags": []
   },
   "outputs": [],
   "source": [
    "sp.plot.sched_pelt_cfs_bar()"
   ]
  },
  {
   "cell_type": "markdown",
   "id": "888beb4e-4dff-459b-b859-edcb9d1e7c70",
   "metadata": {},
   "source": [
    "# Wakeup latency - tasks"
   ]
  },
  {
   "cell_type": "markdown",
   "id": "917600bb-5af9-4450-9c1d-54b2f3234ff5",
   "metadata": {},
   "source": [
    "## Line plot"
   ]
  },
  {
   "cell_type": "code",
   "execution_count": null,
   "id": "c58193a2-e34c-4ed6-87a6-0c18269a8d61",
   "metadata": {
    "tags": []
   },
   "outputs": [],
   "source": [
    "sp.plot.wakeup_latency_line(height=1100, columns=4)"
   ]
  },
  {
   "cell_type": "markdown",
   "id": "c8520262-13e3-41e7-bcf1-e11d6809171f",
   "metadata": {},
   "source": [
    "## Bar plot"
   ]
  },
  {
   "cell_type": "code",
   "execution_count": null,
   "id": "98746075-e7c0-4f43-a4ab-4bc7d621799b",
   "metadata": {},
   "outputs": [],
   "source": [
    "sp.plot.wakeup_latency_bar(height=1000, columns=4)"
   ]
  },
  {
   "cell_type": "markdown",
   "id": "0469ac47-0916-4c39-8cb4-3adbd3cf15f4",
   "metadata": {},
   "source": [
    "## Quantiles"
   ]
  },
  {
   "cell_type": "code",
   "execution_count": null,
   "id": "284bc498-67ab-451d-be44-1b47a496fc3a",
   "metadata": {},
   "outputs": [],
   "source": [
    "sp.plot.wakeup_latency_quantiles_bar(height=2000, columns=2)"
   ]
  },
  {
   "cell_type": "markdown",
   "id": "715845e3-707b-43c7-94a0-5bd6c0828854",
   "metadata": {},
   "source": [
    "# Wakeup latency - cgroups"
   ]
  },
  {
   "cell_type": "markdown",
   "id": "d3c85d70-d162-4fd3-8a99-e86a67d8d503",
   "metadata": {},
   "source": [
    "## Line plot"
   ]
  },
  {
   "cell_type": "code",
   "execution_count": null,
   "id": "57afcf78-f2eb-4b22-b838-74378d7f1cd0",
   "metadata": {},
   "outputs": [],
   "source": [
    "sp.plot.wakeup_latency_cgroup_line()"
   ]
  },
  {
   "cell_type": "markdown",
   "id": "ed4c9c36-785f-4911-b3a2-c756a4c2093b",
   "metadata": {},
   "source": [
    "## Bar plot"
   ]
  },
  {
   "cell_type": "code",
   "execution_count": null,
   "id": "2f4a97b2-0f20-44d5-ad7b-326b3e21e5fa",
   "metadata": {},
   "outputs": [],
   "source": [
    "sp.plot.wakeup_latency_cgroup_bar()"
   ]
  },
  {
   "cell_type": "markdown",
   "id": "6cb3b92e-451f-4f4c-8037-737b9c7838ce",
   "metadata": {},
   "source": [
    "## Quantiles"
   ]
  },
  {
   "cell_type": "code",
   "execution_count": null,
   "id": "df61d574-8ac5-44ca-a982-cb3d5a993177",
   "metadata": {},
   "outputs": [],
   "source": [
    "sp.plot.wakeup_latency_cgroup_quantiles_bar()"
   ]
  },
  {
   "cell_type": "markdown",
   "id": "071d730b-7730-4b56-af1e-87b71aced5fb",
   "metadata": {},
   "source": [
    "# CPU residency - tasks"
   ]
  },
  {
   "cell_type": "markdown",
   "id": "116e35e0-20b8-407f-84d8-e6d3240665b4",
   "metadata": {},
   "source": [
    "## Clusters - Line plot"
   ]
  },
  {
   "cell_type": "code",
   "execution_count": null,
   "id": "94294653-5942-4f60-bb0a-a68f8a57d6ba",
   "metadata": {},
   "outputs": [],
   "source": [
    "sp.plot.tasks_cpu_residency_cluster_line()"
   ]
  },
  {
   "cell_type": "markdown",
   "id": "520f8d16-035d-4f97-82c1-52b7bee677a5",
   "metadata": {},
   "source": [
    "## Clusters - Bar plot"
   ]
  },
  {
   "cell_type": "code",
   "execution_count": null,
   "id": "49267373-ac8d-4518-a703-8da7130e2989",
   "metadata": {},
   "outputs": [],
   "source": [
    "sp.plot.tasks_cpu_residency_cluster_bar()"
   ]
  },
  {
   "cell_type": "markdown",
   "id": "c89183fe",
   "metadata": {},
   "source": [
    "## Clusters - Per-task bar plot"
   ]
  },
  {
   "cell_type": "code",
   "execution_count": null,
   "id": "3e98d950",
   "metadata": {},
   "outputs": [],
   "source": [
    "sp.plot.tasks_cpu_residency_per_task_bar()"
   ]
  },
  {
   "cell_type": "markdown",
   "id": "2a2c46b9-c9c9-4176-9b8b-733a3fdffaae",
   "metadata": {},
   "source": [
    "## CPUs - Bar plot"
   ]
  },
  {
   "cell_type": "code",
   "execution_count": null,
   "id": "2c746e1b-6642-406b-a179-8ac98cfaea90",
   "metadata": {},
   "outputs": [],
   "source": [
    "sp.plot.tasks_cpu_residency_cpu_bar()"
   ]
  },
  {
   "cell_type": "markdown",
   "id": "57b67ec5-34ee-45e5-960e-3d8ab4ceee51",
   "metadata": {},
   "source": [
    "# CPU residency - cgroups"
   ]
  },
  {
   "cell_type": "markdown",
   "id": "882c6eec-b49b-4421-9149-4e90eeeba886",
   "metadata": {},
   "source": [
    "## Clusters - Bar plot"
   ]
  },
  {
   "cell_type": "code",
   "execution_count": null,
   "id": "b2df4561-2490-4bbe-8947-7cbe35fcc848",
   "metadata": {},
   "outputs": [],
   "source": [
    "sp.plot.cgroup_cpu_residency_cluster_bar()"
   ]
  },
  {
   "cell_type": "markdown",
   "id": "821f2291-8095-48de-a0d5-73f09d5f3800",
   "metadata": {},
   "source": [
    "## CPUs - Bar plot"
   ]
  },
  {
   "cell_type": "code",
   "execution_count": null,
   "id": "7610cdb2-5440-421d-a89a-d366c0ca58fb",
   "metadata": {},
   "outputs": [],
   "source": [
    "sp.plot.cgroup_cpu_residency_cpu()"
   ]
  },
  {
   "cell_type": "markdown",
   "id": "0ab1bb42",
   "metadata": {},
   "source": [
    "# Summary - TLDR"
   ]
  },
  {
   "cell_type": "code",
   "execution_count": null,
   "id": "98edf776",
   "metadata": {},
   "outputs": [],
   "source": [
    "sp.plot.summary()"
   ]
  }
 ],
 "metadata": {
  "kernelspec": {
   "display_name": "Python 3 (ipykernel)",
   "language": "python",
   "name": "python3"
  },
  "language_info": {
   "codemirror_mode": {
    "name": "ipython",
    "version": 3
   },
   "file_extension": ".py",
   "mimetype": "text/x-python",
   "name": "python",
   "nbconvert_exporter": "python",
   "pygments_lexer": "ipython3",
   "version": "3.8.10"
  }
 },
 "nbformat": 4,
 "nbformat_minor": 5
}
